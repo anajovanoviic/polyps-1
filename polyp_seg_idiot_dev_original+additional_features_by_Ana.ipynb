{
  "nbformat": 4,
  "nbformat_minor": 0,
  "metadata": {
    "colab": {
      "provenance": [],
      "gpuType": "T4",
      "mount_file_id": "1dnVmj2uGPj8WsTLigkAj3sfNBJ6w1T8Q",
      "authorship_tag": "ABX9TyO6WPgJo6i3RGPOnocwJkJn",
      "include_colab_link": true
    },
    "kernelspec": {
      "name": "python3",
      "display_name": "Python 3"
    },
    "language_info": {
      "name": "python"
    },
    "accelerator": "GPU"
  },
  "cells": [
    {
      "cell_type": "markdown",
      "metadata": {
        "id": "view-in-github",
        "colab_type": "text"
      },
      "source": [
        "<a href=\"https://colab.research.google.com/github/anajovanoviic/polyps-1/blob/master/polyp_seg_idiot_dev_original%2Badditional_features_by_Ana.ipynb\" target=\"_parent\"><img src=\"https://colab.research.google.com/assets/colab-badge.svg\" alt=\"Open In Colab\"/></a>"
      ]
    },
    {
      "cell_type": "code",
      "execution_count": null,
      "metadata": {
        "id": "mcVtgDGwmnhT"
      },
      "outputs": [],
      "source": [
        "from google.colab import drive"
      ]
    },
    {
      "cell_type": "code",
      "source": [
        "drive.mount('/content/drive/')"
      ],
      "metadata": {
        "colab": {
          "base_uri": "https://localhost:8080/"
        },
        "id": "AaFF5Y9sm2R-",
        "outputId": "4927059e-2f6f-4d8a-d1aa-afa6c540d2cf"
      },
      "execution_count": null,
      "outputs": [
        {
          "output_type": "stream",
          "name": "stdout",
          "text": [
            "Mounted at /content/drive/\n"
          ]
        }
      ]
    },
    {
      "cell_type": "code",
      "source": [
        "%cd '/content/drive/My Drive/'"
      ],
      "metadata": {
        "colab": {
          "base_uri": "https://localhost:8080/"
        },
        "id": "YHe_Fy2Tm7hG",
        "outputId": "44d6ecae-3d13-4dfa-cf04-337d830804aa"
      },
      "execution_count": null,
      "outputs": [
        {
          "output_type": "stream",
          "name": "stdout",
          "text": [
            "/content/drive/My Drive\n"
          ]
        }
      ]
    },
    {
      "cell_type": "code",
      "source": [
        "%cd 'Master/polyp-seg-idiot-dev-original+additional-features-by-Ana'"
      ],
      "metadata": {
        "colab": {
          "base_uri": "https://localhost:8080/"
        },
        "id": "i2Oynb9nTPlO",
        "outputId": "c830f390-7394-4540-baed-71353333d30b"
      },
      "execution_count": null,
      "outputs": [
        {
          "output_type": "stream",
          "name": "stdout",
          "text": [
            "/content/drive/My Drive/Master/polyp-seg-idiot-dev-original+additional-features-by-Ana\n"
          ]
        }
      ]
    },
    {
      "cell_type": "code",
      "source": [
        "%run data_start.py"
      ],
      "metadata": {
        "colab": {
          "base_uri": "https://localhost:8080/",
          "height": 397
        },
        "id": "OtKUHwhMTcIs",
        "outputId": "c81a9f41-41dd-463c-b097-2af8c491e0fb"
      },
      "execution_count": null,
      "outputs": [
        {
          "output_type": "stream",
          "name": "stdout",
          "text": [
            "\n"
          ]
        },
        {
          "output_type": "error",
          "ename": "KeyboardInterrupt",
          "evalue": "ignored",
          "traceback": [
            "\u001b[0;31m---------------------------------------------------------------------------\u001b[0m",
            "\u001b[0;31mKeyboardInterrupt\u001b[0m                         Traceback (most recent call last)",
            "\u001b[0;32m/content/drive/My Drive/Master/polyp-seg-idiot-dev-original+additional-features-by-Ana/data_start.py\u001b[0m in \u001b[0;36m<module>\u001b[0;34m\u001b[0m\n\u001b[1;32m     75\u001b[0m     \u001b[0;31m#path = \"PNG\"\u001b[0m\u001b[0;34m\u001b[0m\u001b[0;34m\u001b[0m\u001b[0m\n\u001b[1;32m     76\u001b[0m     \u001b[0mpath\u001b[0m \u001b[0;34m=\u001b[0m \u001b[0;34m\"/content/drive/MyDrive/Master/polypsIdiot/PNG\"\u001b[0m\u001b[0;34m\u001b[0m\u001b[0;34m\u001b[0m\u001b[0m\n\u001b[0;32m---> 77\u001b[0;31m     \u001b[0;34m(\u001b[0m\u001b[0mtrain_x\u001b[0m\u001b[0;34m,\u001b[0m \u001b[0mtrain_y\u001b[0m\u001b[0;34m)\u001b[0m\u001b[0;34m,\u001b[0m \u001b[0;34m(\u001b[0m\u001b[0mvalid_x\u001b[0m\u001b[0;34m,\u001b[0m \u001b[0mvalid_y\u001b[0m\u001b[0;34m)\u001b[0m\u001b[0;34m,\u001b[0m \u001b[0;34m(\u001b[0m\u001b[0mtest_x\u001b[0m\u001b[0;34m,\u001b[0m \u001b[0mtest_y\u001b[0m\u001b[0;34m)\u001b[0m \u001b[0;34m=\u001b[0m \u001b[0mload_data\u001b[0m\u001b[0;34m(\u001b[0m\u001b[0mpath\u001b[0m\u001b[0;34m)\u001b[0m\u001b[0;34m\u001b[0m\u001b[0;34m\u001b[0m\u001b[0m\n\u001b[0m\u001b[1;32m     78\u001b[0m     \u001b[0mprint\u001b[0m\u001b[0;34m(\u001b[0m\u001b[0mlen\u001b[0m\u001b[0;34m(\u001b[0m\u001b[0mtrain_x\u001b[0m\u001b[0;34m)\u001b[0m\u001b[0;34m,\u001b[0m \u001b[0mlen\u001b[0m\u001b[0;34m(\u001b[0m\u001b[0mvalid_x\u001b[0m\u001b[0;34m)\u001b[0m\u001b[0;34m,\u001b[0m \u001b[0mlen\u001b[0m\u001b[0;34m(\u001b[0m\u001b[0mtest_x\u001b[0m\u001b[0;34m)\u001b[0m\u001b[0;34m)\u001b[0m\u001b[0;34m\u001b[0m\u001b[0;34m\u001b[0m\u001b[0m\n\u001b[1;32m     79\u001b[0m \u001b[0;34m\u001b[0m\u001b[0m\n",
            "\u001b[0;32m/content/drive/My Drive/Master/polyp-seg-idiot-dev-original+additional-features-by-Ana/data_start.py\u001b[0m in \u001b[0;36mload_data\u001b[0;34m(path, split)\u001b[0m\n\u001b[1;32m     16\u001b[0m \u001b[0;34m\u001b[0m\u001b[0m\n\u001b[1;32m     17\u001b[0m     \u001b[0;31m# list of images and masks\u001b[0m\u001b[0;34m\u001b[0m\u001b[0;34m\u001b[0m\u001b[0m\n\u001b[0;32m---> 18\u001b[0;31m     \u001b[0mimages\u001b[0m \u001b[0;34m=\u001b[0m \u001b[0msorted\u001b[0m\u001b[0;34m(\u001b[0m\u001b[0mglob\u001b[0m\u001b[0;34m(\u001b[0m\u001b[0mos\u001b[0m\u001b[0;34m.\u001b[0m\u001b[0mpath\u001b[0m\u001b[0;34m.\u001b[0m\u001b[0mjoin\u001b[0m\u001b[0;34m(\u001b[0m\u001b[0mpath\u001b[0m\u001b[0;34m,\u001b[0m \u001b[0;34m\"Original/*\"\u001b[0m\u001b[0;34m)\u001b[0m\u001b[0;34m)\u001b[0m\u001b[0;34m)\u001b[0m\u001b[0;34m\u001b[0m\u001b[0;34m\u001b[0m\u001b[0m\n\u001b[0m\u001b[1;32m     19\u001b[0m     \u001b[0mmasks\u001b[0m \u001b[0;34m=\u001b[0m \u001b[0msorted\u001b[0m\u001b[0;34m(\u001b[0m\u001b[0mglob\u001b[0m\u001b[0;34m(\u001b[0m\u001b[0mos\u001b[0m\u001b[0;34m.\u001b[0m\u001b[0mpath\u001b[0m\u001b[0;34m.\u001b[0m\u001b[0mjoin\u001b[0m\u001b[0;34m(\u001b[0m\u001b[0mpath\u001b[0m\u001b[0;34m,\u001b[0m \u001b[0;34m\"groundTruth/*\"\u001b[0m\u001b[0;34m)\u001b[0m\u001b[0;34m)\u001b[0m\u001b[0;34m)\u001b[0m\u001b[0;34m\u001b[0m\u001b[0;34m\u001b[0m\u001b[0m\n\u001b[1;32m     20\u001b[0m \u001b[0;34m\u001b[0m\u001b[0m\n",
            "\u001b[0;32m/usr/lib/python3.10/glob.py\u001b[0m in \u001b[0;36mglob\u001b[0;34m(pathname, root_dir, dir_fd, recursive)\u001b[0m\n\u001b[1;32m     22\u001b[0m     \u001b[0mzero\u001b[0m \u001b[0;32mor\u001b[0m \u001b[0mmore\u001b[0m \u001b[0mdirectories\u001b[0m \u001b[0;32mand\u001b[0m \u001b[0msubdirectories\u001b[0m\u001b[0;34m.\u001b[0m\u001b[0;34m\u001b[0m\u001b[0;34m\u001b[0m\u001b[0m\n\u001b[1;32m     23\u001b[0m     \"\"\"\n\u001b[0;32m---> 24\u001b[0;31m     \u001b[0;32mreturn\u001b[0m \u001b[0mlist\u001b[0m\u001b[0;34m(\u001b[0m\u001b[0miglob\u001b[0m\u001b[0;34m(\u001b[0m\u001b[0mpathname\u001b[0m\u001b[0;34m,\u001b[0m \u001b[0mroot_dir\u001b[0m\u001b[0;34m=\u001b[0m\u001b[0mroot_dir\u001b[0m\u001b[0;34m,\u001b[0m \u001b[0mdir_fd\u001b[0m\u001b[0;34m=\u001b[0m\u001b[0mdir_fd\u001b[0m\u001b[0;34m,\u001b[0m \u001b[0mrecursive\u001b[0m\u001b[0;34m=\u001b[0m\u001b[0mrecursive\u001b[0m\u001b[0;34m)\u001b[0m\u001b[0;34m)\u001b[0m\u001b[0;34m\u001b[0m\u001b[0;34m\u001b[0m\u001b[0m\n\u001b[0m\u001b[1;32m     25\u001b[0m \u001b[0;34m\u001b[0m\u001b[0m\n\u001b[1;32m     26\u001b[0m \u001b[0;32mdef\u001b[0m \u001b[0miglob\u001b[0m\u001b[0;34m(\u001b[0m\u001b[0mpathname\u001b[0m\u001b[0;34m,\u001b[0m \u001b[0;34m*\u001b[0m\u001b[0;34m,\u001b[0m \u001b[0mroot_dir\u001b[0m\u001b[0;34m=\u001b[0m\u001b[0;32mNone\u001b[0m\u001b[0;34m,\u001b[0m \u001b[0mdir_fd\u001b[0m\u001b[0;34m=\u001b[0m\u001b[0;32mNone\u001b[0m\u001b[0;34m,\u001b[0m \u001b[0mrecursive\u001b[0m\u001b[0;34m=\u001b[0m\u001b[0;32mFalse\u001b[0m\u001b[0;34m)\u001b[0m\u001b[0;34m:\u001b[0m\u001b[0;34m\u001b[0m\u001b[0;34m\u001b[0m\u001b[0m\n",
            "\u001b[0;32m/usr/lib/python3.10/glob.py\u001b[0m in \u001b[0;36m_iglob\u001b[0;34m(pathname, root_dir, dir_fd, recursive, dironly)\u001b[0m\n\u001b[1;32m     84\u001b[0m         \u001b[0mglob_in_dir\u001b[0m \u001b[0;34m=\u001b[0m \u001b[0m_glob0\u001b[0m\u001b[0;34m\u001b[0m\u001b[0;34m\u001b[0m\u001b[0m\n\u001b[1;32m     85\u001b[0m     \u001b[0;32mfor\u001b[0m \u001b[0mdirname\u001b[0m \u001b[0;32min\u001b[0m \u001b[0mdirs\u001b[0m\u001b[0;34m:\u001b[0m\u001b[0;34m\u001b[0m\u001b[0;34m\u001b[0m\u001b[0m\n\u001b[0;32m---> 86\u001b[0;31m         \u001b[0;32mfor\u001b[0m \u001b[0mname\u001b[0m \u001b[0;32min\u001b[0m \u001b[0mglob_in_dir\u001b[0m\u001b[0;34m(\u001b[0m\u001b[0m_join\u001b[0m\u001b[0;34m(\u001b[0m\u001b[0mroot_dir\u001b[0m\u001b[0;34m,\u001b[0m \u001b[0mdirname\u001b[0m\u001b[0;34m)\u001b[0m\u001b[0;34m,\u001b[0m \u001b[0mbasename\u001b[0m\u001b[0;34m,\u001b[0m \u001b[0mdir_fd\u001b[0m\u001b[0;34m,\u001b[0m \u001b[0mdironly\u001b[0m\u001b[0;34m)\u001b[0m\u001b[0;34m:\u001b[0m\u001b[0;34m\u001b[0m\u001b[0;34m\u001b[0m\u001b[0m\n\u001b[0m\u001b[1;32m     87\u001b[0m             \u001b[0;32myield\u001b[0m \u001b[0mos\u001b[0m\u001b[0;34m.\u001b[0m\u001b[0mpath\u001b[0m\u001b[0;34m.\u001b[0m\u001b[0mjoin\u001b[0m\u001b[0;34m(\u001b[0m\u001b[0mdirname\u001b[0m\u001b[0;34m,\u001b[0m \u001b[0mname\u001b[0m\u001b[0;34m)\u001b[0m\u001b[0;34m\u001b[0m\u001b[0;34m\u001b[0m\u001b[0m\n\u001b[1;32m     88\u001b[0m \u001b[0;34m\u001b[0m\u001b[0m\n",
            "\u001b[0;32m/usr/lib/python3.10/glob.py\u001b[0m in \u001b[0;36m_glob1\u001b[0;34m(dirname, pattern, dir_fd, dironly)\u001b[0m\n\u001b[1;32m     92\u001b[0m \u001b[0;34m\u001b[0m\u001b[0m\n\u001b[1;32m     93\u001b[0m \u001b[0;32mdef\u001b[0m \u001b[0m_glob1\u001b[0m\u001b[0;34m(\u001b[0m\u001b[0mdirname\u001b[0m\u001b[0;34m,\u001b[0m \u001b[0mpattern\u001b[0m\u001b[0;34m,\u001b[0m \u001b[0mdir_fd\u001b[0m\u001b[0;34m,\u001b[0m \u001b[0mdironly\u001b[0m\u001b[0;34m)\u001b[0m\u001b[0;34m:\u001b[0m\u001b[0;34m\u001b[0m\u001b[0;34m\u001b[0m\u001b[0m\n\u001b[0;32m---> 94\u001b[0;31m     \u001b[0mnames\u001b[0m \u001b[0;34m=\u001b[0m \u001b[0m_listdir\u001b[0m\u001b[0;34m(\u001b[0m\u001b[0mdirname\u001b[0m\u001b[0;34m,\u001b[0m \u001b[0mdir_fd\u001b[0m\u001b[0;34m,\u001b[0m \u001b[0mdironly\u001b[0m\u001b[0;34m)\u001b[0m\u001b[0;34m\u001b[0m\u001b[0;34m\u001b[0m\u001b[0m\n\u001b[0m\u001b[1;32m     95\u001b[0m     \u001b[0;32mif\u001b[0m \u001b[0;32mnot\u001b[0m \u001b[0m_ishidden\u001b[0m\u001b[0;34m(\u001b[0m\u001b[0mpattern\u001b[0m\u001b[0;34m)\u001b[0m\u001b[0;34m:\u001b[0m\u001b[0;34m\u001b[0m\u001b[0;34m\u001b[0m\u001b[0m\n\u001b[1;32m     96\u001b[0m         \u001b[0mnames\u001b[0m \u001b[0;34m=\u001b[0m \u001b[0;34m(\u001b[0m\u001b[0mx\u001b[0m \u001b[0;32mfor\u001b[0m \u001b[0mx\u001b[0m \u001b[0;32min\u001b[0m \u001b[0mnames\u001b[0m \u001b[0;32mif\u001b[0m \u001b[0;32mnot\u001b[0m \u001b[0m_ishidden\u001b[0m\u001b[0;34m(\u001b[0m\u001b[0mx\u001b[0m\u001b[0;34m)\u001b[0m\u001b[0;34m)\u001b[0m\u001b[0;34m\u001b[0m\u001b[0;34m\u001b[0m\u001b[0m\n",
            "\u001b[0;32m/usr/lib/python3.10/glob.py\u001b[0m in \u001b[0;36m_listdir\u001b[0;34m(dirname, dir_fd, dironly)\u001b[0m\n\u001b[1;32m    162\u001b[0m \u001b[0;32mdef\u001b[0m \u001b[0m_listdir\u001b[0m\u001b[0;34m(\u001b[0m\u001b[0mdirname\u001b[0m\u001b[0;34m,\u001b[0m \u001b[0mdir_fd\u001b[0m\u001b[0;34m,\u001b[0m \u001b[0mdironly\u001b[0m\u001b[0;34m)\u001b[0m\u001b[0;34m:\u001b[0m\u001b[0;34m\u001b[0m\u001b[0;34m\u001b[0m\u001b[0m\n\u001b[1;32m    163\u001b[0m     \u001b[0;32mwith\u001b[0m \u001b[0mcontextlib\u001b[0m\u001b[0;34m.\u001b[0m\u001b[0mclosing\u001b[0m\u001b[0;34m(\u001b[0m\u001b[0m_iterdir\u001b[0m\u001b[0;34m(\u001b[0m\u001b[0mdirname\u001b[0m\u001b[0;34m,\u001b[0m \u001b[0mdir_fd\u001b[0m\u001b[0;34m,\u001b[0m \u001b[0mdironly\u001b[0m\u001b[0;34m)\u001b[0m\u001b[0;34m)\u001b[0m \u001b[0;32mas\u001b[0m \u001b[0mit\u001b[0m\u001b[0;34m:\u001b[0m\u001b[0;34m\u001b[0m\u001b[0;34m\u001b[0m\u001b[0m\n\u001b[0;32m--> 164\u001b[0;31m         \u001b[0;32mreturn\u001b[0m \u001b[0mlist\u001b[0m\u001b[0;34m(\u001b[0m\u001b[0mit\u001b[0m\u001b[0;34m)\u001b[0m\u001b[0;34m\u001b[0m\u001b[0;34m\u001b[0m\u001b[0m\n\u001b[0m\u001b[1;32m    165\u001b[0m \u001b[0;34m\u001b[0m\u001b[0m\n\u001b[1;32m    166\u001b[0m \u001b[0;31m# Recursively yields relative pathnames inside a literal directory.\u001b[0m\u001b[0;34m\u001b[0m\u001b[0;34m\u001b[0m\u001b[0m\n",
            "\u001b[0;32m/usr/lib/python3.10/glob.py\u001b[0m in \u001b[0;36m_iterdir\u001b[0;34m(dirname, dir_fd, dironly)\u001b[0m\n\u001b[1;32m    147\u001b[0m                 \u001b[0;32mfor\u001b[0m \u001b[0mentry\u001b[0m \u001b[0;32min\u001b[0m \u001b[0mit\u001b[0m\u001b[0;34m:\u001b[0m\u001b[0;34m\u001b[0m\u001b[0;34m\u001b[0m\u001b[0m\n\u001b[1;32m    148\u001b[0m                     \u001b[0;32mtry\u001b[0m\u001b[0;34m:\u001b[0m\u001b[0;34m\u001b[0m\u001b[0;34m\u001b[0m\u001b[0m\n\u001b[0;32m--> 149\u001b[0;31m                         \u001b[0;32mif\u001b[0m \u001b[0;32mnot\u001b[0m \u001b[0mdironly\u001b[0m \u001b[0;32mor\u001b[0m \u001b[0mentry\u001b[0m\u001b[0;34m.\u001b[0m\u001b[0mis_dir\u001b[0m\u001b[0;34m(\u001b[0m\u001b[0;34m)\u001b[0m\u001b[0;34m:\u001b[0m\u001b[0;34m\u001b[0m\u001b[0;34m\u001b[0m\u001b[0m\n\u001b[0m\u001b[1;32m    150\u001b[0m                             \u001b[0;32mif\u001b[0m \u001b[0mfsencode\u001b[0m \u001b[0;32mis\u001b[0m \u001b[0;32mnot\u001b[0m \u001b[0;32mNone\u001b[0m\u001b[0;34m:\u001b[0m\u001b[0;34m\u001b[0m\u001b[0;34m\u001b[0m\u001b[0m\n\u001b[1;32m    151\u001b[0m                                 \u001b[0;32myield\u001b[0m \u001b[0mfsencode\u001b[0m\u001b[0;34m(\u001b[0m\u001b[0mentry\u001b[0m\u001b[0;34m.\u001b[0m\u001b[0mname\u001b[0m\u001b[0;34m)\u001b[0m\u001b[0;34m\u001b[0m\u001b[0;34m\u001b[0m\u001b[0m\n",
            "\u001b[0;31mKeyboardInterrupt\u001b[0m: "
          ]
        }
      ]
    },
    {
      "cell_type": "code",
      "source": [
        "%run train.py"
      ],
      "metadata": {
        "colab": {
          "base_uri": "https://localhost:8080/",
          "height": 1000
        },
        "id": "-XhJLBI_VgsN",
        "outputId": "56826b73-b992-4567-e4f1-75fbd8ad391a"
      },
      "execution_count": null,
      "outputs": [
        {
          "output_type": "stream",
          "name": "stdout",
          "text": [
            "Epoch 1/2\n",
            "62/62 [==============================] - 140s 2s/step - loss: 0.5995 - acc: 0.7743 - recall: 0.4121 - precision: 0.1906 - iou: 0.0926 - val_loss: 0.6238 - val_acc: 0.9047 - val_recall: 0.0047 - val_precision: 0.0487 - val_iou: 0.0773 - lr: 1.0000e-04\n",
            "Epoch 2/2\n",
            "62/62 [==============================] - 10s 166ms/step - loss: 0.4715 - acc: 0.8976 - recall: 0.4174 - precision: 0.4663 - iou: 0.1090 - val_loss: 0.5190 - val_acc: 0.9117 - val_recall: 1.7702e-04 - val_precision: 0.0234 - val_iou: 0.0743 - lr: 1.0000e-04\n"
          ]
        },
        {
          "output_type": "display_data",
          "data": {
            "text/plain": [
              "<Figure size 640x480 with 1 Axes>"
            ],
            "image/png": "[encoded data removed]"
          },
          "metadata": {}
        },
        {
          "output_type": "display_data",
          "data": {
            "text/plain": [
              "<Figure size 640x480 with 1 Axes>"
            ],
            "image/png": "[encoded data removed]"
          },
          "metadata": {}
        },
        {
          "output_type": "display_data",
          "data": {
            "text/plain": [
              "<Figure size 640x480 with 1 Axes>"
            ],
            "image/png": "[encoded data removed]"
          },
          "metadata": {}
        },
        {
          "output_type": "display_data",
          "data": {
            "text/plain": [
              "<Figure size 640x480 with 0 Axes>"
            ]
          },
          "metadata": {}
        }
      ]
    },
    {
      "cell_type": "code",
      "source": [
        "!pip install imshowtools"
      ],
      "metadata": {
        "colab": {
          "base_uri": "https://localhost:8080/"
        },
        "id": "IbOAemqhUBoG",
        "outputId": "ae4afb02-5da4-45e8-9036-a89cdaf8f715"
      },
      "execution_count": null,
      "outputs": [
        {
          "output_type": "stream",
          "name": "stdout",
          "text": [
            "Looking in indexes: https://pypi.org/simple, https://us-python.pkg.dev/colab-wheels/public/simple/\n",
            "Collecting imshowtools\n",
            "  Downloading imshowtools-0.6.5-py3-none-any.whl (7.4 kB)\n",
            "Requirement already satisfied: matplotlib in /usr/local/lib/python3.10/dist-packages (from imshowtools) (3.7.1)\n",
            "Requirement already satisfied: numpy in /usr/local/lib/python3.10/dist-packages (from imshowtools) (1.22.4)\n",
            "Requirement already satisfied: contourpy>=1.0.1 in /usr/local/lib/python3.10/dist-packages (from matplotlib->imshowtools) (1.0.7)\n",
            "Requirement already satisfied: cycler>=0.10 in /usr/local/lib/python3.10/dist-packages (from matplotlib->imshowtools) (0.11.0)\n",
            "Requirement already satisfied: fonttools>=4.22.0 in /usr/local/lib/python3.10/dist-packages (from matplotlib->imshowtools) (4.39.3)\n",
            "Requirement already satisfied: kiwisolver>=1.0.1 in /usr/local/lib/python3.10/dist-packages (from matplotlib->imshowtools) (1.4.4)\n",
            "Requirement already satisfied: packaging>=20.0 in /usr/local/lib/python3.10/dist-packages (from matplotlib->imshowtools) (23.1)\n",
            "Requirement already satisfied: pillow>=6.2.0 in /usr/local/lib/python3.10/dist-packages (from matplotlib->imshowtools) (8.4.0)\n",
            "Requirement already satisfied: pyparsing>=2.3.1 in /usr/local/lib/python3.10/dist-packages (from matplotlib->imshowtools) (3.0.9)\n",
            "Requirement already satisfied: python-dateutil>=2.7 in /usr/local/lib/python3.10/dist-packages (from matplotlib->imshowtools) (2.8.2)\n",
            "Requirement already satisfied: six>=1.5 in /usr/local/lib/python3.10/dist-packages (from python-dateutil>=2.7->matplotlib->imshowtools) (1.16.0)\n",
            "Installing collected packages: imshowtools\n",
            "Successfully installed imshowtools-0.6.5\n"
          ]
        }
      ]
    },
    {
      "cell_type": "code",
      "source": [
        "%run augmentation.py"
      ],
      "metadata": {
        "colab": {
          "base_uri": "https://localhost:8080/",
          "height": 1000
        },
        "id": "GHzDVxGQB1wo",
        "outputId": "20cf1290-faed-4d12-a1af-88e81687e168"
      },
      "execution_count": null,
      "outputs": [
        {
          "output_type": "stream",
          "name": "stdout",
          "text": [
            "Images: 612 - Masks: 612\n",
            "PNG/Original/1.png PNG/groundTruth/1.png\n",
            "PNG/Original/10.png PNG/groundTruth/10.png\n",
            "PNG/Original/100.png PNG/groundTruth/100.png\n",
            "PNG/Original/101.png PNG/groundTruth/101.png\n",
            "PNG/Original/102.png PNG/groundTruth/102.png\n",
            "PNG/Original/103.png PNG/groundTruth/103.png\n",
            "PNG/Original/104.png PNG/groundTruth/104.png\n",
            "PNG/Original/105.png PNG/groundTruth/105.png\n",
            "PNG/Original/106.png PNG/groundTruth/106.png\n",
            "PNG/Original/107.png PNG/groundTruth/107.png\n"
          ]
        },
        {
          "output_type": "display_data",
          "data": {
            "text/plain": [
              "<Figure size 2000x1000 with 6 Axes>"
            ],
            "image/png": "[encoded data removed]"
          },
          "metadata": {}
        },
        {
          "output_type": "stream",
          "name": "stdout",
          "text": [
            "Train: 490 - 490\n",
            "Valid: 61 - 61\n",
            "Test : 61 - 61\n"
          ]
        },
        {
          "output_type": "stream",
          "name": "stderr",
          "text": [
            "  0%|          | 0/490 [00:00<?, ?it/s]/usr/local/lib/python3.10/dist-packages/albumentations/augmentations/transforms.py:1613: FutureWarning: This class has been deprecated. Please use RandomBrightnessContrast\n",
            "  warnings.warn(\n",
            "/usr/local/lib/python3.10/dist-packages/albumentations/augmentations/transforms.py:1639: FutureWarning: RandomContrast has been deprecated. Please use RandomBrightnessContrast\n",
            "  warnings.warn(\n",
            "  0%|          | 1/490 [00:04<34:44,  4.26s/it]"
          ]
        },
        {
          "output_type": "stream",
          "name": "stdout",
          "text": [
            "dataset/aug/train/images/178_0.png\n",
            "True\n",
            "dataset/aug/train/images/178_1.png\n",
            "True\n",
            "dataset/aug/train/images/178_2.png\n",
            "True\n",
            "dataset/aug/train/images/178_3.png\n",
            "True\n",
            "dataset/aug/train/images/178_4.png\n",
            "True\n"
          ]
        },
        {
          "output_type": "stream",
          "name": "stderr",
          "text": [
            "\r  0%|          | 2/490 [00:04<15:56,  1.96s/it]"
          ]
        },
        {
          "output_type": "stream",
          "name": "stdout",
          "text": [
            "dataset/aug/train/images/367_0.png\n",
            "True\n",
            "dataset/aug/train/images/367_1.png\n",
            "True\n",
            "dataset/aug/train/images/367_2.png\n",
            "True\n",
            "dataset/aug/train/images/367_3.png\n",
            "True\n",
            "dataset/aug/train/images/367_4.png\n",
            "True\n"
          ]
        },
        {
          "output_type": "stream",
          "name": "stderr",
          "text": [
            "\r  1%|          | 3/490 [00:04<09:38,  1.19s/it]"
          ]
        },
        {
          "output_type": "stream",
          "name": "stdout",
          "text": [
            "dataset/aug/train/images/562_0.png\n",
            "True\n",
            "dataset/aug/train/images/562_1.png\n",
            "True\n",
            "dataset/aug/train/images/562_2.png\n",
            "True\n",
            "dataset/aug/train/images/562_3.png\n",
            "True\n",
            "dataset/aug/train/images/562_4.png\n",
            "True\n"
          ]
        },
        {
          "output_type": "stream",
          "name": "stderr",
          "text": [
            "\r  1%|          | 4/490 [00:05<06:54,  1.17it/s]"
          ]
        },
        {
          "output_type": "stream",
          "name": "stdout",
          "text": [
            "dataset/aug/train/images/83_0.png\n",
            "True\n",
            "dataset/aug/train/images/83_1.png\n",
            "True\n",
            "dataset/aug/train/images/83_2.png\n",
            "True\n",
            "dataset/aug/train/images/83_3.png\n",
            "True\n",
            "dataset/aug/train/images/83_4.png\n",
            "True\n"
          ]
        },
        {
          "output_type": "stream",
          "name": "stderr",
          "text": [
            "\r  1%|          | 5/490 [00:05<05:13,  1.55it/s]"
          ]
        },
        {
          "output_type": "stream",
          "name": "stdout",
          "text": [
            "dataset/aug/train/images/208_0.png\n",
            "True\n",
            "dataset/aug/train/images/208_1.png\n",
            "True\n",
            "dataset/aug/train/images/208_2.png\n",
            "True\n",
            "dataset/aug/train/images/208_3.png\n",
            "True\n",
            "dataset/aug/train/images/208_4.png\n",
            "True\n"
          ]
        },
        {
          "output_type": "stream",
          "name": "stderr",
          "text": [
            "\r  1%|          | 6/490 [00:05<04:11,  1.93it/s]"
          ]
        },
        {
          "output_type": "stream",
          "name": "stdout",
          "text": [
            "dataset/aug/train/images/49_0.png\n",
            "True\n",
            "dataset/aug/train/images/49_1.png\n",
            "True\n",
            "dataset/aug/train/images/49_2.png\n",
            "True\n",
            "dataset/aug/train/images/49_3.png\n",
            "True\n",
            "dataset/aug/train/images/49_4.png\n",
            "True\n"
          ]
        },
        {
          "output_type": "stream",
          "name": "stderr",
          "text": [
            "\r  1%|▏         | 7/490 [00:06<03:32,  2.27it/s]"
          ]
        },
        {
          "output_type": "stream",
          "name": "stdout",
          "text": [
            "dataset/aug/train/images/168_0.png\n",
            "True\n",
            "dataset/aug/train/images/168_1.png\n",
            "True\n",
            "dataset/aug/train/images/168_2.png\n",
            "True\n",
            "dataset/aug/train/images/168_3.png\n",
            "True\n",
            "dataset/aug/train/images/168_4.png\n",
            "True\n"
          ]
        },
        {
          "output_type": "stream",
          "name": "stderr",
          "text": [
            "\r  2%|▏         | 8/490 [00:06<03:14,  2.47it/s]"
          ]
        },
        {
          "output_type": "stream",
          "name": "stdout",
          "text": [
            "dataset/aug/train/images/189_0.png\n",
            "True\n",
            "dataset/aug/train/images/189_1.png\n",
            "True\n",
            "dataset/aug/train/images/189_2.png\n",
            "True\n",
            "dataset/aug/train/images/189_3.png\n",
            "True\n",
            "dataset/aug/train/images/189_4.png\n",
            "True\n"
          ]
        },
        {
          "output_type": "stream",
          "name": "stderr",
          "text": [
            "\r  2%|▏         | 9/490 [00:06<02:53,  2.77it/s]"
          ]
        },
        {
          "output_type": "stream",
          "name": "stdout",
          "text": [
            "dataset/aug/train/images/132_0.png\n",
            "True\n",
            "dataset/aug/train/images/132_1.png\n",
            "True\n",
            "dataset/aug/train/images/132_2.png\n",
            "True\n",
            "dataset/aug/train/images/132_3.png\n",
            "True\n",
            "dataset/aug/train/images/132_4.png\n",
            "True\n",
            "dataset/aug/train/images/282_0.png\n",
            "True\n",
            "dataset/aug/train/images/282_1.png\n",
            "True\n",
            "dataset/aug/train/images/282_2.png\n",
            "True\n",
            "dataset/aug/train/images/282_3.png\n",
            "True\n"
          ]
        },
        {
          "output_type": "stream",
          "name": "stderr",
          "text": [
            "\r  2%|▏         | 10/490 [00:07<03:14,  2.47it/s]"
          ]
        },
        {
          "output_type": "stream",
          "name": "stdout",
          "text": [
            "dataset/aug/train/images/282_4.png\n",
            "True\n"
          ]
        },
        {
          "output_type": "stream",
          "name": "stderr",
          "text": [
            "\r  2%|▏         | 11/490 [00:07<02:57,  2.70it/s]"
          ]
        },
        {
          "output_type": "stream",
          "name": "stdout",
          "text": [
            "dataset/aug/train/images/377_0.png\n",
            "True\n",
            "dataset/aug/train/images/377_1.png\n",
            "True\n",
            "dataset/aug/train/images/377_2.png\n",
            "True\n",
            "dataset/aug/train/images/377_3.png\n",
            "True\n",
            "dataset/aug/train/images/377_4.png\n",
            "True\n"
          ]
        },
        {
          "output_type": "stream",
          "name": "stderr",
          "text": [
            "\r  2%|▏         | 12/490 [00:07<03:00,  2.65it/s]"
          ]
        },
        {
          "output_type": "stream",
          "name": "stdout",
          "text": [
            "dataset/aug/train/images/48_0.png\n",
            "True\n",
            "dataset/aug/train/images/48_1.png\n",
            "True\n",
            "dataset/aug/train/images/48_2.png\n",
            "True\n",
            "dataset/aug/train/images/48_3.png\n",
            "True\n",
            "dataset/aug/train/images/48_4.png\n",
            "True\n"
          ]
        },
        {
          "output_type": "stream",
          "name": "stderr",
          "text": [
            "\r  3%|▎         | 13/490 [00:08<02:52,  2.76it/s]"
          ]
        },
        {
          "output_type": "stream",
          "name": "stdout",
          "text": [
            "dataset/aug/train/images/87_0.png\n",
            "True\n",
            "dataset/aug/train/images/87_1.png\n",
            "True\n",
            "dataset/aug/train/images/87_2.png\n",
            "True\n",
            "dataset/aug/train/images/87_3.png\n",
            "True\n",
            "dataset/aug/train/images/87_4.png\n",
            "True\n"
          ]
        },
        {
          "output_type": "stream",
          "name": "stderr",
          "text": [
            "\r  3%|▎         | 14/490 [00:08<02:40,  2.97it/s]"
          ]
        },
        {
          "output_type": "stream",
          "name": "stdout",
          "text": [
            "dataset/aug/train/images/557_0.png\n",
            "True\n",
            "dataset/aug/train/images/557_1.png\n",
            "True\n",
            "dataset/aug/train/images/557_2.png\n",
            "True\n",
            "dataset/aug/train/images/557_3.png\n",
            "True\n",
            "dataset/aug/train/images/557_4.png\n",
            "True\n"
          ]
        },
        {
          "output_type": "stream",
          "name": "stderr",
          "text": [
            "\r  3%|▎         | 15/490 [00:08<02:42,  2.93it/s]"
          ]
        },
        {
          "output_type": "stream",
          "name": "stdout",
          "text": [
            "dataset/aug/train/images/458_0.png\n",
            "True\n",
            "dataset/aug/train/images/458_1.png\n",
            "True\n",
            "dataset/aug/train/images/458_2.png\n",
            "True\n",
            "dataset/aug/train/images/458_3.png\n",
            "True\n",
            "dataset/aug/train/images/458_4.png\n",
            "True\n"
          ]
        },
        {
          "output_type": "stream",
          "name": "stderr",
          "text": [
            "\r  3%|▎         | 16/490 [00:09<02:38,  2.98it/s]"
          ]
        },
        {
          "output_type": "stream",
          "name": "stdout",
          "text": [
            "dataset/aug/train/images/574_0.png\n",
            "True\n",
            "dataset/aug/train/images/574_1.png\n",
            "True\n",
            "dataset/aug/train/images/574_2.png\n",
            "True\n",
            "dataset/aug/train/images/574_3.png\n",
            "True\n",
            "dataset/aug/train/images/574_4.png\n",
            "True\n"
          ]
        },
        {
          "output_type": "stream",
          "name": "stderr",
          "text": [
            "\r  3%|▎         | 17/490 [00:09<02:39,  2.97it/s]"
          ]
        },
        {
          "output_type": "stream",
          "name": "stdout",
          "text": [
            "dataset/aug/train/images/213_0.png\n",
            "True\n",
            "dataset/aug/train/images/213_1.png\n",
            "True\n",
            "dataset/aug/train/images/213_2.png\n",
            "True\n",
            "dataset/aug/train/images/213_3.png\n",
            "True\n",
            "dataset/aug/train/images/213_4.png\n",
            "True\n"
          ]
        },
        {
          "output_type": "stream",
          "name": "stderr",
          "text": [
            "\r  4%|▎         | 18/490 [00:09<02:37,  3.00it/s]"
          ]
        },
        {
          "output_type": "stream",
          "name": "stdout",
          "text": [
            "dataset/aug/train/images/465_0.png\n",
            "True\n",
            "dataset/aug/train/images/465_1.png\n",
            "True\n",
            "dataset/aug/train/images/465_2.png\n",
            "True\n",
            "dataset/aug/train/images/465_3.png\n",
            "True\n",
            "dataset/aug/train/images/465_4.png\n",
            "True\n"
          ]
        },
        {
          "output_type": "stream",
          "name": "stderr",
          "text": [
            "\r  4%|▍         | 19/490 [00:10<02:34,  3.04it/s]"
          ]
        },
        {
          "output_type": "stream",
          "name": "stdout",
          "text": [
            "dataset/aug/train/images/233_0.png\n",
            "True\n",
            "dataset/aug/train/images/233_1.png\n",
            "True\n",
            "dataset/aug/train/images/233_2.png\n",
            "True\n",
            "dataset/aug/train/images/233_3.png\n",
            "True\n",
            "dataset/aug/train/images/233_4.png\n",
            "True\n"
          ]
        },
        {
          "output_type": "stream",
          "name": "stderr",
          "text": [
            "\r  4%|▍         | 20/490 [00:10<03:02,  2.57it/s]"
          ]
        },
        {
          "output_type": "stream",
          "name": "stdout",
          "text": [
            "dataset/aug/train/images/418_0.png\n",
            "True\n",
            "dataset/aug/train/images/418_1.png\n",
            "True\n",
            "dataset/aug/train/images/418_2.png\n",
            "True\n",
            "dataset/aug/train/images/418_3.png\n",
            "True\n",
            "dataset/aug/train/images/418_4.png\n",
            "True\n"
          ]
        },
        {
          "output_type": "stream",
          "name": "stderr",
          "text": [
            "\r  4%|▍         | 21/490 [00:10<02:49,  2.76it/s]"
          ]
        },
        {
          "output_type": "stream",
          "name": "stdout",
          "text": [
            "dataset/aug/train/images/81_0.png\n",
            "True\n",
            "dataset/aug/train/images/81_1.png\n",
            "True\n",
            "dataset/aug/train/images/81_2.png\n",
            "True\n",
            "dataset/aug/train/images/81_3.png\n",
            "True\n",
            "dataset/aug/train/images/81_4.png\n",
            "True\n"
          ]
        },
        {
          "output_type": "stream",
          "name": "stderr",
          "text": [
            "\r  4%|▍         | 22/490 [00:11<02:41,  2.91it/s]"
          ]
        },
        {
          "output_type": "stream",
          "name": "stdout",
          "text": [
            "dataset/aug/train/images/373_0.png\n",
            "True\n",
            "dataset/aug/train/images/373_1.png\n",
            "True\n",
            "dataset/aug/train/images/373_2.png\n",
            "True\n",
            "dataset/aug/train/images/373_3.png\n",
            "True\n",
            "dataset/aug/train/images/373_4.png\n",
            "True\n"
          ]
        },
        {
          "output_type": "stream",
          "name": "stderr",
          "text": [
            "\r  5%|▍         | 23/490 [00:11<02:34,  3.01it/s]"
          ]
        },
        {
          "output_type": "stream",
          "name": "stdout",
          "text": [
            "dataset/aug/train/images/51_0.png\n",
            "True\n",
            "dataset/aug/train/images/51_1.png\n",
            "True\n",
            "dataset/aug/train/images/51_2.png\n",
            "True\n",
            "dataset/aug/train/images/51_3.png\n",
            "True\n",
            "dataset/aug/train/images/51_4.png\n",
            "True\n"
          ]
        },
        {
          "output_type": "stream",
          "name": "stderr",
          "text": [
            "\r  5%|▍         | 24/490 [00:11<02:33,  3.03it/s]"
          ]
        },
        {
          "output_type": "stream",
          "name": "stdout",
          "text": [
            "dataset/aug/train/images/384_0.png\n",
            "True\n",
            "dataset/aug/train/images/384_1.png\n",
            "True\n",
            "dataset/aug/train/images/384_2.png\n",
            "True\n",
            "dataset/aug/train/images/384_3.png\n",
            "True\n",
            "dataset/aug/train/images/384_4.png\n",
            "True\n"
          ]
        },
        {
          "output_type": "stream",
          "name": "stderr",
          "text": [
            "\r  5%|▌         | 25/490 [00:12<02:34,  3.01it/s]"
          ]
        },
        {
          "output_type": "stream",
          "name": "stdout",
          "text": [
            "dataset/aug/train/images/259_0.png\n",
            "True\n",
            "dataset/aug/train/images/259_1.png\n",
            "True\n",
            "dataset/aug/train/images/259_2.png\n",
            "True\n",
            "dataset/aug/train/images/259_3.png\n",
            "True\n",
            "dataset/aug/train/images/259_4.png\n",
            "True\n"
          ]
        },
        {
          "output_type": "stream",
          "name": "stderr",
          "text": [
            "\r  5%|▌         | 26/490 [00:12<02:31,  3.07it/s]"
          ]
        },
        {
          "output_type": "stream",
          "name": "stdout",
          "text": [
            "dataset/aug/train/images/603_0.png\n",
            "True\n",
            "dataset/aug/train/images/603_1.png\n",
            "True\n",
            "dataset/aug/train/images/603_2.png\n",
            "True\n",
            "dataset/aug/train/images/603_3.png\n",
            "True\n",
            "dataset/aug/train/images/603_4.png\n",
            "True\n"
          ]
        },
        {
          "output_type": "stream",
          "name": "stderr",
          "text": [
            "\r  6%|▌         | 27/490 [00:12<02:31,  3.06it/s]"
          ]
        },
        {
          "output_type": "stream",
          "name": "stdout",
          "text": [
            "dataset/aug/train/images/358_0.png\n",
            "True\n",
            "dataset/aug/train/images/358_1.png\n",
            "True\n",
            "dataset/aug/train/images/358_2.png\n",
            "True\n",
            "dataset/aug/train/images/358_3.png\n",
            "True\n",
            "dataset/aug/train/images/358_4.png\n",
            "True\n"
          ]
        },
        {
          "output_type": "stream",
          "name": "stderr",
          "text": [
            "\r  6%|▌         | 28/490 [00:13<02:26,  3.16it/s]"
          ]
        },
        {
          "output_type": "stream",
          "name": "stdout",
          "text": [
            "dataset/aug/train/images/65_0.png\n",
            "True\n",
            "dataset/aug/train/images/65_1.png\n",
            "True\n",
            "dataset/aug/train/images/65_2.png\n",
            "True\n",
            "dataset/aug/train/images/65_3.png\n",
            "True\n",
            "dataset/aug/train/images/65_4.png\n",
            "True\n"
          ]
        },
        {
          "output_type": "stream",
          "name": "stderr",
          "text": [
            "\r  6%|▌         | 29/490 [00:13<02:23,  3.22it/s]"
          ]
        },
        {
          "output_type": "stream",
          "name": "stdout",
          "text": [
            "dataset/aug/train/images/210_0.png\n",
            "True\n",
            "dataset/aug/train/images/210_1.png\n",
            "True\n",
            "dataset/aug/train/images/210_2.png\n",
            "True\n",
            "dataset/aug/train/images/210_3.png\n",
            "True\n",
            "dataset/aug/train/images/210_4.png\n",
            "True\n"
          ]
        },
        {
          "output_type": "stream",
          "name": "stderr",
          "text": [
            "\r  6%|▌         | 30/490 [00:13<02:32,  3.02it/s]"
          ]
        },
        {
          "output_type": "stream",
          "name": "stdout",
          "text": [
            "dataset/aug/train/images/238_0.png\n",
            "True\n",
            "dataset/aug/train/images/238_1.png\n",
            "True\n",
            "dataset/aug/train/images/238_2.png\n",
            "True\n",
            "dataset/aug/train/images/238_3.png\n",
            "True\n",
            "dataset/aug/train/images/238_4.png\n",
            "True\n"
          ]
        },
        {
          "output_type": "stream",
          "name": "stderr",
          "text": [
            "\r  6%|▋         | 31/490 [00:14<02:21,  3.25it/s]"
          ]
        },
        {
          "output_type": "stream",
          "name": "stdout",
          "text": [
            "dataset/aug/train/images/151_0.png\n",
            "True\n",
            "dataset/aug/train/images/151_1.png\n",
            "True\n",
            "dataset/aug/train/images/151_2.png\n",
            "True\n",
            "dataset/aug/train/images/151_3.png\n",
            "True\n",
            "dataset/aug/train/images/151_4.png\n",
            "True\n"
          ]
        },
        {
          "output_type": "stream",
          "name": "stderr",
          "text": [
            "\r  7%|▋         | 32/490 [00:14<02:10,  3.50it/s]"
          ]
        },
        {
          "output_type": "stream",
          "name": "stdout",
          "text": [
            "dataset/aug/train/images/519_0.png\n",
            "True\n",
            "dataset/aug/train/images/519_1.png\n",
            "True\n",
            "dataset/aug/train/images/519_2.png\n",
            "True\n",
            "dataset/aug/train/images/519_3.png\n",
            "True\n",
            "dataset/aug/train/images/519_4.png\n",
            "True\n"
          ]
        },
        {
          "output_type": "stream",
          "name": "stderr",
          "text": [
            "\r  7%|▋         | 33/490 [00:14<02:09,  3.52it/s]"
          ]
        },
        {
          "output_type": "stream",
          "name": "stdout",
          "text": [
            "dataset/aug/train/images/262_0.png\n",
            "True\n",
            "dataset/aug/train/images/262_1.png\n",
            "True\n",
            "dataset/aug/train/images/262_2.png\n",
            "True\n",
            "dataset/aug/train/images/262_3.png\n",
            "True\n",
            "dataset/aug/train/images/262_4.png\n",
            "True\n"
          ]
        },
        {
          "output_type": "stream",
          "name": "stderr",
          "text": [
            "\r  7%|▋         | 34/490 [00:14<02:11,  3.46it/s]"
          ]
        },
        {
          "output_type": "stream",
          "name": "stdout",
          "text": [
            "dataset/aug/train/images/459_0.png\n",
            "True\n",
            "dataset/aug/train/images/459_1.png\n",
            "True\n",
            "dataset/aug/train/images/459_2.png\n",
            "True\n",
            "dataset/aug/train/images/459_3.png\n",
            "True\n",
            "dataset/aug/train/images/459_4.png\n",
            "True\n",
            "dataset/aug/train/images/110_0.png\n",
            "True\n",
            "dataset/aug/train/images/110_1.png\n",
            "True\n",
            "dataset/aug/train/images/110_2.png\n",
            "True\n",
            "dataset/aug/train/images/110_3.png\n",
            "True\n",
            "dataset/aug/train/images/110_4.png\n"
          ]
        },
        {
          "output_type": "stream",
          "name": "stderr",
          "text": [
            "\r  7%|▋         | 35/490 [00:15<02:33,  2.96it/s]"
          ]
        },
        {
          "output_type": "stream",
          "name": "stdout",
          "text": [
            "True\n"
          ]
        },
        {
          "output_type": "stream",
          "name": "stderr",
          "text": [
            "\r  7%|▋         | 36/490 [00:15<02:32,  2.97it/s]"
          ]
        },
        {
          "output_type": "stream",
          "name": "stdout",
          "text": [
            "dataset/aug/train/images/120_0.png\n",
            "True\n",
            "dataset/aug/train/images/120_1.png\n",
            "True\n",
            "dataset/aug/train/images/120_2.png\n",
            "True\n",
            "dataset/aug/train/images/120_3.png\n",
            "True\n",
            "dataset/aug/train/images/120_4.png\n",
            "True\n"
          ]
        },
        {
          "output_type": "stream",
          "name": "stderr",
          "text": [
            "\r  8%|▊         | 37/490 [00:15<02:20,  3.22it/s]"
          ]
        },
        {
          "output_type": "stream",
          "name": "stdout",
          "text": [
            "dataset/aug/train/images/156_0.png\n",
            "True\n",
            "dataset/aug/train/images/156_1.png\n",
            "True\n",
            "dataset/aug/train/images/156_2.png\n",
            "True\n",
            "dataset/aug/train/images/156_3.png\n",
            "True\n",
            "dataset/aug/train/images/156_4.png\n",
            "True\n"
          ]
        },
        {
          "output_type": "stream",
          "name": "stderr",
          "text": [
            "\r  8%|▊         | 38/490 [00:16<02:22,  3.16it/s]"
          ]
        },
        {
          "output_type": "stream",
          "name": "stdout",
          "text": [
            "dataset/aug/train/images/348_0.png\n",
            "True\n",
            "dataset/aug/train/images/348_1.png\n",
            "True\n",
            "dataset/aug/train/images/348_2.png\n",
            "True\n",
            "dataset/aug/train/images/348_3.png\n",
            "True\n",
            "dataset/aug/train/images/348_4.png\n",
            "True\n"
          ]
        },
        {
          "output_type": "stream",
          "name": "stderr",
          "text": [
            "\r  8%|▊         | 39/490 [00:16<02:22,  3.17it/s]"
          ]
        },
        {
          "output_type": "stream",
          "name": "stdout",
          "text": [
            "dataset/aug/train/images/104_0.png\n",
            "True\n",
            "dataset/aug/train/images/104_1.png\n",
            "True\n",
            "dataset/aug/train/images/104_2.png\n",
            "True\n",
            "dataset/aug/train/images/104_3.png\n",
            "True\n",
            "dataset/aug/train/images/104_4.png\n",
            "True\n"
          ]
        },
        {
          "output_type": "stream",
          "name": "stderr",
          "text": [
            "\r  8%|▊         | 40/490 [00:16<02:22,  3.17it/s]"
          ]
        },
        {
          "output_type": "stream",
          "name": "stdout",
          "text": [
            "dataset/aug/train/images/567_0.png\n",
            "True\n",
            "dataset/aug/train/images/567_1.png\n",
            "True\n",
            "dataset/aug/train/images/567_2.png\n",
            "True\n",
            "dataset/aug/train/images/567_3.png\n",
            "True\n",
            "dataset/aug/train/images/567_4.png\n",
            "True\n"
          ]
        },
        {
          "output_type": "stream",
          "name": "stderr",
          "text": [
            "\r  8%|▊         | 41/490 [00:17<02:15,  3.32it/s]"
          ]
        },
        {
          "output_type": "stream",
          "name": "stdout",
          "text": [
            "dataset/aug/train/images/434_0.png\n",
            "True\n",
            "dataset/aug/train/images/434_1.png\n",
            "True\n",
            "dataset/aug/train/images/434_2.png\n",
            "True\n",
            "dataset/aug/train/images/434_3.png\n",
            "True\n",
            "dataset/aug/train/images/434_4.png\n",
            "True\n"
          ]
        },
        {
          "output_type": "stream",
          "name": "stderr",
          "text": [
            "\r  9%|▊         | 42/490 [00:17<02:13,  3.36it/s]"
          ]
        },
        {
          "output_type": "stream",
          "name": "stdout",
          "text": [
            "dataset/aug/train/images/543_0.png\n",
            "True\n",
            "dataset/aug/train/images/543_1.png\n",
            "True\n",
            "dataset/aug/train/images/543_2.png\n",
            "True\n",
            "dataset/aug/train/images/543_3.png\n",
            "True\n",
            "dataset/aug/train/images/543_4.png\n",
            "True\n"
          ]
        },
        {
          "output_type": "stream",
          "name": "stderr",
          "text": [
            "\r  9%|▉         | 43/490 [00:17<02:41,  2.78it/s]"
          ]
        },
        {
          "output_type": "stream",
          "name": "stdout",
          "text": [
            "dataset/aug/train/images/112_0.png\n",
            "True\n",
            "dataset/aug/train/images/112_1.png\n",
            "True\n",
            "dataset/aug/train/images/112_2.png\n",
            "True\n",
            "dataset/aug/train/images/112_3.png\n",
            "True\n",
            "dataset/aug/train/images/112_4.png\n",
            "True\n"
          ]
        },
        {
          "output_type": "stream",
          "name": "stderr",
          "text": [
            "\r  9%|▉         | 44/490 [00:18<02:38,  2.81it/s]"
          ]
        },
        {
          "output_type": "stream",
          "name": "stdout",
          "text": [
            "dataset/aug/train/images/596_0.png\n",
            "True\n",
            "dataset/aug/train/images/596_1.png\n",
            "True\n",
            "dataset/aug/train/images/596_2.png\n",
            "True\n",
            "dataset/aug/train/images/596_3.png\n",
            "True\n",
            "dataset/aug/train/images/596_4.png\n",
            "True\n"
          ]
        },
        {
          "output_type": "stream",
          "name": "stderr",
          "text": [
            "\r  9%|▉         | 45/490 [00:18<02:36,  2.84it/s]"
          ]
        },
        {
          "output_type": "stream",
          "name": "stdout",
          "text": [
            "dataset/aug/train/images/302_0.png\n",
            "True\n",
            "dataset/aug/train/images/302_1.png\n",
            "True\n",
            "dataset/aug/train/images/302_2.png\n",
            "True\n",
            "dataset/aug/train/images/302_3.png\n",
            "True\n",
            "dataset/aug/train/images/302_4.png\n",
            "True\n"
          ]
        },
        {
          "output_type": "stream",
          "name": "stderr",
          "text": [
            "\r  9%|▉         | 46/490 [00:18<02:40,  2.77it/s]"
          ]
        },
        {
          "output_type": "stream",
          "name": "stdout",
          "text": [
            "dataset/aug/train/images/274_0.png\n",
            "True\n",
            "dataset/aug/train/images/274_1.png\n",
            "True\n",
            "dataset/aug/train/images/274_2.png\n",
            "True\n",
            "dataset/aug/train/images/274_3.png\n",
            "True\n",
            "dataset/aug/train/images/274_4.png\n",
            "True\n"
          ]
        },
        {
          "output_type": "stream",
          "name": "stderr",
          "text": [
            "\r 10%|▉         | 47/490 [00:19<02:39,  2.78it/s]"
          ]
        },
        {
          "output_type": "stream",
          "name": "stdout",
          "text": [
            "dataset/aug/train/images/14_0.png\n",
            "True\n",
            "dataset/aug/train/images/14_1.png\n",
            "True\n",
            "dataset/aug/train/images/14_2.png\n",
            "True\n",
            "dataset/aug/train/images/14_3.png\n",
            "True\n",
            "dataset/aug/train/images/14_4.png\n",
            "True\n"
          ]
        },
        {
          "output_type": "stream",
          "name": "stderr",
          "text": [
            "\r 10%|▉         | 48/490 [00:19<02:26,  3.01it/s]"
          ]
        },
        {
          "output_type": "stream",
          "name": "stdout",
          "text": [
            "dataset/aug/train/images/517_0.png\n",
            "True\n",
            "dataset/aug/train/images/517_1.png\n",
            "True\n",
            "dataset/aug/train/images/517_2.png\n",
            "True\n",
            "dataset/aug/train/images/517_3.png\n",
            "True\n",
            "dataset/aug/train/images/517_4.png\n",
            "True\n"
          ]
        },
        {
          "output_type": "stream",
          "name": "stderr",
          "text": [
            "\r 10%|█         | 49/490 [00:19<02:29,  2.94it/s]"
          ]
        },
        {
          "output_type": "stream",
          "name": "stdout",
          "text": [
            "dataset/aug/train/images/90_0.png\n",
            "True\n",
            "dataset/aug/train/images/90_1.png\n",
            "True\n",
            "dataset/aug/train/images/90_2.png\n",
            "True\n",
            "dataset/aug/train/images/90_3.png\n",
            "True\n",
            "dataset/aug/train/images/90_4.png\n",
            "True\n"
          ]
        },
        {
          "output_type": "stream",
          "name": "stderr",
          "text": [
            "\r 10%|█         | 50/490 [00:20<02:28,  2.97it/s]"
          ]
        },
        {
          "output_type": "stream",
          "name": "stdout",
          "text": [
            "dataset/aug/train/images/442_0.png\n",
            "True\n",
            "dataset/aug/train/images/442_1.png\n",
            "True\n",
            "dataset/aug/train/images/442_2.png\n",
            "True\n",
            "dataset/aug/train/images/442_3.png\n",
            "True\n",
            "dataset/aug/train/images/442_4.png\n",
            "True\n"
          ]
        },
        {
          "output_type": "stream",
          "name": "stderr",
          "text": [
            "\r 10%|█         | 51/490 [00:20<02:22,  3.07it/s]"
          ]
        },
        {
          "output_type": "stream",
          "name": "stdout",
          "text": [
            "dataset/aug/train/images/196_0.png\n",
            "True\n",
            "dataset/aug/train/images/196_1.png\n",
            "True\n",
            "dataset/aug/train/images/196_2.png\n",
            "True\n",
            "dataset/aug/train/images/196_3.png\n",
            "True\n",
            "dataset/aug/train/images/196_4.png\n",
            "True\n"
          ]
        },
        {
          "output_type": "stream",
          "name": "stderr",
          "text": [
            "\r 11%|█         | 52/490 [00:21<02:39,  2.74it/s]"
          ]
        },
        {
          "output_type": "stream",
          "name": "stdout",
          "text": [
            "dataset/aug/train/images/509_0.png\n",
            "True\n",
            "dataset/aug/train/images/509_1.png\n",
            "True\n",
            "dataset/aug/train/images/509_2.png\n",
            "True\n",
            "dataset/aug/train/images/509_3.png\n",
            "True\n",
            "dataset/aug/train/images/509_4.png\n",
            "True\n"
          ]
        },
        {
          "output_type": "stream",
          "name": "stderr",
          "text": [
            "\r 11%|█         | 53/490 [00:21<02:26,  2.98it/s]"
          ]
        },
        {
          "output_type": "stream",
          "name": "stdout",
          "text": [
            "dataset/aug/train/images/583_0.png\n",
            "True\n",
            "dataset/aug/train/images/583_1.png\n",
            "True\n",
            "dataset/aug/train/images/583_2.png\n",
            "True\n",
            "dataset/aug/train/images/583_3.png\n",
            "True\n",
            "dataset/aug/train/images/583_4.png\n",
            "True\n"
          ]
        },
        {
          "output_type": "stream",
          "name": "stderr",
          "text": [
            "\r 11%|█         | 54/490 [00:21<02:21,  3.09it/s]"
          ]
        },
        {
          "output_type": "stream",
          "name": "stdout",
          "text": [
            "dataset/aug/train/images/17_0.png\n",
            "True\n",
            "dataset/aug/train/images/17_1.png\n",
            "True\n",
            "dataset/aug/train/images/17_2.png\n",
            "True\n",
            "dataset/aug/train/images/17_3.png\n",
            "True\n",
            "dataset/aug/train/images/17_4.png\n",
            "True\n"
          ]
        },
        {
          "output_type": "stream",
          "name": "stderr",
          "text": [
            "\r 11%|█         | 55/490 [00:21<02:24,  3.00it/s]"
          ]
        },
        {
          "output_type": "stream",
          "name": "stdout",
          "text": [
            "dataset/aug/train/images/30_0.png\n",
            "True\n",
            "dataset/aug/train/images/30_1.png\n",
            "True\n",
            "dataset/aug/train/images/30_2.png\n",
            "True\n",
            "dataset/aug/train/images/30_3.png\n",
            "True\n",
            "dataset/aug/train/images/30_4.png\n",
            "True\n"
          ]
        },
        {
          "output_type": "stream",
          "name": "stderr",
          "text": [
            "\r 11%|█▏        | 56/490 [00:22<02:39,  2.72it/s]"
          ]
        },
        {
          "output_type": "stream",
          "name": "stdout",
          "text": [
            "dataset/aug/train/images/58_0.png\n",
            "True\n",
            "dataset/aug/train/images/58_1.png\n",
            "True\n",
            "dataset/aug/train/images/58_2.png\n",
            "True\n",
            "dataset/aug/train/images/58_3.png\n",
            "True\n",
            "dataset/aug/train/images/58_4.png\n",
            "True\n"
          ]
        },
        {
          "output_type": "stream",
          "name": "stderr",
          "text": [
            "\r 12%|█▏        | 57/490 [00:22<02:36,  2.76it/s]"
          ]
        },
        {
          "output_type": "stream",
          "name": "stdout",
          "text": [
            "dataset/aug/train/images/180_0.png\n",
            "True\n",
            "dataset/aug/train/images/180_1.png\n",
            "True\n",
            "dataset/aug/train/images/180_2.png\n",
            "True\n",
            "dataset/aug/train/images/180_3.png\n",
            "True\n",
            "dataset/aug/train/images/180_4.png\n",
            "True\n"
          ]
        },
        {
          "output_type": "stream",
          "name": "stderr",
          "text": [
            "\r 12%|█▏        | 58/490 [00:23<02:24,  3.00it/s]"
          ]
        },
        {
          "output_type": "stream",
          "name": "stdout",
          "text": [
            "dataset/aug/train/images/91_0.png\n",
            "True\n",
            "dataset/aug/train/images/91_1.png\n",
            "True\n",
            "dataset/aug/train/images/91_2.png\n",
            "True\n",
            "dataset/aug/train/images/91_3.png\n",
            "True\n",
            "dataset/aug/train/images/91_4.png\n",
            "True\n"
          ]
        },
        {
          "output_type": "stream",
          "name": "stderr",
          "text": [
            "\r 12%|█▏        | 59/490 [00:23<02:28,  2.91it/s]"
          ]
        },
        {
          "output_type": "stream",
          "name": "stdout",
          "text": [
            "dataset/aug/train/images/153_0.png\n",
            "True\n",
            "dataset/aug/train/images/153_1.png\n",
            "True\n",
            "dataset/aug/train/images/153_2.png\n",
            "True\n",
            "dataset/aug/train/images/153_3.png\n",
            "True\n",
            "dataset/aug/train/images/153_4.png\n",
            "True\n"
          ]
        },
        {
          "output_type": "stream",
          "name": "stderr",
          "text": [
            "\r 12%|█▏        | 60/490 [00:23<02:12,  3.24it/s]"
          ]
        },
        {
          "output_type": "stream",
          "name": "stdout",
          "text": [
            "dataset/aug/train/images/560_0.png\n",
            "True\n",
            "dataset/aug/train/images/560_1.png\n",
            "True\n",
            "dataset/aug/train/images/560_2.png\n",
            "True\n",
            "dataset/aug/train/images/560_3.png\n",
            "True\n",
            "dataset/aug/train/images/560_4.png\n",
            "True\n"
          ]
        },
        {
          "output_type": "stream",
          "name": "stderr",
          "text": [
            "\r 12%|█▏        | 61/490 [00:24<02:27,  2.91it/s]"
          ]
        },
        {
          "output_type": "stream",
          "name": "stdout",
          "text": [
            "dataset/aug/train/images/597_0.png\n",
            "True\n",
            "dataset/aug/train/images/597_1.png\n",
            "True\n",
            "dataset/aug/train/images/597_2.png\n",
            "True\n",
            "dataset/aug/train/images/597_3.png\n",
            "True\n",
            "dataset/aug/train/images/597_4.png\n",
            "True\n"
          ]
        },
        {
          "output_type": "stream",
          "name": "stderr",
          "text": [
            "\r 13%|█▎        | 62/490 [00:24<02:21,  3.03it/s]"
          ]
        },
        {
          "output_type": "stream",
          "name": "stdout",
          "text": [
            "dataset/aug/train/images/598_0.png\n",
            "True\n",
            "dataset/aug/train/images/598_1.png\n",
            "True\n",
            "dataset/aug/train/images/598_2.png\n",
            "True\n",
            "dataset/aug/train/images/598_3.png\n",
            "True\n",
            "dataset/aug/train/images/598_4.png\n",
            "True\n"
          ]
        },
        {
          "output_type": "stream",
          "name": "stderr",
          "text": [
            "\r 13%|█▎        | 63/490 [00:24<02:53,  2.46it/s]"
          ]
        },
        {
          "output_type": "stream",
          "name": "stdout",
          "text": [
            "dataset/aug/train/images/505_0.png\n",
            "True\n",
            "dataset/aug/train/images/505_1.png\n",
            "True\n",
            "dataset/aug/train/images/505_2.png\n",
            "True\n",
            "dataset/aug/train/images/505_3.png\n",
            "True\n",
            "dataset/aug/train/images/505_4.png\n",
            "True\n"
          ]
        },
        {
          "output_type": "stream",
          "name": "stderr",
          "text": [
            "\r 13%|█▎        | 64/490 [00:25<02:41,  2.64it/s]"
          ]
        },
        {
          "output_type": "stream",
          "name": "stdout",
          "text": [
            "dataset/aug/train/images/404_0.png\n",
            "True\n",
            "dataset/aug/train/images/404_1.png\n",
            "True\n",
            "dataset/aug/train/images/404_2.png\n",
            "True\n",
            "dataset/aug/train/images/404_3.png\n",
            "True\n",
            "dataset/aug/train/images/404_4.png\n",
            "True\n"
          ]
        },
        {
          "output_type": "stream",
          "name": "stderr",
          "text": [
            "\r 13%|█▎        | 65/490 [00:25<02:30,  2.83it/s]"
          ]
        },
        {
          "output_type": "stream",
          "name": "stdout",
          "text": [
            "dataset/aug/train/images/16_0.png\n",
            "True\n",
            "dataset/aug/train/images/16_1.png\n",
            "True\n",
            "dataset/aug/train/images/16_2.png\n",
            "True\n",
            "dataset/aug/train/images/16_3.png\n",
            "True\n",
            "dataset/aug/train/images/16_4.png\n",
            "True\n"
          ]
        },
        {
          "output_type": "stream",
          "name": "stderr",
          "text": [
            "\r 13%|█▎        | 66/490 [00:25<02:31,  2.80it/s]"
          ]
        },
        {
          "output_type": "stream",
          "name": "stdout",
          "text": [
            "dataset/aug/train/images/191_0.png\n",
            "True\n",
            "dataset/aug/train/images/191_1.png\n",
            "True\n",
            "dataset/aug/train/images/191_2.png\n",
            "True\n",
            "dataset/aug/train/images/191_3.png\n",
            "True\n",
            "dataset/aug/train/images/191_4.png\n",
            "True\n"
          ]
        },
        {
          "output_type": "stream",
          "name": "stderr",
          "text": [
            "\r 14%|█▎        | 67/490 [00:26<02:27,  2.87it/s]"
          ]
        },
        {
          "output_type": "stream",
          "name": "stdout",
          "text": [
            "dataset/aug/train/images/227_0.png\n",
            "True\n",
            "dataset/aug/train/images/227_1.png\n",
            "True\n",
            "dataset/aug/train/images/227_2.png\n",
            "True\n",
            "dataset/aug/train/images/227_3.png\n",
            "True\n",
            "dataset/aug/train/images/227_4.png\n",
            "True\n"
          ]
        },
        {
          "output_type": "stream",
          "name": "stderr",
          "text": [
            "\r 14%|█▍        | 68/490 [00:26<02:22,  2.95it/s]"
          ]
        },
        {
          "output_type": "stream",
          "name": "stdout",
          "text": [
            "dataset/aug/train/images/511_0.png\n",
            "True\n",
            "dataset/aug/train/images/511_1.png\n",
            "True\n",
            "dataset/aug/train/images/511_2.png\n",
            "True\n",
            "dataset/aug/train/images/511_3.png\n",
            "True\n",
            "dataset/aug/train/images/511_4.png\n",
            "True\n"
          ]
        },
        {
          "output_type": "stream",
          "name": "stderr",
          "text": [
            "\r 14%|█▍        | 69/490 [00:26<02:25,  2.90it/s]"
          ]
        },
        {
          "output_type": "stream",
          "name": "stdout",
          "text": [
            "dataset/aug/train/images/127_0.png\n",
            "True\n",
            "dataset/aug/train/images/127_1.png\n",
            "True\n",
            "dataset/aug/train/images/127_2.png\n",
            "True\n",
            "dataset/aug/train/images/127_3.png\n",
            "True\n",
            "dataset/aug/train/images/127_4.png\n",
            "True\n"
          ]
        },
        {
          "output_type": "stream",
          "name": "stderr",
          "text": [
            "\r 14%|█▍        | 70/490 [00:27<02:30,  2.80it/s]"
          ]
        },
        {
          "output_type": "stream",
          "name": "stdout",
          "text": [
            "dataset/aug/train/images/350_0.png\n",
            "True\n",
            "dataset/aug/train/images/350_1.png\n",
            "True\n",
            "dataset/aug/train/images/350_2.png\n",
            "True\n",
            "dataset/aug/train/images/350_3.png\n",
            "True\n",
            "dataset/aug/train/images/350_4.png\n",
            "True\n"
          ]
        },
        {
          "output_type": "stream",
          "name": "stderr",
          "text": [
            "\r 14%|█▍        | 71/490 [00:27<02:27,  2.84it/s]"
          ]
        },
        {
          "output_type": "stream",
          "name": "stdout",
          "text": [
            "dataset/aug/train/images/559_0.png\n",
            "True\n",
            "dataset/aug/train/images/559_1.png\n",
            "True\n",
            "dataset/aug/train/images/559_2.png\n",
            "True\n",
            "dataset/aug/train/images/559_3.png\n",
            "True\n",
            "dataset/aug/train/images/559_4.png\n",
            "True\n"
          ]
        },
        {
          "output_type": "stream",
          "name": "stderr",
          "text": [
            "\r 15%|█▍        | 72/490 [00:28<02:45,  2.53it/s]"
          ]
        },
        {
          "output_type": "stream",
          "name": "stdout",
          "text": [
            "dataset/aug/train/images/46_0.png\n",
            "True\n",
            "dataset/aug/train/images/46_1.png\n",
            "True\n",
            "dataset/aug/train/images/46_2.png\n",
            "True\n",
            "dataset/aug/train/images/46_3.png\n",
            "True\n",
            "dataset/aug/train/images/46_4.png\n",
            "True\n"
          ]
        },
        {
          "output_type": "stream",
          "name": "stderr",
          "text": [
            "\r 15%|█▍        | 73/490 [00:28<02:35,  2.68it/s]"
          ]
        },
        {
          "output_type": "stream",
          "name": "stdout",
          "text": [
            "dataset/aug/train/images/42_0.png\n",
            "True\n",
            "dataset/aug/train/images/42_1.png\n",
            "True\n",
            "dataset/aug/train/images/42_2.png\n",
            "True\n",
            "dataset/aug/train/images/42_3.png\n",
            "True\n",
            "dataset/aug/train/images/42_4.png\n",
            "True\n"
          ]
        },
        {
          "output_type": "stream",
          "name": "stderr",
          "text": [
            "\r 15%|█▌        | 74/490 [00:28<02:27,  2.81it/s]"
          ]
        },
        {
          "output_type": "stream",
          "name": "stdout",
          "text": [
            "dataset/aug/train/images/317_0.png\n",
            "True\n",
            "dataset/aug/train/images/317_1.png\n",
            "True\n",
            "dataset/aug/train/images/317_2.png\n",
            "True\n",
            "dataset/aug/train/images/317_3.png\n",
            "True\n",
            "dataset/aug/train/images/317_4.png\n",
            "True\n"
          ]
        },
        {
          "output_type": "stream",
          "name": "stderr",
          "text": [
            "\r 15%|█▌        | 75/490 [00:29<02:22,  2.91it/s]"
          ]
        },
        {
          "output_type": "stream",
          "name": "stdout",
          "text": [
            "dataset/aug/train/images/241_0.png\n",
            "True\n",
            "dataset/aug/train/images/241_1.png\n",
            "True\n",
            "dataset/aug/train/images/241_2.png\n",
            "True\n",
            "dataset/aug/train/images/241_3.png\n",
            "True\n",
            "dataset/aug/train/images/241_4.png\n",
            "True\n"
          ]
        },
        {
          "output_type": "stream",
          "name": "stderr",
          "text": [
            "\r 16%|█▌        | 76/490 [00:29<02:11,  3.14it/s]"
          ]
        },
        {
          "output_type": "stream",
          "name": "stdout",
          "text": [
            "dataset/aug/train/images/515_0.png\n",
            "True\n",
            "dataset/aug/train/images/515_1.png\n",
            "True\n",
            "dataset/aug/train/images/515_2.png\n",
            "True\n",
            "dataset/aug/train/images/515_3.png\n",
            "True\n",
            "dataset/aug/train/images/515_4.png\n",
            "True\n"
          ]
        },
        {
          "output_type": "stream",
          "name": "stderr",
          "text": [
            "\r 16%|█▌        | 77/490 [00:29<02:14,  3.07it/s]"
          ]
        },
        {
          "output_type": "stream",
          "name": "stdout",
          "text": [
            "dataset/aug/train/images/477_0.png\n",
            "True\n",
            "dataset/aug/train/images/477_1.png\n",
            "True\n",
            "dataset/aug/train/images/477_2.png\n",
            "True\n",
            "dataset/aug/train/images/477_3.png\n",
            "True\n",
            "dataset/aug/train/images/477_4.png\n",
            "True\n"
          ]
        },
        {
          "output_type": "stream",
          "name": "stderr",
          "text": [
            "\r 16%|█▌        | 78/490 [00:29<02:09,  3.18it/s]"
          ]
        },
        {
          "output_type": "stream",
          "name": "stdout",
          "text": [
            "dataset/aug/train/images/392_0.png\n",
            "True\n",
            "dataset/aug/train/images/392_1.png\n",
            "True\n",
            "dataset/aug/train/images/392_2.png\n",
            "True\n",
            "dataset/aug/train/images/392_3.png\n",
            "True\n",
            "dataset/aug/train/images/392_4.png\n",
            "True\n"
          ]
        },
        {
          "output_type": "stream",
          "name": "stderr",
          "text": [
            "\r 16%|█▌        | 79/490 [00:30<02:02,  3.36it/s]"
          ]
        },
        {
          "output_type": "stream",
          "name": "stdout",
          "text": [
            "dataset/aug/train/images/186_0.png\n",
            "True\n",
            "dataset/aug/train/images/186_1.png\n",
            "True\n",
            "dataset/aug/train/images/186_2.png\n",
            "True\n",
            "dataset/aug/train/images/186_3.png\n",
            "True\n",
            "dataset/aug/train/images/186_4.png\n",
            "True\n"
          ]
        },
        {
          "output_type": "stream",
          "name": "stderr",
          "text": [
            "\r 16%|█▋        | 80/490 [00:30<02:01,  3.38it/s]"
          ]
        },
        {
          "output_type": "stream",
          "name": "stdout",
          "text": [
            "dataset/aug/train/images/148_0.png\n",
            "True\n",
            "dataset/aug/train/images/148_1.png\n",
            "True\n",
            "dataset/aug/train/images/148_2.png\n",
            "True\n",
            "dataset/aug/train/images/148_3.png\n",
            "True\n",
            "dataset/aug/train/images/148_4.png\n",
            "True\n"
          ]
        },
        {
          "output_type": "stream",
          "name": "stderr",
          "text": [
            "\r 17%|█▋        | 81/490 [00:30<01:56,  3.51it/s]"
          ]
        },
        {
          "output_type": "stream",
          "name": "stdout",
          "text": [
            "dataset/aug/train/images/139_0.png\n",
            "True\n",
            "dataset/aug/train/images/139_1.png\n",
            "True\n",
            "dataset/aug/train/images/139_2.png\n",
            "True\n",
            "dataset/aug/train/images/139_3.png\n",
            "True\n",
            "dataset/aug/train/images/139_4.png\n",
            "True\n"
          ]
        },
        {
          "output_type": "stream",
          "name": "stderr",
          "text": [
            "\r 17%|█▋        | 82/490 [00:31<02:01,  3.36it/s]"
          ]
        },
        {
          "output_type": "stream",
          "name": "stdout",
          "text": [
            "dataset/aug/train/images/326_0.png\n",
            "True\n",
            "dataset/aug/train/images/326_1.png\n",
            "True\n",
            "dataset/aug/train/images/326_2.png\n",
            "True\n",
            "dataset/aug/train/images/326_3.png\n",
            "True\n",
            "dataset/aug/train/images/326_4.png\n",
            "True\n"
          ]
        },
        {
          "output_type": "stream",
          "name": "stderr",
          "text": [
            "\r 17%|█▋        | 83/490 [00:31<02:03,  3.31it/s]"
          ]
        },
        {
          "output_type": "stream",
          "name": "stdout",
          "text": [
            "dataset/aug/train/images/305_0.png\n",
            "True\n",
            "dataset/aug/train/images/305_1.png\n",
            "True\n",
            "dataset/aug/train/images/305_2.png\n",
            "True\n",
            "dataset/aug/train/images/305_3.png\n",
            "True\n",
            "dataset/aug/train/images/305_4.png\n",
            "True\n"
          ]
        },
        {
          "output_type": "stream",
          "name": "stderr",
          "text": [
            "\r 17%|█▋        | 84/490 [00:31<02:02,  3.32it/s]"
          ]
        },
        {
          "output_type": "stream",
          "name": "stdout",
          "text": [
            "dataset/aug/train/images/5_0.png\n",
            "True\n",
            "dataset/aug/train/images/5_1.png\n",
            "True\n",
            "dataset/aug/train/images/5_2.png\n",
            "True\n",
            "dataset/aug/train/images/5_3.png\n",
            "True\n",
            "dataset/aug/train/images/5_4.png\n",
            "True\n"
          ]
        },
        {
          "output_type": "stream",
          "name": "stderr",
          "text": [
            "\r 17%|█▋        | 85/490 [00:32<02:32,  2.66it/s]"
          ]
        },
        {
          "output_type": "stream",
          "name": "stdout",
          "text": [
            "dataset/aug/train/images/202_0.png\n",
            "True\n",
            "dataset/aug/train/images/202_1.png\n",
            "True\n",
            "dataset/aug/train/images/202_2.png\n",
            "True\n",
            "dataset/aug/train/images/202_3.png\n",
            "True\n",
            "dataset/aug/train/images/202_4.png\n",
            "True\n"
          ]
        },
        {
          "output_type": "stream",
          "name": "stderr",
          "text": [
            "\r 18%|█▊        | 86/490 [00:32<02:27,  2.74it/s]"
          ]
        },
        {
          "output_type": "stream",
          "name": "stdout",
          "text": [
            "dataset/aug/train/images/472_0.png\n",
            "True\n",
            "dataset/aug/train/images/472_1.png\n",
            "True\n",
            "dataset/aug/train/images/472_2.png\n",
            "True\n",
            "dataset/aug/train/images/472_3.png\n",
            "True\n",
            "dataset/aug/train/images/472_4.png\n",
            "True\n"
          ]
        },
        {
          "output_type": "stream",
          "name": "stderr",
          "text": [
            "\r 18%|█▊        | 87/490 [00:32<02:26,  2.75it/s]"
          ]
        },
        {
          "output_type": "stream",
          "name": "stdout",
          "text": [
            "dataset/aug/train/images/429_0.png\n",
            "True\n",
            "dataset/aug/train/images/429_1.png\n",
            "True\n",
            "dataset/aug/train/images/429_2.png\n",
            "True\n",
            "dataset/aug/train/images/429_3.png\n",
            "True\n",
            "dataset/aug/train/images/429_4.png\n",
            "True\n"
          ]
        },
        {
          "output_type": "stream",
          "name": "stderr",
          "text": [
            "\r 18%|█▊        | 88/490 [00:33<02:21,  2.84it/s]"
          ]
        },
        {
          "output_type": "stream",
          "name": "stdout",
          "text": [
            "dataset/aug/train/images/50_0.png\n",
            "True\n",
            "dataset/aug/train/images/50_1.png\n",
            "True\n",
            "dataset/aug/train/images/50_2.png\n",
            "True\n",
            "dataset/aug/train/images/50_3.png\n",
            "True\n",
            "dataset/aug/train/images/50_4.png\n",
            "True\n"
          ]
        },
        {
          "output_type": "stream",
          "name": "stderr",
          "text": [
            "\r 18%|█▊        | 89/490 [00:33<02:17,  2.91it/s]"
          ]
        },
        {
          "output_type": "stream",
          "name": "stdout",
          "text": [
            "dataset/aug/train/images/492_0.png\n",
            "True\n",
            "dataset/aug/train/images/492_1.png\n",
            "True\n",
            "dataset/aug/train/images/492_2.png\n",
            "True\n",
            "dataset/aug/train/images/492_3.png\n",
            "True\n",
            "dataset/aug/train/images/492_4.png\n",
            "True\n"
          ]
        },
        {
          "output_type": "stream",
          "name": "stderr",
          "text": [
            "\r 18%|█▊        | 90/490 [00:33<02:18,  2.90it/s]"
          ]
        },
        {
          "output_type": "stream",
          "name": "stdout",
          "text": [
            "dataset/aug/train/images/8_0.png\n",
            "True\n",
            "dataset/aug/train/images/8_1.png\n",
            "True\n",
            "dataset/aug/train/images/8_2.png\n",
            "True\n",
            "dataset/aug/train/images/8_3.png\n",
            "True\n",
            "dataset/aug/train/images/8_4.png\n",
            "True\n"
          ]
        },
        {
          "output_type": "stream",
          "name": "stderr",
          "text": [
            "\r 19%|█▊        | 91/490 [00:34<02:10,  3.06it/s]"
          ]
        },
        {
          "output_type": "stream",
          "name": "stdout",
          "text": [
            "dataset/aug/train/images/2_0.png\n",
            "True\n",
            "dataset/aug/train/images/2_1.png\n",
            "True\n",
            "dataset/aug/train/images/2_2.png\n",
            "True\n",
            "dataset/aug/train/images/2_3.png\n",
            "True\n",
            "dataset/aug/train/images/2_4.png\n",
            "True\n"
          ]
        },
        {
          "output_type": "stream",
          "name": "stderr",
          "text": [
            "\r 19%|█▉        | 92/490 [00:34<02:03,  3.23it/s]"
          ]
        },
        {
          "output_type": "stream",
          "name": "stdout",
          "text": [
            "dataset/aug/train/images/550_0.png\n",
            "True\n",
            "dataset/aug/train/images/550_1.png\n",
            "True\n",
            "dataset/aug/train/images/550_2.png\n",
            "True\n",
            "dataset/aug/train/images/550_3.png\n",
            "True\n",
            "dataset/aug/train/images/550_4.png\n",
            "True\n"
          ]
        },
        {
          "output_type": "stream",
          "name": "stderr",
          "text": [
            "\r 19%|█▉        | 93/490 [00:34<01:57,  3.39it/s]"
          ]
        },
        {
          "output_type": "stream",
          "name": "stdout",
          "text": [
            "dataset/aug/train/images/362_0.png\n",
            "True\n",
            "dataset/aug/train/images/362_1.png\n",
            "True\n",
            "dataset/aug/train/images/362_2.png\n",
            "True\n",
            "dataset/aug/train/images/362_3.png\n",
            "True\n",
            "dataset/aug/train/images/362_4.png\n",
            "True\n"
          ]
        },
        {
          "output_type": "stream",
          "name": "stderr",
          "text": [
            "\r 19%|█▉        | 94/490 [00:35<02:07,  3.12it/s]"
          ]
        },
        {
          "output_type": "stream",
          "name": "stdout",
          "text": [
            "dataset/aug/train/images/430_0.png\n",
            "True\n",
            "dataset/aug/train/images/430_1.png\n",
            "True\n",
            "dataset/aug/train/images/430_2.png\n",
            "True\n",
            "dataset/aug/train/images/430_3.png\n",
            "True\n",
            "dataset/aug/train/images/430_4.png\n",
            "True\n"
          ]
        },
        {
          "output_type": "stream",
          "name": "stderr",
          "text": [
            "\r 19%|█▉        | 95/490 [00:35<02:07,  3.09it/s]"
          ]
        },
        {
          "output_type": "stream",
          "name": "stdout",
          "text": [
            "dataset/aug/train/images/411_0.png\n",
            "True\n",
            "dataset/aug/train/images/411_1.png\n",
            "True\n",
            "dataset/aug/train/images/411_2.png\n",
            "True\n",
            "dataset/aug/train/images/411_3.png\n",
            "True\n",
            "dataset/aug/train/images/411_4.png\n",
            "True\n"
          ]
        },
        {
          "output_type": "stream",
          "name": "stderr",
          "text": [
            "\r 20%|█▉        | 96/490 [00:35<02:03,  3.19it/s]"
          ]
        },
        {
          "output_type": "stream",
          "name": "stdout",
          "text": [
            "dataset/aug/train/images/587_0.png\n",
            "True\n",
            "dataset/aug/train/images/587_1.png\n",
            "True\n",
            "dataset/aug/train/images/587_2.png\n",
            "True\n",
            "dataset/aug/train/images/587_3.png\n",
            "True\n",
            "dataset/aug/train/images/587_4.png\n",
            "True\n"
          ]
        },
        {
          "output_type": "stream",
          "name": "stderr",
          "text": [
            "\r 20%|█▉        | 97/490 [00:36<02:00,  3.26it/s]"
          ]
        },
        {
          "output_type": "stream",
          "name": "stdout",
          "text": [
            "dataset/aug/train/images/438_0.png\n",
            "True\n",
            "dataset/aug/train/images/438_1.png\n",
            "True\n",
            "dataset/aug/train/images/438_2.png\n",
            "True\n",
            "dataset/aug/train/images/438_3.png\n",
            "True\n",
            "dataset/aug/train/images/438_4.png\n",
            "True\n"
          ]
        },
        {
          "output_type": "stream",
          "name": "stderr",
          "text": [
            "\r 20%|██        | 98/490 [00:36<01:58,  3.31it/s]"
          ]
        },
        {
          "output_type": "stream",
          "name": "stdout",
          "text": [
            "dataset/aug/train/images/56_0.png\n",
            "True\n",
            "dataset/aug/train/images/56_1.png\n",
            "True\n",
            "dataset/aug/train/images/56_2.png\n",
            "True\n",
            "dataset/aug/train/images/56_3.png\n",
            "True\n",
            "dataset/aug/train/images/56_4.png\n",
            "True\n"
          ]
        },
        {
          "output_type": "stream",
          "name": "stderr",
          "text": [
            "\r 20%|██        | 99/490 [00:36<02:11,  2.96it/s]"
          ]
        },
        {
          "output_type": "stream",
          "name": "stdout",
          "text": [
            "dataset/aug/train/images/522_0.png\n",
            "True\n",
            "dataset/aug/train/images/522_1.png\n",
            "True\n",
            "dataset/aug/train/images/522_2.png\n",
            "True\n",
            "dataset/aug/train/images/522_3.png\n",
            "True\n",
            "dataset/aug/train/images/522_4.png\n",
            "True\n"
          ]
        },
        {
          "output_type": "stream",
          "name": "stderr",
          "text": [
            "\r 20%|██        | 100/490 [00:37<02:06,  3.07it/s]"
          ]
        },
        {
          "output_type": "stream",
          "name": "stdout",
          "text": [
            "dataset/aug/train/images/568_0.png\n",
            "True\n",
            "dataset/aug/train/images/568_1.png\n",
            "True\n",
            "dataset/aug/train/images/568_2.png\n",
            "True\n",
            "dataset/aug/train/images/568_3.png\n",
            "True\n",
            "dataset/aug/train/images/568_4.png\n",
            "True\n"
          ]
        },
        {
          "output_type": "stream",
          "name": "stderr",
          "text": [
            "\r 21%|██        | 101/490 [00:37<01:56,  3.34it/s]"
          ]
        },
        {
          "output_type": "stream",
          "name": "stdout",
          "text": [
            "dataset/aug/train/images/278_0.png\n",
            "True\n",
            "dataset/aug/train/images/278_1.png\n",
            "True\n",
            "dataset/aug/train/images/278_2.png\n",
            "True\n",
            "dataset/aug/train/images/278_3.png\n",
            "True\n",
            "dataset/aug/train/images/278_4.png\n",
            "True\n"
          ]
        },
        {
          "output_type": "stream",
          "name": "stderr",
          "text": [
            "\r 21%|██        | 102/490 [00:37<02:02,  3.17it/s]"
          ]
        },
        {
          "output_type": "stream",
          "name": "stdout",
          "text": [
            "dataset/aug/train/images/528_0.png\n",
            "True\n",
            "dataset/aug/train/images/528_1.png\n",
            "True\n",
            "dataset/aug/train/images/528_2.png\n",
            "True\n",
            "dataset/aug/train/images/528_3.png\n",
            "True\n",
            "dataset/aug/train/images/528_4.png\n",
            "True\n",
            "dataset/aug/train/images/383_0.png\n",
            "True\n",
            "dataset/aug/train/images/383_1.png\n"
          ]
        },
        {
          "output_type": "stream",
          "name": "stderr",
          "text": [
            "\r 21%|██        | 103/490 [00:38<02:17,  2.81it/s]"
          ]
        },
        {
          "output_type": "stream",
          "name": "stdout",
          "text": [
            "True\n",
            "dataset/aug/train/images/383_2.png\n",
            "True\n",
            "dataset/aug/train/images/383_3.png\n",
            "True\n",
            "dataset/aug/train/images/383_4.png\n",
            "True\n"
          ]
        },
        {
          "output_type": "stream",
          "name": "stderr",
          "text": [
            "\r 21%|██        | 104/490 [00:38<02:17,  2.82it/s]"
          ]
        },
        {
          "output_type": "stream",
          "name": "stdout",
          "text": [
            "dataset/aug/train/images/532_0.png\n",
            "True\n",
            "dataset/aug/train/images/532_1.png\n",
            "True\n",
            "dataset/aug/train/images/532_2.png\n",
            "True\n",
            "dataset/aug/train/images/532_3.png\n",
            "True\n",
            "dataset/aug/train/images/532_4.png\n",
            "True\n"
          ]
        },
        {
          "output_type": "stream",
          "name": "stderr",
          "text": [
            "\r 21%|██▏       | 105/490 [00:38<02:07,  3.03it/s]"
          ]
        },
        {
          "output_type": "stream",
          "name": "stdout",
          "text": [
            "dataset/aug/train/images/234_0.png\n",
            "True\n",
            "dataset/aug/train/images/234_1.png\n",
            "True\n",
            "dataset/aug/train/images/234_2.png\n",
            "True\n",
            "dataset/aug/train/images/234_3.png\n",
            "True\n",
            "dataset/aug/train/images/234_4.png\n",
            "True\n"
          ]
        },
        {
          "output_type": "stream",
          "name": "stderr",
          "text": [
            "\r 22%|██▏       | 106/490 [00:39<02:11,  2.91it/s]"
          ]
        },
        {
          "output_type": "stream",
          "name": "stdout",
          "text": [
            "dataset/aug/train/images/98_0.png\n",
            "True\n",
            "dataset/aug/train/images/98_1.png\n",
            "True\n",
            "dataset/aug/train/images/98_2.png\n",
            "True\n",
            "dataset/aug/train/images/98_3.png\n",
            "True\n",
            "dataset/aug/train/images/98_4.png\n",
            "True\n"
          ]
        },
        {
          "output_type": "stream",
          "name": "stderr",
          "text": [
            "\r 22%|██▏       | 107/490 [00:39<02:20,  2.72it/s]"
          ]
        },
        {
          "output_type": "stream",
          "name": "stdout",
          "text": [
            "dataset/aug/train/images/111_0.png\n",
            "True\n",
            "dataset/aug/train/images/111_1.png\n",
            "True\n",
            "dataset/aug/train/images/111_2.png\n",
            "True\n",
            "dataset/aug/train/images/111_3.png\n",
            "True\n",
            "dataset/aug/train/images/111_4.png\n",
            "True\n"
          ]
        },
        {
          "output_type": "stream",
          "name": "stderr",
          "text": [
            "\r 22%|██▏       | 108/490 [00:39<02:13,  2.86it/s]"
          ]
        },
        {
          "output_type": "stream",
          "name": "stdout",
          "text": [
            "dataset/aug/train/images/11_0.png\n",
            "True\n",
            "dataset/aug/train/images/11_1.png\n",
            "True\n",
            "dataset/aug/train/images/11_2.png\n",
            "True\n",
            "dataset/aug/train/images/11_3.png\n",
            "True\n",
            "dataset/aug/train/images/11_4.png\n",
            "True\n"
          ]
        },
        {
          "output_type": "stream",
          "name": "stderr",
          "text": [
            "\r 22%|██▏       | 109/490 [00:40<02:30,  2.53it/s]"
          ]
        },
        {
          "output_type": "stream",
          "name": "stdout",
          "text": [
            "dataset/aug/train/images/406_0.png\n",
            "True\n",
            "dataset/aug/train/images/406_1.png\n",
            "True\n",
            "dataset/aug/train/images/406_2.png\n",
            "True\n",
            "dataset/aug/train/images/406_3.png\n",
            "True\n",
            "dataset/aug/train/images/406_4.png\n",
            "True\n"
          ]
        },
        {
          "output_type": "stream",
          "name": "stderr",
          "text": [
            "\r 22%|██▏       | 110/490 [00:40<02:16,  2.78it/s]"
          ]
        },
        {
          "output_type": "stream",
          "name": "stdout",
          "text": [
            "dataset/aug/train/images/270_0.png\n",
            "True\n",
            "dataset/aug/train/images/270_1.png\n",
            "True\n",
            "dataset/aug/train/images/270_2.png\n",
            "True\n",
            "dataset/aug/train/images/270_3.png\n",
            "True\n",
            "dataset/aug/train/images/270_4.png\n",
            "True\n"
          ]
        },
        {
          "output_type": "stream",
          "name": "stderr",
          "text": [
            "\r 23%|██▎       | 111/490 [00:41<02:14,  2.81it/s]"
          ]
        },
        {
          "output_type": "stream",
          "name": "stdout",
          "text": [
            "dataset/aug/train/images/363_0.png\n",
            "True\n",
            "dataset/aug/train/images/363_1.png\n",
            "True\n",
            "dataset/aug/train/images/363_2.png\n",
            "True\n",
            "dataset/aug/train/images/363_3.png\n",
            "True\n",
            "dataset/aug/train/images/363_4.png\n",
            "True\n"
          ]
        },
        {
          "output_type": "stream",
          "name": "stderr",
          "text": [
            "\r 23%|██▎       | 112/490 [00:41<02:09,  2.92it/s]"
          ]
        },
        {
          "output_type": "stream",
          "name": "stdout",
          "text": [
            "dataset/aug/train/images/423_0.png\n",
            "True\n",
            "dataset/aug/train/images/423_1.png\n",
            "True\n",
            "dataset/aug/train/images/423_2.png\n",
            "True\n",
            "dataset/aug/train/images/423_3.png\n",
            "True\n",
            "dataset/aug/train/images/423_4.png\n",
            "True\n"
          ]
        },
        {
          "output_type": "stream",
          "name": "stderr",
          "text": [
            "\r 23%|██▎       | 113/490 [00:41<02:11,  2.86it/s]"
          ]
        },
        {
          "output_type": "stream",
          "name": "stdout",
          "text": [
            "dataset/aug/train/images/140_0.png\n",
            "True\n",
            "dataset/aug/train/images/140_1.png\n",
            "True\n",
            "dataset/aug/train/images/140_2.png\n",
            "True\n",
            "dataset/aug/train/images/140_3.png\n",
            "True\n",
            "dataset/aug/train/images/140_4.png\n",
            "True\n"
          ]
        },
        {
          "output_type": "stream",
          "name": "stderr",
          "text": [
            "\r 23%|██▎       | 114/490 [00:42<02:24,  2.61it/s]"
          ]
        },
        {
          "output_type": "stream",
          "name": "stdout",
          "text": [
            "dataset/aug/train/images/33_0.png\n",
            "True\n",
            "dataset/aug/train/images/33_1.png\n",
            "True\n",
            "dataset/aug/train/images/33_2.png\n",
            "True\n",
            "dataset/aug/train/images/33_3.png\n",
            "True\n",
            "dataset/aug/train/images/33_4.png\n",
            "True\n"
          ]
        },
        {
          "output_type": "stream",
          "name": "stderr",
          "text": [
            "\r 23%|██▎       | 115/490 [00:42<02:13,  2.80it/s]"
          ]
        },
        {
          "output_type": "stream",
          "name": "stdout",
          "text": [
            "dataset/aug/train/images/539_0.png\n",
            "True\n",
            "dataset/aug/train/images/539_1.png\n",
            "True\n",
            "dataset/aug/train/images/539_2.png\n",
            "True\n",
            "dataset/aug/train/images/539_3.png\n",
            "True\n",
            "dataset/aug/train/images/539_4.png\n",
            "True\n"
          ]
        },
        {
          "output_type": "stream",
          "name": "stderr",
          "text": [
            "\r 24%|██▎       | 116/490 [00:42<02:08,  2.90it/s]"
          ]
        },
        {
          "output_type": "stream",
          "name": "stdout",
          "text": [
            "dataset/aug/train/images/488_0.png\n",
            "True\n",
            "dataset/aug/train/images/488_1.png\n",
            "True\n",
            "dataset/aug/train/images/488_2.png\n",
            "True\n",
            "dataset/aug/train/images/488_3.png\n",
            "True\n",
            "dataset/aug/train/images/488_4.png\n",
            "True\n"
          ]
        },
        {
          "output_type": "stream",
          "name": "stderr",
          "text": [
            "\r 24%|██▍       | 117/490 [00:43<02:00,  3.08it/s]"
          ]
        },
        {
          "output_type": "stream",
          "name": "stdout",
          "text": [
            "dataset/aug/train/images/533_0.png\n",
            "True\n",
            "dataset/aug/train/images/533_1.png\n",
            "True\n",
            "dataset/aug/train/images/533_2.png\n",
            "True\n",
            "dataset/aug/train/images/533_3.png\n",
            "True\n",
            "dataset/aug/train/images/533_4.png\n",
            "True\n"
          ]
        },
        {
          "output_type": "stream",
          "name": "stderr",
          "text": [
            "\r 24%|██▍       | 118/490 [00:43<01:59,  3.11it/s]"
          ]
        },
        {
          "output_type": "stream",
          "name": "stdout",
          "text": [
            "dataset/aug/train/images/395_0.png\n",
            "True\n",
            "dataset/aug/train/images/395_1.png\n",
            "True\n",
            "dataset/aug/train/images/395_2.png\n",
            "True\n",
            "dataset/aug/train/images/395_3.png\n",
            "True\n",
            "dataset/aug/train/images/395_4.png\n",
            "True\n"
          ]
        },
        {
          "output_type": "stream",
          "name": "stderr",
          "text": [
            "\r 24%|██▍       | 119/490 [00:43<02:16,  2.71it/s]"
          ]
        },
        {
          "output_type": "stream",
          "name": "stdout",
          "text": [
            "dataset/aug/train/images/255_0.png\n",
            "True\n",
            "dataset/aug/train/images/255_1.png\n",
            "True\n",
            "dataset/aug/train/images/255_2.png\n",
            "True\n",
            "dataset/aug/train/images/255_3.png\n",
            "True\n",
            "dataset/aug/train/images/255_4.png\n",
            "True\n"
          ]
        },
        {
          "output_type": "stream",
          "name": "stderr",
          "text": [
            "\r 24%|██▍       | 120/490 [00:44<02:08,  2.88it/s]"
          ]
        },
        {
          "output_type": "stream",
          "name": "stdout",
          "text": [
            "dataset/aug/train/images/15_0.png\n",
            "True\n",
            "dataset/aug/train/images/15_1.png\n",
            "True\n",
            "dataset/aug/train/images/15_2.png\n",
            "True\n",
            "dataset/aug/train/images/15_3.png\n",
            "True\n",
            "dataset/aug/train/images/15_4.png\n",
            "True\n"
          ]
        },
        {
          "output_type": "stream",
          "name": "stderr",
          "text": [
            "\r 25%|██▍       | 121/490 [00:44<02:03,  2.99it/s]"
          ]
        },
        {
          "output_type": "stream",
          "name": "stdout",
          "text": [
            "dataset/aug/train/images/284_0.png\n",
            "True\n",
            "dataset/aug/train/images/284_1.png\n",
            "True\n",
            "dataset/aug/train/images/284_2.png\n",
            "True\n",
            "dataset/aug/train/images/284_3.png\n",
            "True\n",
            "dataset/aug/train/images/284_4.png\n",
            "True\n"
          ]
        },
        {
          "output_type": "stream",
          "name": "stderr",
          "text": [
            "\r 25%|██▍       | 122/490 [00:44<01:55,  3.18it/s]"
          ]
        },
        {
          "output_type": "stream",
          "name": "stdout",
          "text": [
            "dataset/aug/train/images/325_0.png\n",
            "True\n",
            "dataset/aug/train/images/325_1.png\n",
            "True\n",
            "dataset/aug/train/images/325_2.png\n",
            "True\n",
            "dataset/aug/train/images/325_3.png\n",
            "True\n",
            "dataset/aug/train/images/325_4.png\n",
            "True\n"
          ]
        },
        {
          "output_type": "stream",
          "name": "stderr",
          "text": [
            "\r 25%|██▌       | 123/490 [00:45<02:09,  2.83it/s]"
          ]
        },
        {
          "output_type": "stream",
          "name": "stdout",
          "text": [
            "dataset/aug/train/images/577_0.png\n",
            "True\n",
            "dataset/aug/train/images/577_1.png\n",
            "True\n",
            "dataset/aug/train/images/577_2.png\n",
            "True\n",
            "dataset/aug/train/images/577_3.png\n",
            "True\n",
            "dataset/aug/train/images/577_4.png\n",
            "True\n"
          ]
        },
        {
          "output_type": "stream",
          "name": "stderr",
          "text": [
            "\r 25%|██▌       | 124/490 [00:45<02:08,  2.85it/s]"
          ]
        },
        {
          "output_type": "stream",
          "name": "stdout",
          "text": [
            "dataset/aug/train/images/24_0.png\n",
            "True\n",
            "dataset/aug/train/images/24_1.png\n",
            "True\n",
            "dataset/aug/train/images/24_2.png\n",
            "True\n",
            "dataset/aug/train/images/24_3.png\n",
            "True\n",
            "dataset/aug/train/images/24_4.png\n",
            "True\n"
          ]
        },
        {
          "output_type": "stream",
          "name": "stderr",
          "text": [
            "\r 26%|██▌       | 125/490 [00:45<02:05,  2.91it/s]"
          ]
        },
        {
          "output_type": "stream",
          "name": "stdout",
          "text": [
            "dataset/aug/train/images/431_0.png\n",
            "True\n",
            "dataset/aug/train/images/431_1.png\n",
            "True\n",
            "dataset/aug/train/images/431_2.png\n",
            "True\n",
            "dataset/aug/train/images/431_3.png\n",
            "True\n",
            "dataset/aug/train/images/431_4.png\n",
            "True\n"
          ]
        },
        {
          "output_type": "stream",
          "name": "stderr",
          "text": [
            "\r 26%|██▌       | 126/490 [00:46<02:02,  2.96it/s]"
          ]
        },
        {
          "output_type": "stream",
          "name": "stdout",
          "text": [
            "dataset/aug/train/images/417_0.png\n",
            "True\n",
            "dataset/aug/train/images/417_1.png\n",
            "True\n",
            "dataset/aug/train/images/417_2.png\n",
            "True\n",
            "dataset/aug/train/images/417_3.png\n",
            "True\n",
            "dataset/aug/train/images/417_4.png\n",
            "True\n"
          ]
        },
        {
          "output_type": "stream",
          "name": "stderr",
          "text": [
            "\r 26%|██▌       | 127/490 [00:46<01:58,  3.07it/s]"
          ]
        },
        {
          "output_type": "stream",
          "name": "stdout",
          "text": [
            "dataset/aug/train/images/231_0.png\n",
            "True\n",
            "dataset/aug/train/images/231_1.png\n",
            "True\n",
            "dataset/aug/train/images/231_2.png\n",
            "True\n",
            "dataset/aug/train/images/231_3.png\n",
            "True\n",
            "dataset/aug/train/images/231_4.png\n",
            "True\n"
          ]
        },
        {
          "output_type": "stream",
          "name": "stderr",
          "text": [
            "\r 26%|██▌       | 128/490 [00:46<02:19,  2.60it/s]"
          ]
        },
        {
          "output_type": "stream",
          "name": "stdout",
          "text": [
            "dataset/aug/train/images/256_0.png\n",
            "True\n",
            "dataset/aug/train/images/256_1.png\n",
            "True\n",
            "dataset/aug/train/images/256_2.png\n",
            "True\n",
            "dataset/aug/train/images/256_3.png\n",
            "True\n",
            "dataset/aug/train/images/256_4.png\n",
            "True\n"
          ]
        },
        {
          "output_type": "stream",
          "name": "stderr",
          "text": [
            "\r 26%|██▋       | 129/490 [00:47<02:08,  2.81it/s]"
          ]
        },
        {
          "output_type": "stream",
          "name": "stdout",
          "text": [
            "dataset/aug/train/images/375_0.png\n",
            "True\n",
            "dataset/aug/train/images/375_1.png\n",
            "True\n",
            "dataset/aug/train/images/375_2.png\n",
            "True\n",
            "dataset/aug/train/images/375_3.png\n",
            "True\n",
            "dataset/aug/train/images/375_4.png\n",
            "True\n"
          ]
        },
        {
          "output_type": "stream",
          "name": "stderr",
          "text": [
            "\r 27%|██▋       | 130/490 [00:47<02:05,  2.87it/s]"
          ]
        },
        {
          "output_type": "stream",
          "name": "stdout",
          "text": [
            "dataset/aug/train/images/449_0.png\n",
            "True\n",
            "dataset/aug/train/images/449_1.png\n",
            "True\n",
            "dataset/aug/train/images/449_2.png\n",
            "True\n",
            "dataset/aug/train/images/449_3.png\n",
            "True\n",
            "dataset/aug/train/images/449_4.png\n",
            "True\n"
          ]
        },
        {
          "output_type": "stream",
          "name": "stderr",
          "text": [
            "\r 27%|██▋       | 131/490 [00:47<02:03,  2.91it/s]"
          ]
        },
        {
          "output_type": "stream",
          "name": "stdout",
          "text": [
            "dataset/aug/train/images/402_0.png\n",
            "True\n",
            "dataset/aug/train/images/402_1.png\n",
            "True\n",
            "dataset/aug/train/images/402_2.png\n",
            "True\n",
            "dataset/aug/train/images/402_3.png\n",
            "True\n",
            "dataset/aug/train/images/402_4.png\n",
            "True\n"
          ]
        },
        {
          "output_type": "stream",
          "name": "stderr",
          "text": [
            "\r 27%|██▋       | 132/490 [00:48<02:04,  2.89it/s]"
          ]
        },
        {
          "output_type": "stream",
          "name": "stdout",
          "text": [
            "dataset/aug/train/images/555_0.png\n",
            "True\n",
            "dataset/aug/train/images/555_1.png\n",
            "True\n",
            "dataset/aug/train/images/555_2.png\n",
            "True\n",
            "dataset/aug/train/images/555_3.png\n",
            "True\n",
            "dataset/aug/train/images/555_4.png\n",
            "True\n"
          ]
        },
        {
          "output_type": "stream",
          "name": "stderr",
          "text": [
            "\r 27%|██▋       | 133/490 [00:48<01:59,  2.99it/s]"
          ]
        },
        {
          "output_type": "stream",
          "name": "stdout",
          "text": [
            "dataset/aug/train/images/128_0.png\n",
            "True\n",
            "dataset/aug/train/images/128_1.png\n",
            "True\n",
            "dataset/aug/train/images/128_2.png\n",
            "True\n",
            "dataset/aug/train/images/128_3.png\n",
            "True\n",
            "dataset/aug/train/images/128_4.png\n",
            "True\n"
          ]
        },
        {
          "output_type": "stream",
          "name": "stderr",
          "text": [
            "\r 27%|██▋       | 134/490 [00:48<02:01,  2.94it/s]"
          ]
        },
        {
          "output_type": "stream",
          "name": "stdout",
          "text": [
            "dataset/aug/train/images/228_0.png\n",
            "True\n",
            "dataset/aug/train/images/228_1.png\n",
            "True\n",
            "dataset/aug/train/images/228_2.png\n",
            "True\n",
            "dataset/aug/train/images/228_3.png\n",
            "True\n",
            "dataset/aug/train/images/228_4.png\n",
            "True\n"
          ]
        },
        {
          "output_type": "stream",
          "name": "stderr",
          "text": [
            "\r 28%|██▊       | 135/490 [00:49<02:04,  2.85it/s]"
          ]
        },
        {
          "output_type": "stream",
          "name": "stdout",
          "text": [
            "dataset/aug/train/images/204_0.png\n",
            "True\n",
            "dataset/aug/train/images/204_1.png\n",
            "True\n",
            "dataset/aug/train/images/204_2.png\n",
            "True\n",
            "dataset/aug/train/images/204_3.png\n",
            "True\n",
            "dataset/aug/train/images/204_4.png\n",
            "True\n"
          ]
        },
        {
          "output_type": "stream",
          "name": "stderr",
          "text": [
            " 28%|██▊       | 137/490 [00:49<01:28,  3.98it/s]"
          ]
        },
        {
          "output_type": "stream",
          "name": "stdout",
          "text": [
            "dataset/aug/train/images/344_0.png\n",
            "True\n",
            "dataset/aug/train/images/344_1.png\n",
            "True\n",
            "dataset/aug/train/images/344_2.png\n",
            "True\n",
            "dataset/aug/train/images/344_3.png\n",
            "True\n",
            "dataset/aug/train/images/344_4.png\n",
            "True\n",
            "dataset/aug/train/images/10_0.png\n",
            "True\n",
            "dataset/aug/train/images/10_1.png\n",
            "True\n",
            "dataset/aug/train/images/10_2.png\n",
            "True\n",
            "dataset/aug/train/images/10_3.png\n",
            "True\n",
            "dataset/aug/train/images/10_4.png\n",
            "True\n"
          ]
        },
        {
          "output_type": "stream",
          "name": "stderr",
          "text": [
            "\r 28%|██▊       | 138/490 [00:49<01:36,  3.64it/s]"
          ]
        },
        {
          "output_type": "stream",
          "name": "stdout",
          "text": [
            "dataset/aug/train/images/179_0.png\n",
            "True\n",
            "dataset/aug/train/images/179_1.png\n",
            "True\n",
            "dataset/aug/train/images/179_2.png\n",
            "True\n",
            "dataset/aug/train/images/179_3.png\n",
            "True\n",
            "dataset/aug/train/images/179_4.png\n",
            "True\n"
          ]
        },
        {
          "output_type": "stream",
          "name": "stderr",
          "text": [
            "\r 28%|██▊       | 139/490 [00:50<01:33,  3.74it/s]"
          ]
        },
        {
          "output_type": "stream",
          "name": "stdout",
          "text": [
            "dataset/aug/train/images/398_0.png\n",
            "True\n",
            "dataset/aug/train/images/398_1.png\n",
            "True\n",
            "dataset/aug/train/images/398_2.png\n",
            "True\n",
            "dataset/aug/train/images/398_3.png\n",
            "True\n",
            "dataset/aug/train/images/398_4.png\n",
            "True\n"
          ]
        },
        {
          "output_type": "stream",
          "name": "stderr",
          "text": [
            "\r 29%|██▊       | 140/490 [00:50<01:40,  3.49it/s]"
          ]
        },
        {
          "output_type": "stream",
          "name": "stdout",
          "text": [
            "dataset/aug/train/images/131_0.png\n",
            "True\n",
            "dataset/aug/train/images/131_1.png\n",
            "True\n",
            "dataset/aug/train/images/131_2.png\n",
            "True\n",
            "dataset/aug/train/images/131_3.png\n",
            "True\n",
            "dataset/aug/train/images/131_4.png\n",
            "True\n"
          ]
        },
        {
          "output_type": "stream",
          "name": "stderr",
          "text": [
            "\r 29%|██▉       | 141/490 [00:50<01:47,  3.25it/s]"
          ]
        },
        {
          "output_type": "stream",
          "name": "stdout",
          "text": [
            "dataset/aug/train/images/293_0.png\n",
            "True\n",
            "dataset/aug/train/images/293_1.png\n",
            "True\n",
            "dataset/aug/train/images/293_2.png\n",
            "True\n",
            "dataset/aug/train/images/293_3.png\n",
            "True\n",
            "dataset/aug/train/images/293_4.png\n",
            "True\n"
          ]
        },
        {
          "output_type": "stream",
          "name": "stderr",
          "text": [
            "\r 29%|██▉       | 142/490 [00:51<01:46,  3.27it/s]"
          ]
        },
        {
          "output_type": "stream",
          "name": "stdout",
          "text": [
            "dataset/aug/train/images/514_0.png\n",
            "True\n",
            "dataset/aug/train/images/514_1.png\n",
            "True\n",
            "dataset/aug/train/images/514_2.png\n",
            "True\n",
            "dataset/aug/train/images/514_3.png\n",
            "True\n",
            "dataset/aug/train/images/514_4.png\n",
            "True\n"
          ]
        },
        {
          "output_type": "stream",
          "name": "stderr",
          "text": [
            "\r 29%|██▉       | 143/490 [00:51<01:51,  3.12it/s]"
          ]
        },
        {
          "output_type": "stream",
          "name": "stdout",
          "text": [
            "dataset/aug/train/images/347_0.png\n",
            "True\n",
            "dataset/aug/train/images/347_1.png\n",
            "True\n",
            "dataset/aug/train/images/347_2.png\n",
            "True\n",
            "dataset/aug/train/images/347_3.png\n",
            "True\n",
            "dataset/aug/train/images/347_4.png\n",
            "True\n"
          ]
        },
        {
          "output_type": "stream",
          "name": "stderr",
          "text": [
            "\r 29%|██▉       | 144/490 [00:51<01:57,  2.95it/s]"
          ]
        },
        {
          "output_type": "stream",
          "name": "stdout",
          "text": [
            "dataset/aug/train/images/351_0.png\n",
            "True\n",
            "dataset/aug/train/images/351_1.png\n",
            "True\n",
            "dataset/aug/train/images/351_2.png\n",
            "True\n",
            "dataset/aug/train/images/351_3.png\n",
            "True\n",
            "dataset/aug/train/images/351_4.png\n",
            "True\n"
          ]
        },
        {
          "output_type": "stream",
          "name": "stderr",
          "text": [
            "\r 30%|██▉       | 145/490 [00:52<02:13,  2.59it/s]"
          ]
        },
        {
          "output_type": "stream",
          "name": "stdout",
          "text": [
            "dataset/aug/train/images/601_0.png\n",
            "True\n",
            "dataset/aug/train/images/601_1.png\n",
            "True\n",
            "dataset/aug/train/images/601_2.png\n",
            "True\n",
            "dataset/aug/train/images/601_3.png\n",
            "True\n",
            "dataset/aug/train/images/601_4.png\n",
            "True\n"
          ]
        },
        {
          "output_type": "stream",
          "name": "stderr",
          "text": [
            "\r 30%|██▉       | 146/490 [00:52<02:08,  2.68it/s]"
          ]
        },
        {
          "output_type": "stream",
          "name": "stdout",
          "text": [
            "dataset/aug/train/images/145_0.png\n",
            "True\n",
            "dataset/aug/train/images/145_1.png\n",
            "True\n",
            "dataset/aug/train/images/145_2.png\n",
            "True\n",
            "dataset/aug/train/images/145_3.png\n",
            "True\n",
            "dataset/aug/train/images/145_4.png\n",
            "True\n"
          ]
        },
        {
          "output_type": "stream",
          "name": "stderr",
          "text": [
            "\r 30%|███       | 147/490 [00:53<01:58,  2.89it/s]"
          ]
        },
        {
          "output_type": "stream",
          "name": "stdout",
          "text": [
            "dataset/aug/train/images/407_0.png\n",
            "True\n",
            "dataset/aug/train/images/407_1.png\n",
            "True\n",
            "dataset/aug/train/images/407_2.png\n",
            "True\n",
            "dataset/aug/train/images/407_3.png\n",
            "True\n",
            "dataset/aug/train/images/407_4.png\n",
            "True\n"
          ]
        },
        {
          "output_type": "stream",
          "name": "stderr",
          "text": [
            "\r 30%|███       | 148/490 [00:53<01:52,  3.04it/s]"
          ]
        },
        {
          "output_type": "stream",
          "name": "stdout",
          "text": [
            "dataset/aug/train/images/63_0.png\n",
            "True\n",
            "dataset/aug/train/images/63_1.png\n",
            "True\n",
            "dataset/aug/train/images/63_2.png\n",
            "True\n",
            "dataset/aug/train/images/63_3.png\n",
            "True\n",
            "dataset/aug/train/images/63_4.png\n",
            "True\n"
          ]
        },
        {
          "output_type": "stream",
          "name": "stderr",
          "text": [
            "\r 30%|███       | 149/490 [00:53<01:49,  3.11it/s]"
          ]
        },
        {
          "output_type": "stream",
          "name": "stdout",
          "text": [
            "dataset/aug/train/images/483_0.png\n",
            "True\n",
            "dataset/aug/train/images/483_1.png\n",
            "True\n",
            "dataset/aug/train/images/483_2.png\n",
            "True\n",
            "dataset/aug/train/images/483_3.png\n",
            "True\n",
            "dataset/aug/train/images/483_4.png\n",
            "True\n"
          ]
        },
        {
          "output_type": "stream",
          "name": "stderr",
          "text": [
            "\r 31%|███       | 150/490 [00:54<01:53,  3.00it/s]"
          ]
        },
        {
          "output_type": "stream",
          "name": "stdout",
          "text": [
            "dataset/aug/train/images/433_0.png\n",
            "True\n",
            "dataset/aug/train/images/433_1.png\n",
            "True\n",
            "dataset/aug/train/images/433_2.png\n",
            "True\n",
            "dataset/aug/train/images/433_3.png\n",
            "True\n",
            "dataset/aug/train/images/433_4.png\n",
            "True\n"
          ]
        },
        {
          "output_type": "stream",
          "name": "stderr",
          "text": [
            "\r 31%|███       | 151/490 [00:54<01:55,  2.93it/s]"
          ]
        },
        {
          "output_type": "stream",
          "name": "stdout",
          "text": [
            "dataset/aug/train/images/599_0.png\n",
            "True\n",
            "dataset/aug/train/images/599_1.png\n",
            "True\n",
            "dataset/aug/train/images/599_2.png\n",
            "True\n",
            "dataset/aug/train/images/599_3.png\n",
            "True\n",
            "dataset/aug/train/images/599_4.png\n",
            "True\n"
          ]
        },
        {
          "output_type": "stream",
          "name": "stderr",
          "text": [
            "\r 31%|███       | 152/490 [00:54<01:54,  2.95it/s]"
          ]
        },
        {
          "output_type": "stream",
          "name": "stdout",
          "text": [
            "dataset/aug/train/images/552_0.png\n",
            "True\n",
            "dataset/aug/train/images/552_1.png\n",
            "True\n",
            "dataset/aug/train/images/552_2.png\n",
            "True\n",
            "dataset/aug/train/images/552_3.png\n",
            "True\n",
            "dataset/aug/train/images/552_4.png\n",
            "True\n"
          ]
        },
        {
          "output_type": "stream",
          "name": "stderr",
          "text": [
            "\r 31%|███       | 153/490 [00:55<01:52,  2.99it/s]"
          ]
        },
        {
          "output_type": "stream",
          "name": "stdout",
          "text": [
            "dataset/aug/train/images/535_0.png\n",
            "True\n",
            "dataset/aug/train/images/535_1.png\n",
            "True\n",
            "dataset/aug/train/images/535_2.png\n",
            "True\n",
            "dataset/aug/train/images/535_3.png\n",
            "True\n",
            "dataset/aug/train/images/535_4.png\n",
            "True\n"
          ]
        },
        {
          "output_type": "stream",
          "name": "stderr",
          "text": [
            "\r 31%|███▏      | 154/490 [00:55<01:48,  3.09it/s]"
          ]
        },
        {
          "output_type": "stream",
          "name": "stdout",
          "text": [
            "dataset/aug/train/images/381_0.png\n",
            "True\n",
            "dataset/aug/train/images/381_1.png\n",
            "True\n",
            "dataset/aug/train/images/381_2.png\n",
            "True\n",
            "dataset/aug/train/images/381_3.png\n",
            "True\n",
            "dataset/aug/train/images/381_4.png\n",
            "True\n"
          ]
        },
        {
          "output_type": "stream",
          "name": "stderr",
          "text": [
            "\r 32%|███▏      | 155/490 [00:55<01:47,  3.13it/s]"
          ]
        },
        {
          "output_type": "stream",
          "name": "stdout",
          "text": [
            "dataset/aug/train/images/170_0.png\n",
            "True\n",
            "dataset/aug/train/images/170_1.png\n",
            "True\n",
            "dataset/aug/train/images/170_2.png\n",
            "True\n",
            "dataset/aug/train/images/170_3.png\n",
            "True\n",
            "dataset/aug/train/images/170_4.png\n",
            "True\n"
          ]
        },
        {
          "output_type": "stream",
          "name": "stderr",
          "text": [
            "\r 32%|███▏      | 156/490 [00:55<01:45,  3.17it/s]"
          ]
        },
        {
          "output_type": "stream",
          "name": "stdout",
          "text": [
            "dataset/aug/train/images/212_0.png\n",
            "True\n",
            "dataset/aug/train/images/212_1.png\n",
            "True\n",
            "dataset/aug/train/images/212_2.png\n",
            "True\n",
            "dataset/aug/train/images/212_3.png\n",
            "True\n",
            "dataset/aug/train/images/212_4.png\n",
            "True\n"
          ]
        },
        {
          "output_type": "stream",
          "name": "stderr",
          "text": [
            "\r 32%|███▏      | 157/490 [00:56<01:41,  3.27it/s]"
          ]
        },
        {
          "output_type": "stream",
          "name": "stdout",
          "text": [
            "dataset/aug/train/images/271_0.png\n",
            "True\n",
            "dataset/aug/train/images/271_1.png\n",
            "True\n",
            "dataset/aug/train/images/271_2.png\n",
            "True\n",
            "dataset/aug/train/images/271_3.png\n",
            "True\n",
            "dataset/aug/train/images/271_4.png\n",
            "True\n"
          ]
        },
        {
          "output_type": "stream",
          "name": "stderr",
          "text": [
            "\r 32%|███▏      | 158/490 [00:56<01:43,  3.22it/s]"
          ]
        },
        {
          "output_type": "stream",
          "name": "stdout",
          "text": [
            "dataset/aug/train/images/366_0.png\n",
            "True\n",
            "dataset/aug/train/images/366_1.png\n",
            "True\n",
            "dataset/aug/train/images/366_2.png\n",
            "True\n",
            "dataset/aug/train/images/366_3.png\n",
            "True\n",
            "dataset/aug/train/images/366_4.png\n",
            "True\n"
          ]
        },
        {
          "output_type": "stream",
          "name": "stderr",
          "text": [
            "\r 32%|███▏      | 159/490 [00:57<01:59,  2.78it/s]"
          ]
        },
        {
          "output_type": "stream",
          "name": "stdout",
          "text": [
            "dataset/aug/train/images/221_0.png\n",
            "True\n",
            "dataset/aug/train/images/221_1.png\n",
            "True\n",
            "dataset/aug/train/images/221_2.png\n",
            "True\n",
            "dataset/aug/train/images/221_3.png\n",
            "True\n",
            "dataset/aug/train/images/221_4.png\n",
            "True\n"
          ]
        },
        {
          "output_type": "stream",
          "name": "stderr",
          "text": [
            "\r 33%|███▎      | 160/490 [00:57<01:55,  2.86it/s]"
          ]
        },
        {
          "output_type": "stream",
          "name": "stdout",
          "text": [
            "dataset/aug/train/images/64_0.png\n",
            "True\n",
            "dataset/aug/train/images/64_1.png\n",
            "True\n",
            "dataset/aug/train/images/64_2.png\n",
            "True\n",
            "dataset/aug/train/images/64_3.png\n",
            "True\n",
            "dataset/aug/train/images/64_4.png\n",
            "True\n"
          ]
        },
        {
          "output_type": "stream",
          "name": "stderr",
          "text": [
            "\r 33%|███▎      | 161/490 [00:57<01:53,  2.89it/s]"
          ]
        },
        {
          "output_type": "stream",
          "name": "stdout",
          "text": [
            "dataset/aug/train/images/199_0.png\n",
            "True\n",
            "dataset/aug/train/images/199_1.png\n",
            "True\n",
            "dataset/aug/train/images/199_2.png\n",
            "True\n",
            "dataset/aug/train/images/199_3.png\n",
            "True\n",
            "dataset/aug/train/images/199_4.png\n",
            "True\n"
          ]
        },
        {
          "output_type": "stream",
          "name": "stderr",
          "text": [
            "\r 33%|███▎      | 162/490 [00:57<01:47,  3.06it/s]"
          ]
        },
        {
          "output_type": "stream",
          "name": "stdout",
          "text": [
            "dataset/aug/train/images/4_0.png\n",
            "True\n",
            "dataset/aug/train/images/4_1.png\n",
            "True\n",
            "dataset/aug/train/images/4_2.png\n",
            "True\n",
            "dataset/aug/train/images/4_3.png\n",
            "True\n",
            "dataset/aug/train/images/4_4.png\n",
            "True\n"
          ]
        },
        {
          "output_type": "stream",
          "name": "stderr",
          "text": [
            "\r 33%|███▎      | 163/490 [00:58<01:40,  3.25it/s]"
          ]
        },
        {
          "output_type": "stream",
          "name": "stdout",
          "text": [
            "dataset/aug/train/images/209_0.png\n",
            "True\n",
            "dataset/aug/train/images/209_1.png\n",
            "True\n",
            "dataset/aug/train/images/209_2.png\n",
            "True\n",
            "dataset/aug/train/images/209_3.png\n",
            "True\n",
            "dataset/aug/train/images/209_4.png\n",
            "True\n"
          ]
        },
        {
          "output_type": "stream",
          "name": "stderr",
          "text": [
            "\r 33%|███▎      | 164/490 [00:58<01:39,  3.26it/s]"
          ]
        },
        {
          "output_type": "stream",
          "name": "stdout",
          "text": [
            "dataset/aug/train/images/437_0.png\n",
            "True\n",
            "dataset/aug/train/images/437_1.png\n",
            "True\n",
            "dataset/aug/train/images/437_2.png\n",
            "True\n",
            "dataset/aug/train/images/437_3.png\n",
            "True\n",
            "dataset/aug/train/images/437_4.png\n",
            "True\n"
          ]
        },
        {
          "output_type": "stream",
          "name": "stderr",
          "text": [
            "\r 34%|███▎      | 165/490 [00:58<01:45,  3.09it/s]"
          ]
        },
        {
          "output_type": "stream",
          "name": "stdout",
          "text": [
            "dataset/aug/train/images/310_0.png\n",
            "True\n",
            "dataset/aug/train/images/310_1.png\n",
            "True\n",
            "dataset/aug/train/images/310_2.png\n",
            "True\n",
            "dataset/aug/train/images/310_3.png\n",
            "True\n",
            "dataset/aug/train/images/310_4.png\n",
            "True\n"
          ]
        },
        {
          "output_type": "stream",
          "name": "stderr",
          "text": [
            "\r 34%|███▍      | 166/490 [00:59<01:40,  3.24it/s]"
          ]
        },
        {
          "output_type": "stream",
          "name": "stdout",
          "text": [
            "dataset/aug/train/images/121_0.png\n",
            "True\n",
            "dataset/aug/train/images/121_1.png\n",
            "True\n",
            "dataset/aug/train/images/121_2.png\n",
            "True\n",
            "dataset/aug/train/images/121_3.png\n",
            "True\n",
            "dataset/aug/train/images/121_4.png\n",
            "True\n"
          ]
        },
        {
          "output_type": "stream",
          "name": "stderr",
          "text": [
            "\r 34%|███▍      | 167/490 [00:59<01:59,  2.71it/s]"
          ]
        },
        {
          "output_type": "stream",
          "name": "stdout",
          "text": [
            "dataset/aug/train/images/595_0.png\n",
            "True\n",
            "dataset/aug/train/images/595_1.png\n",
            "True\n",
            "dataset/aug/train/images/595_2.png\n",
            "True\n",
            "dataset/aug/train/images/595_3.png\n",
            "True\n",
            "dataset/aug/train/images/595_4.png\n",
            "True\n"
          ]
        },
        {
          "output_type": "stream",
          "name": "stderr",
          "text": [
            "\r 34%|███▍      | 168/490 [01:00<01:55,  2.78it/s]"
          ]
        },
        {
          "output_type": "stream",
          "name": "stdout",
          "text": [
            "dataset/aug/train/images/18_0.png\n",
            "True\n",
            "dataset/aug/train/images/18_1.png\n",
            "True\n",
            "dataset/aug/train/images/18_2.png\n",
            "True\n",
            "dataset/aug/train/images/18_3.png\n",
            "True\n",
            "dataset/aug/train/images/18_4.png\n",
            "True\n"
          ]
        },
        {
          "output_type": "stream",
          "name": "stderr",
          "text": [
            "\r 34%|███▍      | 169/490 [01:00<01:56,  2.74it/s]"
          ]
        },
        {
          "output_type": "stream",
          "name": "stdout",
          "text": [
            "dataset/aug/train/images/165_0.png\n",
            "True\n",
            "dataset/aug/train/images/165_1.png\n",
            "True\n",
            "dataset/aug/train/images/165_2.png\n",
            "True\n",
            "dataset/aug/train/images/165_3.png\n",
            "True\n",
            "dataset/aug/train/images/165_4.png\n",
            "True\n"
          ]
        },
        {
          "output_type": "stream",
          "name": "stderr",
          "text": [
            "\r 35%|███▍      | 170/490 [01:00<01:50,  2.89it/s]"
          ]
        },
        {
          "output_type": "stream",
          "name": "stdout",
          "text": [
            "dataset/aug/train/images/455_0.png\n",
            "True\n",
            "dataset/aug/train/images/455_1.png\n",
            "True\n",
            "dataset/aug/train/images/455_2.png\n",
            "True\n",
            "dataset/aug/train/images/455_3.png\n",
            "True\n",
            "dataset/aug/train/images/455_4.png\n",
            "True\n"
          ]
        },
        {
          "output_type": "stream",
          "name": "stderr",
          "text": [
            "\r 35%|███▍      | 171/490 [01:01<01:50,  2.88it/s]"
          ]
        },
        {
          "output_type": "stream",
          "name": "stdout",
          "text": [
            "dataset/aug/train/images/118_0.png\n",
            "True\n",
            "dataset/aug/train/images/118_1.png\n",
            "True\n",
            "dataset/aug/train/images/118_2.png\n",
            "True\n",
            "dataset/aug/train/images/118_3.png\n",
            "True\n",
            "dataset/aug/train/images/118_4.png\n",
            "True\n"
          ]
        },
        {
          "output_type": "stream",
          "name": "stderr",
          "text": [
            "\r 35%|███▌      | 172/490 [01:01<01:53,  2.79it/s]"
          ]
        },
        {
          "output_type": "stream",
          "name": "stdout",
          "text": [
            "dataset/aug/train/images/432_0.png\n",
            "True\n",
            "dataset/aug/train/images/432_1.png\n",
            "True\n",
            "dataset/aug/train/images/432_2.png\n",
            "True\n",
            "dataset/aug/train/images/432_3.png\n",
            "True\n",
            "dataset/aug/train/images/432_4.png\n",
            "True\n"
          ]
        },
        {
          "output_type": "stream",
          "name": "stderr",
          "text": [
            "\r 35%|███▌      | 173/490 [01:01<01:49,  2.90it/s]"
          ]
        },
        {
          "output_type": "stream",
          "name": "stdout",
          "text": [
            "dataset/aug/train/images/471_0.png\n",
            "True\n",
            "dataset/aug/train/images/471_1.png\n",
            "True\n",
            "dataset/aug/train/images/471_2.png\n",
            "True\n",
            "dataset/aug/train/images/471_3.png\n",
            "True\n",
            "dataset/aug/train/images/471_4.png\n",
            "True\n"
          ]
        },
        {
          "output_type": "stream",
          "name": "stderr",
          "text": [
            "\r 36%|███▌      | 174/490 [01:02<01:44,  3.03it/s]"
          ]
        },
        {
          "output_type": "stream",
          "name": "stdout",
          "text": [
            "dataset/aug/train/images/229_0.png\n",
            "True\n",
            "dataset/aug/train/images/229_1.png\n",
            "True\n",
            "dataset/aug/train/images/229_2.png\n",
            "True\n",
            "dataset/aug/train/images/229_3.png\n",
            "True\n",
            "dataset/aug/train/images/229_4.png\n",
            "True\n"
          ]
        },
        {
          "output_type": "stream",
          "name": "stderr",
          "text": [
            "\r 36%|███▌      | 175/490 [01:02<01:58,  2.66it/s]"
          ]
        },
        {
          "output_type": "stream",
          "name": "stdout",
          "text": [
            "dataset/aug/train/images/53_0.png\n",
            "True\n",
            "dataset/aug/train/images/53_1.png\n",
            "True\n",
            "dataset/aug/train/images/53_2.png\n",
            "True\n",
            "dataset/aug/train/images/53_3.png\n",
            "True\n",
            "dataset/aug/train/images/53_4.png\n",
            "True\n"
          ]
        },
        {
          "output_type": "stream",
          "name": "stderr",
          "text": [
            "\r 36%|███▌      | 176/490 [01:03<02:08,  2.44it/s]"
          ]
        },
        {
          "output_type": "stream",
          "name": "stdout",
          "text": [
            "dataset/aug/train/images/114_0.png\n",
            "True\n",
            "dataset/aug/train/images/114_1.png\n",
            "True\n",
            "dataset/aug/train/images/114_2.png\n",
            "True\n",
            "dataset/aug/train/images/114_3.png\n",
            "True\n",
            "dataset/aug/train/images/114_4.png\n",
            "True\n"
          ]
        },
        {
          "output_type": "stream",
          "name": "stderr",
          "text": [
            "\r 36%|███▌      | 177/490 [01:03<01:59,  2.63it/s]"
          ]
        },
        {
          "output_type": "stream",
          "name": "stdout",
          "text": [
            "dataset/aug/train/images/409_0.png\n",
            "True\n",
            "dataset/aug/train/images/409_1.png\n",
            "True\n",
            "dataset/aug/train/images/409_2.png\n",
            "True\n",
            "dataset/aug/train/images/409_3.png\n",
            "True\n",
            "dataset/aug/train/images/409_4.png\n",
            "True\n"
          ]
        },
        {
          "output_type": "stream",
          "name": "stderr",
          "text": [
            "\r 36%|███▋      | 178/490 [01:03<01:49,  2.84it/s]"
          ]
        },
        {
          "output_type": "stream",
          "name": "stdout",
          "text": [
            "dataset/aug/train/images/569_0.png\n",
            "True\n",
            "dataset/aug/train/images/569_1.png\n",
            "True\n",
            "dataset/aug/train/images/569_2.png\n",
            "True\n",
            "dataset/aug/train/images/569_3.png\n",
            "True\n",
            "dataset/aug/train/images/569_4.png\n",
            "True\n"
          ]
        },
        {
          "output_type": "stream",
          "name": "stderr",
          "text": [
            "\r 37%|███▋      | 179/490 [01:03<01:46,  2.92it/s]"
          ]
        },
        {
          "output_type": "stream",
          "name": "stdout",
          "text": [
            "dataset/aug/train/images/420_0.png\n",
            "True\n",
            "dataset/aug/train/images/420_1.png\n",
            "True\n",
            "dataset/aug/train/images/420_2.png\n",
            "True\n",
            "dataset/aug/train/images/420_3.png\n",
            "True\n",
            "dataset/aug/train/images/420_4.png\n",
            "True\n"
          ]
        },
        {
          "output_type": "stream",
          "name": "stderr",
          "text": [
            "\r 37%|███▋      | 180/490 [01:04<01:46,  2.92it/s]"
          ]
        },
        {
          "output_type": "stream",
          "name": "stdout",
          "text": [
            "dataset/aug/train/images/355_0.png\n",
            "True\n",
            "dataset/aug/train/images/355_1.png\n",
            "True\n",
            "dataset/aug/train/images/355_2.png\n",
            "True\n",
            "dataset/aug/train/images/355_3.png\n",
            "True\n",
            "dataset/aug/train/images/355_4.png\n",
            "True\n"
          ]
        },
        {
          "output_type": "stream",
          "name": "stderr",
          "text": [
            "\r 37%|███▋      | 181/490 [01:04<01:38,  3.13it/s]"
          ]
        },
        {
          "output_type": "stream",
          "name": "stdout",
          "text": [
            "dataset/aug/train/images/480_0.png\n",
            "True\n",
            "dataset/aug/train/images/480_1.png\n",
            "True\n",
            "dataset/aug/train/images/480_2.png\n",
            "True\n",
            "dataset/aug/train/images/480_3.png\n",
            "True\n",
            "dataset/aug/train/images/480_4.png\n",
            "True\n"
          ]
        },
        {
          "output_type": "stream",
          "name": "stderr",
          "text": [
            "\r 37%|███▋      | 182/490 [01:04<01:39,  3.10it/s]"
          ]
        },
        {
          "output_type": "stream",
          "name": "stdout",
          "text": [
            "dataset/aug/train/images/13_0.png\n",
            "True\n",
            "dataset/aug/train/images/13_1.png\n",
            "True\n",
            "dataset/aug/train/images/13_2.png\n",
            "True\n",
            "dataset/aug/train/images/13_3.png\n",
            "True\n",
            "dataset/aug/train/images/13_4.png\n",
            "True\n"
          ]
        },
        {
          "output_type": "stream",
          "name": "stderr",
          "text": [
            "\r 37%|███▋      | 183/490 [01:05<01:37,  3.15it/s]"
          ]
        },
        {
          "output_type": "stream",
          "name": "stdout",
          "text": [
            "dataset/aug/train/images/600_0.png\n",
            "True\n",
            "dataset/aug/train/images/600_1.png\n",
            "True\n",
            "dataset/aug/train/images/600_2.png\n",
            "True\n",
            "dataset/aug/train/images/600_3.png\n",
            "True\n",
            "dataset/aug/train/images/600_4.png\n",
            "True\n"
          ]
        },
        {
          "output_type": "stream",
          "name": "stderr",
          "text": [
            "\r 38%|███▊      | 184/490 [01:05<01:42,  2.99it/s]"
          ]
        },
        {
          "output_type": "stream",
          "name": "stdout",
          "text": [
            "dataset/aug/train/images/608_0.png\n",
            "True\n",
            "dataset/aug/train/images/608_1.png\n",
            "True\n",
            "dataset/aug/train/images/608_2.png\n",
            "True\n",
            "dataset/aug/train/images/608_3.png\n",
            "True\n",
            "dataset/aug/train/images/608_4.png\n",
            "True\n"
          ]
        },
        {
          "output_type": "stream",
          "name": "stderr",
          "text": [
            "\r 38%|███▊      | 185/490 [01:05<01:38,  3.09it/s]"
          ]
        },
        {
          "output_type": "stream",
          "name": "stdout",
          "text": [
            "dataset/aug/train/images/494_0.png\n",
            "True\n",
            "dataset/aug/train/images/494_1.png\n",
            "True\n",
            "dataset/aug/train/images/494_2.png\n",
            "True\n",
            "dataset/aug/train/images/494_3.png\n",
            "True\n",
            "dataset/aug/train/images/494_4.png\n",
            "True\n"
          ]
        },
        {
          "output_type": "stream",
          "name": "stderr",
          "text": [
            "\r 38%|███▊      | 186/490 [01:06<01:39,  3.05it/s]"
          ]
        },
        {
          "output_type": "stream",
          "name": "stdout",
          "text": [
            "dataset/aug/train/images/582_0.png\n",
            "True\n",
            "dataset/aug/train/images/582_1.png\n",
            "True\n",
            "dataset/aug/train/images/582_2.png\n",
            "True\n",
            "dataset/aug/train/images/582_3.png\n",
            "True\n",
            "dataset/aug/train/images/582_4.png\n",
            "True\n",
            "dataset/aug/train/images/553_0.png\n",
            "True\n",
            "dataset/aug/train/images/553_1.png\n",
            "True\n",
            "dataset/aug/train/images/553_2.png\n",
            "True\n"
          ]
        },
        {
          "output_type": "stream",
          "name": "stderr",
          "text": [
            "\r 38%|███▊      | 187/490 [01:06<01:51,  2.71it/s]"
          ]
        },
        {
          "output_type": "stream",
          "name": "stdout",
          "text": [
            "dataset/aug/train/images/553_3.png\n",
            "True\n",
            "dataset/aug/train/images/553_4.png\n",
            "True\n"
          ]
        },
        {
          "output_type": "stream",
          "name": "stderr",
          "text": [
            "\r 38%|███▊      | 188/490 [01:06<01:45,  2.87it/s]"
          ]
        },
        {
          "output_type": "stream",
          "name": "stdout",
          "text": [
            "dataset/aug/train/images/161_0.png\n",
            "True\n",
            "dataset/aug/train/images/161_1.png\n",
            "True\n",
            "dataset/aug/train/images/161_2.png\n",
            "True\n",
            "dataset/aug/train/images/161_3.png\n",
            "True\n",
            "dataset/aug/train/images/161_4.png\n",
            "True\n"
          ]
        },
        {
          "output_type": "stream",
          "name": "stderr",
          "text": [
            "\r 39%|███▊      | 189/490 [01:07<01:40,  2.99it/s]"
          ]
        },
        {
          "output_type": "stream",
          "name": "stdout",
          "text": [
            "dataset/aug/train/images/136_0.png\n",
            "True\n",
            "dataset/aug/train/images/136_1.png\n",
            "True\n",
            "dataset/aug/train/images/136_2.png\n",
            "True\n",
            "dataset/aug/train/images/136_3.png\n",
            "True\n",
            "dataset/aug/train/images/136_4.png\n",
            "True\n"
          ]
        },
        {
          "output_type": "stream",
          "name": "stderr",
          "text": [
            "\r 39%|███▉      | 190/490 [01:07<01:33,  3.22it/s]"
          ]
        },
        {
          "output_type": "stream",
          "name": "stdout",
          "text": [
            "dataset/aug/train/images/403_0.png\n",
            "True\n",
            "dataset/aug/train/images/403_1.png\n",
            "True\n",
            "dataset/aug/train/images/403_2.png\n",
            "True\n",
            "dataset/aug/train/images/403_3.png\n",
            "True\n",
            "dataset/aug/train/images/403_4.png\n",
            "True\n"
          ]
        },
        {
          "output_type": "stream",
          "name": "stderr",
          "text": [
            "\r 39%|███▉      | 191/490 [01:07<01:28,  3.36it/s]"
          ]
        },
        {
          "output_type": "stream",
          "name": "stdout",
          "text": [
            "dataset/aug/train/images/482_0.png\n",
            "True\n",
            "dataset/aug/train/images/482_1.png\n",
            "True\n",
            "dataset/aug/train/images/482_2.png\n",
            "True\n",
            "dataset/aug/train/images/482_3.png\n",
            "True\n",
            "dataset/aug/train/images/482_4.png\n",
            "True\n"
          ]
        },
        {
          "output_type": "stream",
          "name": "stderr",
          "text": [
            "\r 39%|███▉      | 192/490 [01:08<01:29,  3.33it/s]"
          ]
        },
        {
          "output_type": "stream",
          "name": "stdout",
          "text": [
            "dataset/aug/train/images/40_0.png\n",
            "True\n",
            "dataset/aug/train/images/40_1.png\n",
            "True\n",
            "dataset/aug/train/images/40_2.png\n",
            "True\n",
            "dataset/aug/train/images/40_3.png\n",
            "True\n",
            "dataset/aug/train/images/40_4.png\n",
            "True\n"
          ]
        },
        {
          "output_type": "stream",
          "name": "stderr",
          "text": [
            "\r 39%|███▉      | 193/490 [01:08<01:27,  3.40it/s]"
          ]
        },
        {
          "output_type": "stream",
          "name": "stdout",
          "text": [
            "dataset/aug/train/images/105_0.png\n",
            "True\n",
            "dataset/aug/train/images/105_1.png\n",
            "True\n",
            "dataset/aug/train/images/105_2.png\n",
            "True\n",
            "dataset/aug/train/images/105_3.png\n",
            "True\n",
            "dataset/aug/train/images/105_4.png\n",
            "True\n"
          ]
        },
        {
          "output_type": "stream",
          "name": "stderr",
          "text": [
            "\r 40%|███▉      | 194/490 [01:08<01:30,  3.29it/s]"
          ]
        },
        {
          "output_type": "stream",
          "name": "stdout",
          "text": [
            "dataset/aug/train/images/485_0.png\n",
            "True\n",
            "dataset/aug/train/images/485_1.png\n",
            "True\n",
            "dataset/aug/train/images/485_2.png\n",
            "True\n",
            "dataset/aug/train/images/485_3.png\n",
            "True\n",
            "dataset/aug/train/images/485_4.png\n",
            "True\n"
          ]
        },
        {
          "output_type": "stream",
          "name": "stderr",
          "text": [
            "\r 40%|███▉      | 195/490 [01:09<01:43,  2.85it/s]"
          ]
        },
        {
          "output_type": "stream",
          "name": "stdout",
          "text": [
            "dataset/aug/train/images/540_0.png\n",
            "True\n",
            "dataset/aug/train/images/540_1.png\n",
            "True\n",
            "dataset/aug/train/images/540_2.png\n",
            "True\n",
            "dataset/aug/train/images/540_3.png\n",
            "True\n",
            "dataset/aug/train/images/540_4.png\n",
            "True\n"
          ]
        },
        {
          "output_type": "stream",
          "name": "stderr",
          "text": [
            "\r 40%|████      | 196/490 [01:09<01:42,  2.88it/s]"
          ]
        },
        {
          "output_type": "stream",
          "name": "stdout",
          "text": [
            "dataset/aug/train/images/491_0.png\n",
            "True\n",
            "dataset/aug/train/images/491_1.png\n",
            "True\n",
            "dataset/aug/train/images/491_2.png\n",
            "True\n",
            "dataset/aug/train/images/491_3.png\n",
            "True\n",
            "dataset/aug/train/images/491_4.png\n",
            "True\n"
          ]
        },
        {
          "output_type": "stream",
          "name": "stderr",
          "text": [
            "\r 40%|████      | 197/490 [01:09<01:45,  2.79it/s]"
          ]
        },
        {
          "output_type": "stream",
          "name": "stdout",
          "text": [
            "dataset/aug/train/images/538_0.png\n",
            "True\n",
            "dataset/aug/train/images/538_1.png\n",
            "True\n",
            "dataset/aug/train/images/538_2.png\n",
            "True\n",
            "dataset/aug/train/images/538_3.png\n",
            "True\n",
            "dataset/aug/train/images/538_4.png\n",
            "True\n"
          ]
        },
        {
          "output_type": "stream",
          "name": "stderr",
          "text": [
            "\r 40%|████      | 198/490 [01:10<01:56,  2.51it/s]"
          ]
        },
        {
          "output_type": "stream",
          "name": "stdout",
          "text": [
            "dataset/aug/train/images/266_0.png\n",
            "True\n",
            "dataset/aug/train/images/266_1.png\n",
            "True\n",
            "dataset/aug/train/images/266_2.png\n",
            "True\n",
            "dataset/aug/train/images/266_3.png\n",
            "True\n",
            "dataset/aug/train/images/266_4.png\n",
            "True\n"
          ]
        },
        {
          "output_type": "stream",
          "name": "stderr",
          "text": [
            "\r 41%|████      | 199/490 [01:10<01:47,  2.71it/s]"
          ]
        },
        {
          "output_type": "stream",
          "name": "stdout",
          "text": [
            "dataset/aug/train/images/414_0.png\n",
            "True\n",
            "dataset/aug/train/images/414_1.png\n",
            "True\n",
            "dataset/aug/train/images/414_2.png\n",
            "True\n",
            "dataset/aug/train/images/414_3.png\n",
            "True\n",
            "dataset/aug/train/images/414_4.png\n",
            "True\n"
          ]
        },
        {
          "output_type": "stream",
          "name": "stderr",
          "text": [
            "\r 41%|████      | 200/490 [01:10<01:38,  2.93it/s]"
          ]
        },
        {
          "output_type": "stream",
          "name": "stdout",
          "text": [
            "dataset/aug/train/images/469_0.png\n",
            "True\n",
            "dataset/aug/train/images/469_1.png\n",
            "True\n",
            "dataset/aug/train/images/469_2.png\n",
            "True\n",
            "dataset/aug/train/images/469_3.png\n",
            "True\n",
            "dataset/aug/train/images/469_4.png\n",
            "True\n"
          ]
        },
        {
          "output_type": "stream",
          "name": "stderr",
          "text": [
            "\r 41%|████      | 201/490 [01:11<01:38,  2.94it/s]"
          ]
        },
        {
          "output_type": "stream",
          "name": "stdout",
          "text": [
            "dataset/aug/train/images/299_0.png\n",
            "True\n",
            "dataset/aug/train/images/299_1.png\n",
            "True\n",
            "dataset/aug/train/images/299_2.png\n",
            "True\n",
            "dataset/aug/train/images/299_3.png\n",
            "True\n",
            "dataset/aug/train/images/299_4.png\n",
            "True\n"
          ]
        },
        {
          "output_type": "stream",
          "name": "stderr",
          "text": [
            "\r 41%|████      | 202/490 [01:11<01:35,  3.01it/s]"
          ]
        },
        {
          "output_type": "stream",
          "name": "stdout",
          "text": [
            "dataset/aug/train/images/327_0.png\n",
            "True\n",
            "dataset/aug/train/images/327_1.png\n",
            "True\n",
            "dataset/aug/train/images/327_2.png\n",
            "True\n",
            "dataset/aug/train/images/327_3.png\n",
            "True\n",
            "dataset/aug/train/images/327_4.png\n",
            "True\n"
          ]
        },
        {
          "output_type": "stream",
          "name": "stderr",
          "text": [
            "\r 41%|████▏     | 203/490 [01:11<01:32,  3.12it/s]"
          ]
        },
        {
          "output_type": "stream",
          "name": "stdout",
          "text": [
            "dataset/aug/train/images/323_0.png\n",
            "True\n",
            "dataset/aug/train/images/323_1.png\n",
            "True\n",
            "dataset/aug/train/images/323_2.png\n",
            "True\n",
            "dataset/aug/train/images/323_3.png\n",
            "True\n",
            "dataset/aug/train/images/323_4.png\n",
            "True\n"
          ]
        },
        {
          "output_type": "stream",
          "name": "stderr",
          "text": [
            "\r 42%|████▏     | 204/490 [01:12<01:33,  3.07it/s]"
          ]
        },
        {
          "output_type": "stream",
          "name": "stdout",
          "text": [
            "dataset/aug/train/images/285_0.png\n",
            "True\n",
            "dataset/aug/train/images/285_1.png\n",
            "True\n",
            "dataset/aug/train/images/285_2.png\n",
            "True\n",
            "dataset/aug/train/images/285_3.png\n",
            "True\n",
            "dataset/aug/train/images/285_4.png\n",
            "True\n"
          ]
        },
        {
          "output_type": "stream",
          "name": "stderr",
          "text": [
            "\r 42%|████▏     | 205/490 [01:12<01:45,  2.71it/s]"
          ]
        },
        {
          "output_type": "stream",
          "name": "stdout",
          "text": [
            "dataset/aug/train/images/66_0.png\n",
            "True\n",
            "dataset/aug/train/images/66_1.png\n",
            "True\n",
            "dataset/aug/train/images/66_2.png\n",
            "True\n",
            "dataset/aug/train/images/66_3.png\n",
            "True\n",
            "dataset/aug/train/images/66_4.png\n",
            "True\n"
          ]
        },
        {
          "output_type": "stream",
          "name": "stderr",
          "text": [
            "\r 42%|████▏     | 206/490 [01:12<01:39,  2.85it/s]"
          ]
        },
        {
          "output_type": "stream",
          "name": "stdout",
          "text": [
            "dataset/aug/train/images/260_0.png\n",
            "True\n",
            "dataset/aug/train/images/260_1.png\n",
            "True\n",
            "dataset/aug/train/images/260_2.png\n",
            "True\n",
            "dataset/aug/train/images/260_3.png\n",
            "True\n",
            "dataset/aug/train/images/260_4.png\n",
            "True\n"
          ]
        },
        {
          "output_type": "stream",
          "name": "stderr",
          "text": [
            "\r 42%|████▏     | 207/490 [01:13<01:36,  2.93it/s]"
          ]
        },
        {
          "output_type": "stream",
          "name": "stdout",
          "text": [
            "dataset/aug/train/images/243_0.png\n",
            "True\n",
            "dataset/aug/train/images/243_1.png\n",
            "True\n",
            "dataset/aug/train/images/243_2.png\n",
            "True\n",
            "dataset/aug/train/images/243_3.png\n",
            "True\n",
            "dataset/aug/train/images/243_4.png\n",
            "True\n"
          ]
        },
        {
          "output_type": "stream",
          "name": "stderr",
          "text": [
            "\r 42%|████▏     | 208/490 [01:13<01:31,  3.08it/s]"
          ]
        },
        {
          "output_type": "stream",
          "name": "stdout",
          "text": [
            "dataset/aug/train/images/332_0.png\n",
            "True\n",
            "dataset/aug/train/images/332_1.png\n",
            "True\n",
            "dataset/aug/train/images/332_2.png\n",
            "True\n",
            "dataset/aug/train/images/332_3.png\n",
            "True\n",
            "dataset/aug/train/images/332_4.png\n",
            "True\n"
          ]
        },
        {
          "output_type": "stream",
          "name": "stderr",
          "text": [
            "\r 43%|████▎     | 209/490 [01:13<01:33,  3.00it/s]"
          ]
        },
        {
          "output_type": "stream",
          "name": "stdout",
          "text": [
            "dataset/aug/train/images/281_0.png\n",
            "True\n",
            "dataset/aug/train/images/281_1.png\n",
            "True\n",
            "dataset/aug/train/images/281_2.png\n",
            "True\n",
            "dataset/aug/train/images/281_3.png\n",
            "True\n",
            "dataset/aug/train/images/281_4.png\n",
            "True\n"
          ]
        },
        {
          "output_type": "stream",
          "name": "stderr",
          "text": [
            "\r 43%|████▎     | 210/490 [01:14<01:37,  2.87it/s]"
          ]
        },
        {
          "output_type": "stream",
          "name": "stdout",
          "text": [
            "dataset/aug/train/images/291_0.png\n",
            "True\n",
            "dataset/aug/train/images/291_1.png\n",
            "True\n",
            "dataset/aug/train/images/291_2.png\n",
            "True\n",
            "dataset/aug/train/images/291_3.png\n",
            "True\n",
            "dataset/aug/train/images/291_4.png\n",
            "True\n"
          ]
        },
        {
          "output_type": "stream",
          "name": "stderr",
          "text": [
            "\r 43%|████▎     | 211/490 [01:14<01:32,  3.00it/s]"
          ]
        },
        {
          "output_type": "stream",
          "name": "stdout",
          "text": [
            "dataset/aug/train/images/84_0.png\n",
            "True\n",
            "dataset/aug/train/images/84_1.png\n",
            "True\n",
            "dataset/aug/train/images/84_2.png\n",
            "True\n",
            "dataset/aug/train/images/84_3.png\n",
            "True\n",
            "dataset/aug/train/images/84_4.png\n",
            "True\n"
          ]
        },
        {
          "output_type": "stream",
          "name": "stderr",
          "text": [
            "\r 43%|████▎     | 212/490 [01:14<01:26,  3.23it/s]"
          ]
        },
        {
          "output_type": "stream",
          "name": "stdout",
          "text": [
            "dataset/aug/train/images/214_0.png\n",
            "True\n",
            "dataset/aug/train/images/214_1.png\n",
            "True\n",
            "dataset/aug/train/images/214_2.png\n",
            "True\n",
            "dataset/aug/train/images/214_3.png\n",
            "True\n",
            "dataset/aug/train/images/214_4.png\n",
            "True\n"
          ]
        },
        {
          "output_type": "stream",
          "name": "stderr",
          "text": [
            "\r 43%|████▎     | 213/490 [01:15<01:44,  2.64it/s]"
          ]
        },
        {
          "output_type": "stream",
          "name": "stdout",
          "text": [
            "dataset/aug/train/images/548_0.png\n",
            "True\n",
            "dataset/aug/train/images/548_1.png\n",
            "True\n",
            "dataset/aug/train/images/548_2.png\n",
            "True\n",
            "dataset/aug/train/images/548_3.png\n",
            "True\n",
            "dataset/aug/train/images/548_4.png\n",
            "True\n"
          ]
        },
        {
          "output_type": "stream",
          "name": "stderr",
          "text": [
            "\r 44%|████▎     | 214/490 [01:15<01:39,  2.76it/s]"
          ]
        },
        {
          "output_type": "stream",
          "name": "stdout",
          "text": [
            "dataset/aug/train/images/427_0.png\n",
            "True\n",
            "dataset/aug/train/images/427_1.png\n",
            "True\n",
            "dataset/aug/train/images/427_2.png\n",
            "True\n",
            "dataset/aug/train/images/427_3.png\n",
            "True\n",
            "dataset/aug/train/images/427_4.png\n",
            "True\n"
          ]
        },
        {
          "output_type": "stream",
          "name": "stderr",
          "text": [
            "\r 44%|████▍     | 215/490 [01:16<01:42,  2.69it/s]"
          ]
        },
        {
          "output_type": "stream",
          "name": "stdout",
          "text": [
            "dataset/aug/train/images/495_0.png\n",
            "True\n",
            "dataset/aug/train/images/495_1.png\n",
            "True\n",
            "dataset/aug/train/images/495_2.png\n",
            "True\n",
            "dataset/aug/train/images/495_3.png\n",
            "True\n",
            "dataset/aug/train/images/495_4.png\n",
            "True\n"
          ]
        },
        {
          "output_type": "stream",
          "name": "stderr",
          "text": [
            "\r 44%|████▍     | 216/490 [01:16<01:33,  2.92it/s]"
          ]
        },
        {
          "output_type": "stream",
          "name": "stdout",
          "text": [
            "dataset/aug/train/images/484_0.png\n",
            "True\n",
            "dataset/aug/train/images/484_1.png\n",
            "True\n",
            "dataset/aug/train/images/484_2.png\n",
            "True\n",
            "dataset/aug/train/images/484_3.png\n",
            "True\n",
            "dataset/aug/train/images/484_4.png\n",
            "True\n"
          ]
        },
        {
          "output_type": "stream",
          "name": "stderr",
          "text": [
            "\r 44%|████▍     | 217/490 [01:16<01:33,  2.93it/s]"
          ]
        },
        {
          "output_type": "stream",
          "name": "stdout",
          "text": [
            "dataset/aug/train/images/345_0.png\n",
            "True\n",
            "dataset/aug/train/images/345_1.png\n",
            "True\n",
            "dataset/aug/train/images/345_2.png\n",
            "True\n",
            "dataset/aug/train/images/345_3.png\n",
            "True\n",
            "dataset/aug/train/images/345_4.png\n",
            "True\n"
          ]
        },
        {
          "output_type": "stream",
          "name": "stderr",
          "text": [
            "\r 44%|████▍     | 218/490 [01:17<01:36,  2.83it/s]"
          ]
        },
        {
          "output_type": "stream",
          "name": "stdout",
          "text": [
            "dataset/aug/train/images/531_0.png\n",
            "True\n",
            "dataset/aug/train/images/531_1.png\n",
            "True\n",
            "dataset/aug/train/images/531_2.png\n",
            "True\n",
            "dataset/aug/train/images/531_3.png\n",
            "True\n",
            "dataset/aug/train/images/531_4.png\n",
            "True\n"
          ]
        },
        {
          "output_type": "stream",
          "name": "stderr",
          "text": [
            "\r 45%|████▍     | 219/490 [01:17<01:36,  2.81it/s]"
          ]
        },
        {
          "output_type": "stream",
          "name": "stdout",
          "text": [
            "dataset/aug/train/images/413_0.png\n",
            "True\n",
            "dataset/aug/train/images/413_1.png\n",
            "True\n",
            "dataset/aug/train/images/413_2.png\n",
            "True\n",
            "dataset/aug/train/images/413_3.png\n",
            "True\n",
            "dataset/aug/train/images/413_4.png\n",
            "True\n"
          ]
        },
        {
          "output_type": "stream",
          "name": "stderr",
          "text": [
            " 45%|████▌     | 221/490 [01:18<01:17,  3.46it/s]"
          ]
        },
        {
          "output_type": "stream",
          "name": "stdout",
          "text": [
            "dataset/aug/train/images/399_0.png\n",
            "True\n",
            "dataset/aug/train/images/399_1.png\n",
            "True\n",
            "dataset/aug/train/images/399_2.png\n",
            "True\n",
            "dataset/aug/train/images/399_3.png\n",
            "True\n",
            "dataset/aug/train/images/399_4.png\n",
            "True\n",
            "dataset/aug/train/images/102_0.png\n",
            "True\n",
            "dataset/aug/train/images/102_1.png\n",
            "True\n",
            "dataset/aug/train/images/102_2.png\n",
            "True\n",
            "dataset/aug/train/images/102_3.png\n",
            "True\n",
            "dataset/aug/train/images/102_4.png\n",
            "True\n"
          ]
        },
        {
          "output_type": "stream",
          "name": "stderr",
          "text": [
            "\r 45%|████▌     | 222/490 [01:18<01:19,  3.39it/s]"
          ]
        },
        {
          "output_type": "stream",
          "name": "stdout",
          "text": [
            "dataset/aug/train/images/205_0.png\n",
            "True\n",
            "dataset/aug/train/images/205_1.png\n",
            "True\n",
            "dataset/aug/train/images/205_2.png\n",
            "True\n",
            "dataset/aug/train/images/205_3.png\n",
            "True\n",
            "dataset/aug/train/images/205_4.png\n",
            "True\n"
          ]
        },
        {
          "output_type": "stream",
          "name": "stderr",
          "text": [
            "\r 46%|████▌     | 223/490 [01:18<01:21,  3.28it/s]"
          ]
        },
        {
          "output_type": "stream",
          "name": "stdout",
          "text": [
            "dataset/aug/train/images/115_0.png\n",
            "True\n",
            "dataset/aug/train/images/115_1.png\n",
            "True\n",
            "dataset/aug/train/images/115_2.png\n",
            "True\n",
            "dataset/aug/train/images/115_3.png\n",
            "True\n",
            "dataset/aug/train/images/115_4.png\n",
            "True\n"
          ]
        },
        {
          "output_type": "stream",
          "name": "stderr",
          "text": [
            "\r 46%|████▌     | 224/490 [01:18<01:24,  3.17it/s]"
          ]
        },
        {
          "output_type": "stream",
          "name": "stdout",
          "text": [
            "dataset/aug/train/images/157_0.png\n",
            "True\n",
            "dataset/aug/train/images/157_1.png\n",
            "True\n",
            "dataset/aug/train/images/157_2.png\n",
            "True\n",
            "dataset/aug/train/images/157_3.png\n",
            "True\n",
            "dataset/aug/train/images/157_4.png\n",
            "True\n"
          ]
        },
        {
          "output_type": "stream",
          "name": "stderr",
          "text": [
            "\r 46%|████▌     | 225/490 [01:19<01:24,  3.13it/s]"
          ]
        },
        {
          "output_type": "stream",
          "name": "stdout",
          "text": [
            "dataset/aug/train/images/499_0.png\n",
            "True\n",
            "dataset/aug/train/images/499_1.png\n",
            "True\n",
            "dataset/aug/train/images/499_2.png\n",
            "True\n",
            "dataset/aug/train/images/499_3.png\n",
            "True\n",
            "dataset/aug/train/images/499_4.png\n",
            "True\n"
          ]
        },
        {
          "output_type": "stream",
          "name": "stderr",
          "text": [
            "\r 46%|████▌     | 226/490 [01:19<01:38,  2.69it/s]"
          ]
        },
        {
          "output_type": "stream",
          "name": "stdout",
          "text": [
            "dataset/aug/train/images/192_0.png\n",
            "True\n",
            "dataset/aug/train/images/192_1.png\n",
            "True\n",
            "dataset/aug/train/images/192_2.png\n",
            "True\n",
            "dataset/aug/train/images/192_3.png\n",
            "True\n",
            "dataset/aug/train/images/192_4.png\n",
            "True\n"
          ]
        },
        {
          "output_type": "stream",
          "name": "stderr",
          "text": [
            "\r 46%|████▋     | 227/490 [01:20<01:29,  2.93it/s]"
          ]
        },
        {
          "output_type": "stream",
          "name": "stdout",
          "text": [
            "dataset/aug/train/images/566_0.png\n",
            "True\n",
            "dataset/aug/train/images/566_1.png\n",
            "True\n",
            "dataset/aug/train/images/566_2.png\n",
            "True\n",
            "dataset/aug/train/images/566_3.png\n",
            "True\n",
            "dataset/aug/train/images/566_4.png\n",
            "True\n"
          ]
        },
        {
          "output_type": "stream",
          "name": "stderr",
          "text": [
            "\r 47%|████▋     | 228/490 [01:20<01:43,  2.54it/s]"
          ]
        },
        {
          "output_type": "stream",
          "name": "stdout",
          "text": [
            "dataset/aug/train/images/507_0.png\n",
            "True\n",
            "dataset/aug/train/images/507_1.png\n",
            "True\n",
            "dataset/aug/train/images/507_2.png\n",
            "True\n",
            "dataset/aug/train/images/507_3.png\n",
            "True\n",
            "dataset/aug/train/images/507_4.png\n",
            "True\n"
          ]
        },
        {
          "output_type": "stream",
          "name": "stderr",
          "text": [
            "\r 47%|████▋     | 229/490 [01:20<01:33,  2.80it/s]"
          ]
        },
        {
          "output_type": "stream",
          "name": "stdout",
          "text": [
            "dataset/aug/train/images/79_0.png\n",
            "True\n",
            "dataset/aug/train/images/79_1.png\n",
            "True\n",
            "dataset/aug/train/images/79_2.png\n",
            "True\n",
            "dataset/aug/train/images/79_3.png\n",
            "True\n",
            "dataset/aug/train/images/79_4.png\n",
            "True\n"
          ]
        },
        {
          "output_type": "stream",
          "name": "stderr",
          "text": [
            "\r 47%|████▋     | 230/490 [01:21<01:31,  2.84it/s]"
          ]
        },
        {
          "output_type": "stream",
          "name": "stdout",
          "text": [
            "dataset/aug/train/images/73_0.png\n",
            "True\n",
            "dataset/aug/train/images/73_1.png\n",
            "True\n",
            "dataset/aug/train/images/73_2.png\n",
            "True\n",
            "dataset/aug/train/images/73_3.png\n",
            "True\n",
            "dataset/aug/train/images/73_4.png\n",
            "True\n"
          ]
        },
        {
          "output_type": "stream",
          "name": "stderr",
          "text": [
            "\r 47%|████▋     | 231/490 [01:21<01:28,  2.91it/s]"
          ]
        },
        {
          "output_type": "stream",
          "name": "stdout",
          "text": [
            "dataset/aug/train/images/134_0.png\n",
            "True\n",
            "dataset/aug/train/images/134_1.png\n",
            "True\n",
            "dataset/aug/train/images/134_2.png\n",
            "True\n",
            "dataset/aug/train/images/134_3.png\n",
            "True\n",
            "dataset/aug/train/images/134_4.png\n",
            "True\n"
          ]
        },
        {
          "output_type": "stream",
          "name": "stderr",
          "text": [
            "\r 47%|████▋     | 232/490 [01:21<01:26,  2.97it/s]"
          ]
        },
        {
          "output_type": "stream",
          "name": "stdout",
          "text": [
            "dataset/aug/train/images/554_0.png\n",
            "True\n",
            "dataset/aug/train/images/554_1.png\n",
            "True\n",
            "dataset/aug/train/images/554_2.png\n",
            "True\n",
            "dataset/aug/train/images/554_3.png\n",
            "True\n",
            "dataset/aug/train/images/554_4.png\n",
            "True\n"
          ]
        },
        {
          "output_type": "stream",
          "name": "stderr",
          "text": [
            "\r 48%|████▊     | 233/490 [01:22<01:22,  3.12it/s]"
          ]
        },
        {
          "output_type": "stream",
          "name": "stdout",
          "text": [
            "dataset/aug/train/images/200_0.png\n",
            "True\n",
            "dataset/aug/train/images/200_1.png\n",
            "True\n",
            "dataset/aug/train/images/200_2.png\n",
            "True\n",
            "dataset/aug/train/images/200_3.png\n",
            "True\n",
            "dataset/aug/train/images/200_4.png\n",
            "True\n"
          ]
        },
        {
          "output_type": "stream",
          "name": "stderr",
          "text": [
            "\r 48%|████▊     | 234/490 [01:22<01:19,  3.20it/s]"
          ]
        },
        {
          "output_type": "stream",
          "name": "stdout",
          "text": [
            "dataset/aug/train/images/376_0.png\n",
            "True\n",
            "dataset/aug/train/images/376_1.png\n",
            "True\n",
            "dataset/aug/train/images/376_2.png\n",
            "True\n",
            "dataset/aug/train/images/376_3.png\n",
            "True\n",
            "dataset/aug/train/images/376_4.png\n",
            "True\n"
          ]
        },
        {
          "output_type": "stream",
          "name": "stderr",
          "text": [
            "\r 48%|████▊     | 235/490 [01:22<01:19,  3.21it/s]"
          ]
        },
        {
          "output_type": "stream",
          "name": "stdout",
          "text": [
            "dataset/aug/train/images/287_0.png\n",
            "True\n",
            "dataset/aug/train/images/287_1.png\n",
            "True\n",
            "dataset/aug/train/images/287_2.png\n",
            "True\n",
            "dataset/aug/train/images/287_3.png\n",
            "True\n",
            "dataset/aug/train/images/287_4.png\n",
            "True\n"
          ]
        },
        {
          "output_type": "stream",
          "name": "stderr",
          "text": [
            "\r 48%|████▊     | 236/490 [01:23<01:26,  2.95it/s]"
          ]
        },
        {
          "output_type": "stream",
          "name": "stdout",
          "text": [
            "dataset/aug/train/images/28_0.png\n",
            "True\n",
            "dataset/aug/train/images/28_1.png\n",
            "True\n",
            "dataset/aug/train/images/28_2.png\n",
            "True\n",
            "dataset/aug/train/images/28_3.png\n",
            "True\n",
            "dataset/aug/train/images/28_4.png\n",
            "True\n"
          ]
        },
        {
          "output_type": "stream",
          "name": "stderr",
          "text": [
            "\r 48%|████▊     | 237/490 [01:23<01:19,  3.17it/s]"
          ]
        },
        {
          "output_type": "stream",
          "name": "stdout",
          "text": [
            "dataset/aug/train/images/334_0.png\n",
            "True\n",
            "dataset/aug/train/images/334_1.png\n",
            "True\n",
            "dataset/aug/train/images/334_2.png\n",
            "True\n",
            "dataset/aug/train/images/334_3.png\n",
            "True\n",
            "dataset/aug/train/images/334_4.png\n",
            "True\n"
          ]
        },
        {
          "output_type": "stream",
          "name": "stderr",
          "text": [
            "\r 49%|████▊     | 238/490 [01:23<01:19,  3.19it/s]"
          ]
        },
        {
          "output_type": "stream",
          "name": "stdout",
          "text": [
            "dataset/aug/train/images/602_0.png\n",
            "True\n",
            "dataset/aug/train/images/602_1.png\n",
            "True\n",
            "dataset/aug/train/images/602_2.png\n",
            "True\n",
            "dataset/aug/train/images/602_3.png\n",
            "True\n",
            "dataset/aug/train/images/602_4.png\n",
            "True\n"
          ]
        },
        {
          "output_type": "stream",
          "name": "stderr",
          "text": [
            "\r 49%|████▉     | 239/490 [01:24<01:17,  3.22it/s]"
          ]
        },
        {
          "output_type": "stream",
          "name": "stdout",
          "text": [
            "dataset/aug/train/images/581_0.png\n",
            "True\n",
            "dataset/aug/train/images/581_1.png\n",
            "True\n",
            "dataset/aug/train/images/581_2.png\n",
            "True\n",
            "dataset/aug/train/images/581_3.png\n",
            "True\n",
            "dataset/aug/train/images/581_4.png\n",
            "True\n"
          ]
        },
        {
          "output_type": "stream",
          "name": "stderr",
          "text": [
            "\r 49%|████▉     | 240/490 [01:24<01:16,  3.25it/s]"
          ]
        },
        {
          "output_type": "stream",
          "name": "stdout",
          "text": [
            "dataset/aug/train/images/25_0.png\n",
            "True\n",
            "dataset/aug/train/images/25_1.png\n",
            "True\n",
            "dataset/aug/train/images/25_2.png\n",
            "True\n",
            "dataset/aug/train/images/25_3.png\n",
            "True\n",
            "dataset/aug/train/images/25_4.png\n",
            "True\n"
          ]
        },
        {
          "output_type": "stream",
          "name": "stderr",
          "text": [
            "\r 49%|████▉     | 241/490 [01:24<01:16,  3.25it/s]"
          ]
        },
        {
          "output_type": "stream",
          "name": "stdout",
          "text": [
            "dataset/aug/train/images/452_0.png\n",
            "True\n",
            "dataset/aug/train/images/452_1.png\n",
            "True\n",
            "dataset/aug/train/images/452_2.png\n",
            "True\n",
            "dataset/aug/train/images/452_3.png\n",
            "True\n",
            "dataset/aug/train/images/452_4.png\n",
            "True\n"
          ]
        },
        {
          "output_type": "stream",
          "name": "stderr",
          "text": [
            "\r 49%|████▉     | 242/490 [01:24<01:16,  3.24it/s]"
          ]
        },
        {
          "output_type": "stream",
          "name": "stdout",
          "text": [
            "dataset/aug/train/images/475_0.png\n",
            "True\n",
            "dataset/aug/train/images/475_1.png\n",
            "True\n",
            "dataset/aug/train/images/475_2.png\n",
            "True\n",
            "dataset/aug/train/images/475_3.png\n",
            "True\n",
            "dataset/aug/train/images/475_4.png\n",
            "True\n"
          ]
        },
        {
          "output_type": "stream",
          "name": "stderr",
          "text": [
            "\r 50%|████▉     | 243/490 [01:25<01:19,  3.11it/s]"
          ]
        },
        {
          "output_type": "stream",
          "name": "stdout",
          "text": [
            "dataset/aug/train/images/473_0.png\n",
            "True\n",
            "dataset/aug/train/images/473_1.png\n",
            "True\n",
            "dataset/aug/train/images/473_2.png\n",
            "True\n",
            "dataset/aug/train/images/473_3.png\n",
            "True\n",
            "dataset/aug/train/images/473_4.png\n",
            "True\n"
          ]
        },
        {
          "output_type": "stream",
          "name": "stderr",
          "text": [
            "\r 50%|████▉     | 244/490 [01:25<01:17,  3.16it/s]"
          ]
        },
        {
          "output_type": "stream",
          "name": "stdout",
          "text": [
            "dataset/aug/train/images/240_0.png\n",
            "True\n",
            "dataset/aug/train/images/240_1.png\n",
            "True\n",
            "dataset/aug/train/images/240_2.png\n",
            "True\n",
            "dataset/aug/train/images/240_3.png\n",
            "True\n",
            "dataset/aug/train/images/240_4.png\n",
            "True\n"
          ]
        },
        {
          "output_type": "stream",
          "name": "stderr",
          "text": [
            "\r 50%|█████     | 245/490 [01:25<01:15,  3.25it/s]"
          ]
        },
        {
          "output_type": "stream",
          "name": "stdout",
          "text": [
            "dataset/aug/train/images/546_0.png\n",
            "True\n",
            "dataset/aug/train/images/546_1.png\n",
            "True\n",
            "dataset/aug/train/images/546_2.png\n",
            "True\n",
            "dataset/aug/train/images/546_3.png\n",
            "True\n",
            "dataset/aug/train/images/546_4.png\n",
            "True\n"
          ]
        },
        {
          "output_type": "stream",
          "name": "stderr",
          "text": [
            "\r 50%|█████     | 246/490 [01:26<01:18,  3.11it/s]"
          ]
        },
        {
          "output_type": "stream",
          "name": "stdout",
          "text": [
            "dataset/aug/train/images/129_0.png\n",
            "True\n",
            "dataset/aug/train/images/129_1.png\n",
            "True\n",
            "dataset/aug/train/images/129_2.png\n",
            "True\n",
            "dataset/aug/train/images/129_3.png\n",
            "True\n",
            "dataset/aug/train/images/129_4.png\n",
            "True\n"
          ]
        },
        {
          "output_type": "stream",
          "name": "stderr",
          "text": [
            "\r 50%|█████     | 247/490 [01:26<01:16,  3.19it/s]"
          ]
        },
        {
          "output_type": "stream",
          "name": "stdout",
          "text": [
            "dataset/aug/train/images/580_0.png\n",
            "True\n",
            "dataset/aug/train/images/580_1.png\n",
            "True\n",
            "dataset/aug/train/images/580_2.png\n",
            "True\n",
            "dataset/aug/train/images/580_3.png\n",
            "True\n",
            "dataset/aug/train/images/580_4.png\n",
            "True\n"
          ]
        },
        {
          "output_type": "stream",
          "name": "stderr",
          "text": [
            "\r 51%|█████     | 248/490 [01:26<01:15,  3.20it/s]"
          ]
        },
        {
          "output_type": "stream",
          "name": "stdout",
          "text": [
            "dataset/aug/train/images/575_0.png\n",
            "True\n",
            "dataset/aug/train/images/575_1.png\n",
            "True\n",
            "dataset/aug/train/images/575_2.png\n",
            "True\n",
            "dataset/aug/train/images/575_3.png\n",
            "True\n",
            "dataset/aug/train/images/575_4.png\n",
            "True\n"
          ]
        },
        {
          "output_type": "stream",
          "name": "stderr",
          "text": [
            "\r 51%|█████     | 249/490 [01:27<01:23,  2.88it/s]"
          ]
        },
        {
          "output_type": "stream",
          "name": "stdout",
          "text": [
            "dataset/aug/train/images/124_0.png\n",
            "True\n",
            "dataset/aug/train/images/124_1.png\n",
            "True\n",
            "dataset/aug/train/images/124_2.png\n",
            "True\n",
            "dataset/aug/train/images/124_3.png\n",
            "True\n",
            "dataset/aug/train/images/124_4.png\n",
            "True\n"
          ]
        },
        {
          "output_type": "stream",
          "name": "stderr",
          "text": [
            "\r 51%|█████     | 250/490 [01:27<01:18,  3.06it/s]"
          ]
        },
        {
          "output_type": "stream",
          "name": "stdout",
          "text": [
            "dataset/aug/train/images/470_0.png\n",
            "True\n",
            "dataset/aug/train/images/470_1.png\n",
            "True\n",
            "dataset/aug/train/images/470_2.png\n",
            "True\n",
            "dataset/aug/train/images/470_3.png\n",
            "True\n",
            "dataset/aug/train/images/470_4.png\n",
            "True\n"
          ]
        },
        {
          "output_type": "stream",
          "name": "stderr",
          "text": [
            "\r 51%|█████     | 251/490 [01:27<01:23,  2.87it/s]"
          ]
        },
        {
          "output_type": "stream",
          "name": "stdout",
          "text": [
            "dataset/aug/train/images/298_0.png\n",
            "True\n",
            "dataset/aug/train/images/298_1.png\n",
            "True\n",
            "dataset/aug/train/images/298_2.png\n",
            "True\n",
            "dataset/aug/train/images/298_3.png\n",
            "True\n",
            "dataset/aug/train/images/298_4.png\n",
            "True\n"
          ]
        },
        {
          "output_type": "stream",
          "name": "stderr",
          "text": [
            "\r 51%|█████▏    | 252/490 [01:28<01:34,  2.51it/s]"
          ]
        },
        {
          "output_type": "stream",
          "name": "stdout",
          "text": [
            "dataset/aug/train/images/3_0.png\n",
            "True\n",
            "dataset/aug/train/images/3_1.png\n",
            "True\n",
            "dataset/aug/train/images/3_2.png\n",
            "True\n",
            "dataset/aug/train/images/3_3.png\n",
            "True\n",
            "dataset/aug/train/images/3_4.png\n",
            "True\n"
          ]
        },
        {
          "output_type": "stream",
          "name": "stderr",
          "text": [
            "\r 52%|█████▏    | 253/490 [01:28<01:25,  2.76it/s]"
          ]
        },
        {
          "output_type": "stream",
          "name": "stdout",
          "text": [
            "dataset/aug/train/images/563_0.png\n",
            "True\n",
            "dataset/aug/train/images/563_1.png\n",
            "True\n",
            "dataset/aug/train/images/563_2.png\n",
            "True\n",
            "dataset/aug/train/images/563_3.png\n",
            "True\n",
            "dataset/aug/train/images/563_4.png\n",
            "True\n"
          ]
        },
        {
          "output_type": "stream",
          "name": "stderr",
          "text": [
            "\r 52%|█████▏    | 254/490 [01:29<01:22,  2.88it/s]"
          ]
        },
        {
          "output_type": "stream",
          "name": "stdout",
          "text": [
            "dataset/aug/train/images/558_0.png\n",
            "True\n",
            "dataset/aug/train/images/558_1.png\n",
            "True\n",
            "dataset/aug/train/images/558_2.png\n",
            "True\n",
            "dataset/aug/train/images/558_3.png\n",
            "True\n",
            "dataset/aug/train/images/558_4.png\n",
            "True\n"
          ]
        },
        {
          "output_type": "stream",
          "name": "stderr",
          "text": [
            "\r 52%|█████▏    | 255/490 [01:29<01:29,  2.64it/s]"
          ]
        },
        {
          "output_type": "stream",
          "name": "stdout",
          "text": [
            "dataset/aug/train/images/464_0.png\n",
            "True\n",
            "dataset/aug/train/images/464_1.png\n",
            "True\n",
            "dataset/aug/train/images/464_2.png\n",
            "True\n",
            "dataset/aug/train/images/464_3.png\n",
            "True\n",
            "dataset/aug/train/images/464_4.png\n",
            "True\n"
          ]
        },
        {
          "output_type": "stream",
          "name": "stderr",
          "text": [
            "\r 52%|█████▏    | 256/490 [01:29<01:21,  2.87it/s]"
          ]
        },
        {
          "output_type": "stream",
          "name": "stdout",
          "text": [
            "dataset/aug/train/images/513_0.png\n",
            "True\n",
            "dataset/aug/train/images/513_1.png\n",
            "True\n",
            "dataset/aug/train/images/513_2.png\n",
            "True\n",
            "dataset/aug/train/images/513_3.png\n",
            "True\n",
            "dataset/aug/train/images/513_4.png\n",
            "True\n"
          ]
        },
        {
          "output_type": "stream",
          "name": "stderr",
          "text": [
            "\r 52%|█████▏    | 257/490 [01:30<01:25,  2.74it/s]"
          ]
        },
        {
          "output_type": "stream",
          "name": "stdout",
          "text": [
            "dataset/aug/train/images/135_0.png\n",
            "True\n",
            "dataset/aug/train/images/135_1.png\n",
            "True\n",
            "dataset/aug/train/images/135_2.png\n",
            "True\n",
            "dataset/aug/train/images/135_3.png\n",
            "True\n",
            "dataset/aug/train/images/135_4.png\n",
            "True\n"
          ]
        },
        {
          "output_type": "stream",
          "name": "stderr",
          "text": [
            "\r 53%|█████▎    | 258/490 [01:30<01:19,  2.91it/s]"
          ]
        },
        {
          "output_type": "stream",
          "name": "stdout",
          "text": [
            "dataset/aug/train/images/306_0.png\n",
            "True\n",
            "dataset/aug/train/images/306_1.png\n",
            "True\n",
            "dataset/aug/train/images/306_2.png\n",
            "True\n",
            "dataset/aug/train/images/306_3.png\n",
            "True\n",
            "dataset/aug/train/images/306_4.png\n",
            "True\n"
          ]
        },
        {
          "output_type": "stream",
          "name": "stderr",
          "text": [
            "\r 53%|█████▎    | 259/490 [01:30<01:19,  2.92it/s]"
          ]
        },
        {
          "output_type": "stream",
          "name": "stdout",
          "text": [
            "dataset/aug/train/images/320_0.png\n",
            "True\n",
            "dataset/aug/train/images/320_1.png\n",
            "True\n",
            "dataset/aug/train/images/320_2.png\n",
            "True\n",
            "dataset/aug/train/images/320_3.png\n",
            "True\n",
            "dataset/aug/train/images/320_4.png\n",
            "True\n"
          ]
        },
        {
          "output_type": "stream",
          "name": "stderr",
          "text": [
            "\r 53%|█████▎    | 260/490 [01:31<01:18,  2.94it/s]"
          ]
        },
        {
          "output_type": "stream",
          "name": "stdout",
          "text": [
            "dataset/aug/train/images/68_0.png\n",
            "True\n",
            "dataset/aug/train/images/68_1.png\n",
            "True\n",
            "dataset/aug/train/images/68_2.png\n",
            "True\n",
            "dataset/aug/train/images/68_3.png\n",
            "True\n",
            "dataset/aug/train/images/68_4.png\n",
            "True\n"
          ]
        },
        {
          "output_type": "stream",
          "name": "stderr",
          "text": [
            "\r 53%|█████▎    | 261/490 [01:31<01:14,  3.06it/s]"
          ]
        },
        {
          "output_type": "stream",
          "name": "stdout",
          "text": [
            "dataset/aug/train/images/235_0.png\n",
            "True\n",
            "dataset/aug/train/images/235_1.png\n",
            "True\n",
            "dataset/aug/train/images/235_2.png\n",
            "True\n",
            "dataset/aug/train/images/235_3.png\n",
            "True\n",
            "dataset/aug/train/images/235_4.png\n",
            "True\n"
          ]
        },
        {
          "output_type": "stream",
          "name": "stderr",
          "text": [
            "\r 53%|█████▎    | 262/490 [01:31<01:12,  3.17it/s]"
          ]
        },
        {
          "output_type": "stream",
          "name": "stdout",
          "text": [
            "dataset/aug/train/images/142_0.png\n",
            "True\n",
            "dataset/aug/train/images/142_1.png\n",
            "True\n",
            "dataset/aug/train/images/142_2.png\n",
            "True\n",
            "dataset/aug/train/images/142_3.png\n",
            "True\n",
            "dataset/aug/train/images/142_4.png\n",
            "True\n"
          ]
        },
        {
          "output_type": "stream",
          "name": "stderr",
          "text": [
            "\r 54%|█████▎    | 263/490 [01:31<01:07,  3.38it/s]"
          ]
        },
        {
          "output_type": "stream",
          "name": "stdout",
          "text": [
            "dataset/aug/train/images/318_0.png\n",
            "True\n",
            "dataset/aug/train/images/318_1.png\n",
            "True\n",
            "dataset/aug/train/images/318_2.png\n",
            "True\n",
            "dataset/aug/train/images/318_3.png\n",
            "True\n",
            "dataset/aug/train/images/318_4.png\n",
            "True\n",
            "dataset/aug/train/images/37_0.png\n",
            "True\n",
            "dataset/aug/train/images/37_1.png\n",
            "True\n",
            "dataset/aug/train/images/37_2.png\n"
          ]
        },
        {
          "output_type": "stream",
          "name": "stderr",
          "text": [
            "\r 54%|█████▍    | 264/490 [01:32<01:22,  2.73it/s]"
          ]
        },
        {
          "output_type": "stream",
          "name": "stdout",
          "text": [
            "True\n",
            "dataset/aug/train/images/37_3.png\n",
            "True\n",
            "dataset/aug/train/images/37_4.png\n",
            "True\n"
          ]
        },
        {
          "output_type": "stream",
          "name": "stderr",
          "text": [
            "\r 54%|█████▍    | 265/490 [01:32<01:16,  2.93it/s]"
          ]
        },
        {
          "output_type": "stream",
          "name": "stdout",
          "text": [
            "dataset/aug/train/images/197_0.png\n",
            "True\n",
            "dataset/aug/train/images/197_1.png\n",
            "True\n",
            "dataset/aug/train/images/197_2.png\n",
            "True\n",
            "dataset/aug/train/images/197_3.png\n",
            "True\n",
            "dataset/aug/train/images/197_4.png\n",
            "True\n"
          ]
        },
        {
          "output_type": "stream",
          "name": "stderr",
          "text": [
            "\r 54%|█████▍    | 266/490 [01:33<01:12,  3.09it/s]"
          ]
        },
        {
          "output_type": "stream",
          "name": "stdout",
          "text": [
            "dataset/aug/train/images/280_0.png\n",
            "True\n",
            "dataset/aug/train/images/280_1.png\n",
            "True\n",
            "dataset/aug/train/images/280_2.png\n",
            "True\n",
            "dataset/aug/train/images/280_3.png\n",
            "True\n",
            "dataset/aug/train/images/280_4.png\n",
            "True\n"
          ]
        },
        {
          "output_type": "stream",
          "name": "stderr",
          "text": [
            "\r 54%|█████▍    | 267/490 [01:33<01:10,  3.18it/s]"
          ]
        },
        {
          "output_type": "stream",
          "name": "stdout",
          "text": [
            "dataset/aug/train/images/309_0.png\n",
            "True\n",
            "dataset/aug/train/images/309_1.png\n",
            "True\n",
            "dataset/aug/train/images/309_2.png\n",
            "True\n",
            "dataset/aug/train/images/309_3.png\n",
            "True\n",
            "dataset/aug/train/images/309_4.png\n",
            "True\n"
          ]
        },
        {
          "output_type": "stream",
          "name": "stderr",
          "text": [
            "\r 55%|█████▍    | 268/490 [01:33<01:08,  3.22it/s]"
          ]
        },
        {
          "output_type": "stream",
          "name": "stdout",
          "text": [
            "dataset/aug/train/images/445_0.png\n",
            "True\n",
            "dataset/aug/train/images/445_1.png\n",
            "True\n",
            "dataset/aug/train/images/445_2.png\n",
            "True\n",
            "dataset/aug/train/images/445_3.png\n",
            "True\n",
            "dataset/aug/train/images/445_4.png\n",
            "True\n"
          ]
        },
        {
          "output_type": "stream",
          "name": "stderr",
          "text": [
            "\r 55%|█████▍    | 269/490 [01:34<01:09,  3.16it/s]"
          ]
        },
        {
          "output_type": "stream",
          "name": "stdout",
          "text": [
            "dataset/aug/train/images/19_0.png\n",
            "True\n",
            "dataset/aug/train/images/19_1.png\n",
            "True\n",
            "dataset/aug/train/images/19_2.png\n",
            "True\n",
            "dataset/aug/train/images/19_3.png\n",
            "True\n",
            "dataset/aug/train/images/19_4.png\n",
            "True\n"
          ]
        },
        {
          "output_type": "stream",
          "name": "stderr",
          "text": [
            "\r 55%|█████▌    | 270/490 [01:34<01:07,  3.25it/s]"
          ]
        },
        {
          "output_type": "stream",
          "name": "stdout",
          "text": [
            "dataset/aug/train/images/211_0.png\n",
            "True\n",
            "dataset/aug/train/images/211_1.png\n",
            "True\n",
            "dataset/aug/train/images/211_2.png\n",
            "True\n",
            "dataset/aug/train/images/211_3.png\n",
            "True\n",
            "dataset/aug/train/images/211_4.png\n",
            "True\n"
          ]
        },
        {
          "output_type": "stream",
          "name": "stderr",
          "text": [
            "\r 55%|█████▌    | 271/490 [01:34<01:04,  3.37it/s]"
          ]
        },
        {
          "output_type": "stream",
          "name": "stdout",
          "text": [
            "dataset/aug/train/images/71_0.png\n",
            "True\n",
            "dataset/aug/train/images/71_1.png\n",
            "True\n",
            "dataset/aug/train/images/71_2.png\n",
            "True\n",
            "dataset/aug/train/images/71_3.png\n",
            "True\n",
            "dataset/aug/train/images/71_4.png\n",
            "True\n"
          ]
        },
        {
          "output_type": "stream",
          "name": "stderr",
          "text": [
            "\r 56%|█████▌    | 272/490 [01:34<01:05,  3.35it/s]"
          ]
        },
        {
          "output_type": "stream",
          "name": "stdout",
          "text": [
            "dataset/aug/train/images/512_0.png\n",
            "True\n",
            "dataset/aug/train/images/512_1.png\n",
            "True\n",
            "dataset/aug/train/images/512_2.png\n",
            "True\n",
            "dataset/aug/train/images/512_3.png\n",
            "True\n",
            "dataset/aug/train/images/512_4.png\n",
            "True\n"
          ]
        },
        {
          "output_type": "stream",
          "name": "stderr",
          "text": [
            "\r 56%|█████▌    | 273/490 [01:35<01:04,  3.38it/s]"
          ]
        },
        {
          "output_type": "stream",
          "name": "stdout",
          "text": [
            "dataset/aug/train/images/586_0.png\n",
            "True\n",
            "dataset/aug/train/images/586_1.png\n",
            "True\n",
            "dataset/aug/train/images/586_2.png\n",
            "True\n",
            "dataset/aug/train/images/586_3.png\n",
            "True\n",
            "dataset/aug/train/images/586_4.png\n",
            "True\n"
          ]
        },
        {
          "output_type": "stream",
          "name": "stderr",
          "text": [
            "\r 56%|█████▌    | 274/490 [01:35<01:05,  3.31it/s]"
          ]
        },
        {
          "output_type": "stream",
          "name": "stdout",
          "text": [
            "dataset/aug/train/images/579_0.png\n",
            "True\n",
            "dataset/aug/train/images/579_1.png\n",
            "True\n",
            "dataset/aug/train/images/579_2.png\n",
            "True\n",
            "dataset/aug/train/images/579_3.png\n",
            "True\n",
            "dataset/aug/train/images/579_4.png\n",
            "True\n"
          ]
        },
        {
          "output_type": "stream",
          "name": "stderr",
          "text": [
            "\r 56%|█████▌    | 275/490 [01:35<01:06,  3.26it/s]"
          ]
        },
        {
          "output_type": "stream",
          "name": "stdout",
          "text": [
            "dataset/aug/train/images/9_0.png\n",
            "True\n",
            "dataset/aug/train/images/9_1.png\n",
            "True\n",
            "dataset/aug/train/images/9_2.png\n",
            "True\n",
            "dataset/aug/train/images/9_3.png\n",
            "True\n",
            "dataset/aug/train/images/9_4.png\n",
            "True\n"
          ]
        },
        {
          "output_type": "stream",
          "name": "stderr",
          "text": [
            "\r 56%|█████▋    | 276/490 [01:36<01:08,  3.13it/s]"
          ]
        },
        {
          "output_type": "stream",
          "name": "stdout",
          "text": [
            "dataset/aug/train/images/364_0.png\n",
            "True\n",
            "dataset/aug/train/images/364_1.png\n",
            "True\n",
            "dataset/aug/train/images/364_2.png\n",
            "True\n",
            "dataset/aug/train/images/364_3.png\n",
            "True\n",
            "dataset/aug/train/images/364_4.png\n",
            "True\n"
          ]
        },
        {
          "output_type": "stream",
          "name": "stderr",
          "text": [
            "\r 57%|█████▋    | 277/490 [01:36<01:08,  3.11it/s]"
          ]
        },
        {
          "output_type": "stream",
          "name": "stdout",
          "text": [
            "dataset/aug/train/images/290_0.png\n",
            "True\n",
            "dataset/aug/train/images/290_1.png\n",
            "True\n",
            "dataset/aug/train/images/290_2.png\n",
            "True\n",
            "dataset/aug/train/images/290_3.png\n",
            "True\n",
            "dataset/aug/train/images/290_4.png\n",
            "True\n"
          ]
        },
        {
          "output_type": "stream",
          "name": "stderr",
          "text": [
            "\r 57%|█████▋    | 278/490 [01:36<01:06,  3.18it/s]"
          ]
        },
        {
          "output_type": "stream",
          "name": "stdout",
          "text": [
            "dataset/aug/train/images/143_0.png\n",
            "True\n",
            "dataset/aug/train/images/143_1.png\n",
            "True\n",
            "dataset/aug/train/images/143_2.png\n",
            "True\n",
            "dataset/aug/train/images/143_3.png\n",
            "True\n",
            "dataset/aug/train/images/143_4.png\n",
            "True\n"
          ]
        },
        {
          "output_type": "stream",
          "name": "stderr",
          "text": [
            "\r 57%|█████▋    | 279/490 [01:37<01:15,  2.80it/s]"
          ]
        },
        {
          "output_type": "stream",
          "name": "stdout",
          "text": [
            "dataset/aug/train/images/20_0.png\n",
            "True\n",
            "dataset/aug/train/images/20_1.png\n",
            "True\n",
            "dataset/aug/train/images/20_2.png\n",
            "True\n",
            "dataset/aug/train/images/20_3.png\n",
            "True\n",
            "dataset/aug/train/images/20_4.png\n",
            "True\n"
          ]
        },
        {
          "output_type": "stream",
          "name": "stderr",
          "text": [
            "\r 57%|█████▋    | 280/490 [01:37<01:10,  2.99it/s]"
          ]
        },
        {
          "output_type": "stream",
          "name": "stdout",
          "text": [
            "dataset/aug/train/images/341_0.png\n",
            "True\n",
            "dataset/aug/train/images/341_1.png\n",
            "True\n",
            "dataset/aug/train/images/341_2.png\n",
            "True\n",
            "dataset/aug/train/images/341_3.png\n",
            "True\n",
            "dataset/aug/train/images/341_4.png\n",
            "True\n"
          ]
        },
        {
          "output_type": "stream",
          "name": "stderr",
          "text": [
            "\r 57%|█████▋    | 281/490 [01:37<01:07,  3.12it/s]"
          ]
        },
        {
          "output_type": "stream",
          "name": "stdout",
          "text": [
            "dataset/aug/train/images/158_0.png\n",
            "True\n",
            "dataset/aug/train/images/158_1.png\n",
            "True\n",
            "dataset/aug/train/images/158_2.png\n",
            "True\n",
            "dataset/aug/train/images/158_3.png\n",
            "True\n",
            "dataset/aug/train/images/158_4.png\n",
            "True\n"
          ]
        },
        {
          "output_type": "stream",
          "name": "stderr",
          "text": [
            "\r 58%|█████▊    | 282/490 [01:38<01:09,  3.00it/s]"
          ]
        },
        {
          "output_type": "stream",
          "name": "stdout",
          "text": [
            "dataset/aug/train/images/525_0.png\n",
            "True\n",
            "dataset/aug/train/images/525_1.png\n",
            "True\n",
            "dataset/aug/train/images/525_2.png\n",
            "True\n",
            "dataset/aug/train/images/525_3.png\n",
            "True\n",
            "dataset/aug/train/images/525_4.png\n",
            "True\n"
          ]
        },
        {
          "output_type": "stream",
          "name": "stderr",
          "text": [
            "\r 58%|█████▊    | 283/490 [01:38<01:05,  3.18it/s]"
          ]
        },
        {
          "output_type": "stream",
          "name": "stdout",
          "text": [
            "dataset/aug/train/images/530_0.png\n",
            "True\n",
            "dataset/aug/train/images/530_1.png\n",
            "True\n",
            "dataset/aug/train/images/530_2.png\n",
            "True\n",
            "dataset/aug/train/images/530_3.png\n",
            "True\n",
            "dataset/aug/train/images/530_4.png\n",
            "True\n"
          ]
        },
        {
          "output_type": "stream",
          "name": "stderr",
          "text": [
            "\r 58%|█████▊    | 284/490 [01:38<01:06,  3.09it/s]"
          ]
        },
        {
          "output_type": "stream",
          "name": "stdout",
          "text": [
            "dataset/aug/train/images/315_0.png\n",
            "True\n",
            "dataset/aug/train/images/315_1.png\n",
            "True\n",
            "dataset/aug/train/images/315_2.png\n",
            "True\n",
            "dataset/aug/train/images/315_3.png\n",
            "True\n",
            "dataset/aug/train/images/315_4.png\n",
            "True\n"
          ]
        },
        {
          "output_type": "stream",
          "name": "stderr",
          "text": [
            "\r 58%|█████▊    | 285/490 [01:39<01:20,  2.55it/s]"
          ]
        },
        {
          "output_type": "stream",
          "name": "stdout",
          "text": [
            "dataset/aug/train/images/122_0.png\n",
            "True\n",
            "dataset/aug/train/images/122_1.png\n",
            "True\n",
            "dataset/aug/train/images/122_2.png\n",
            "True\n",
            "dataset/aug/train/images/122_3.png\n",
            "True\n",
            "dataset/aug/train/images/122_4.png\n",
            "True\n"
          ]
        },
        {
          "output_type": "stream",
          "name": "stderr",
          "text": [
            "\r 58%|█████▊    | 286/490 [01:39<01:16,  2.68it/s]"
          ]
        },
        {
          "output_type": "stream",
          "name": "stdout",
          "text": [
            "dataset/aug/train/images/412_0.png\n",
            "True\n",
            "dataset/aug/train/images/412_1.png\n",
            "True\n",
            "dataset/aug/train/images/412_2.png\n",
            "True\n",
            "dataset/aug/train/images/412_3.png\n",
            "True\n",
            "dataset/aug/train/images/412_4.png\n",
            "True\n"
          ]
        },
        {
          "output_type": "stream",
          "name": "stderr",
          "text": [
            "\r 59%|█████▊    | 287/490 [01:40<01:15,  2.69it/s]"
          ]
        },
        {
          "output_type": "stream",
          "name": "stdout",
          "text": [
            "dataset/aug/train/images/516_0.png\n",
            "True\n",
            "dataset/aug/train/images/516_1.png\n",
            "True\n",
            "dataset/aug/train/images/516_2.png\n",
            "True\n",
            "dataset/aug/train/images/516_3.png\n",
            "True\n",
            "dataset/aug/train/images/516_4.png\n",
            "True\n"
          ]
        },
        {
          "output_type": "stream",
          "name": "stderr",
          "text": [
            "\r 59%|█████▉    | 288/490 [01:40<01:18,  2.56it/s]"
          ]
        },
        {
          "output_type": "stream",
          "name": "stdout",
          "text": [
            "dataset/aug/train/images/201_0.png\n",
            "True\n",
            "dataset/aug/train/images/201_1.png\n",
            "True\n",
            "dataset/aug/train/images/201_2.png\n",
            "True\n",
            "dataset/aug/train/images/201_3.png\n",
            "True\n",
            "dataset/aug/train/images/201_4.png\n",
            "True\n"
          ]
        },
        {
          "output_type": "stream",
          "name": "stderr",
          "text": [
            "\r 59%|█████▉    | 289/490 [01:40<01:13,  2.72it/s]"
          ]
        },
        {
          "output_type": "stream",
          "name": "stdout",
          "text": [
            "dataset/aug/train/images/391_0.png\n",
            "True\n",
            "dataset/aug/train/images/391_1.png\n",
            "True\n",
            "dataset/aug/train/images/391_2.png\n",
            "True\n",
            "dataset/aug/train/images/391_3.png\n",
            "True\n",
            "dataset/aug/train/images/391_4.png\n",
            "True\n"
          ]
        },
        {
          "output_type": "stream",
          "name": "stderr",
          "text": [
            "\r 59%|█████▉    | 290/490 [01:41<01:11,  2.81it/s]"
          ]
        },
        {
          "output_type": "stream",
          "name": "stdout",
          "text": [
            "dataset/aug/train/images/368_0.png\n",
            "True\n",
            "dataset/aug/train/images/368_1.png\n",
            "True\n",
            "dataset/aug/train/images/368_2.png\n",
            "True\n",
            "dataset/aug/train/images/368_3.png\n",
            "True\n",
            "dataset/aug/train/images/368_4.png\n",
            "True\n"
          ]
        },
        {
          "output_type": "stream",
          "name": "stderr",
          "text": [
            "\r 59%|█████▉    | 291/490 [01:41<01:07,  2.94it/s]"
          ]
        },
        {
          "output_type": "stream",
          "name": "stdout",
          "text": [
            "dataset/aug/train/images/416_0.png\n",
            "True\n",
            "dataset/aug/train/images/416_1.png\n",
            "True\n",
            "dataset/aug/train/images/416_2.png\n",
            "True\n",
            "dataset/aug/train/images/416_3.png\n",
            "True\n",
            "dataset/aug/train/images/416_4.png\n",
            "True\n"
          ]
        },
        {
          "output_type": "stream",
          "name": "stderr",
          "text": [
            "\r 60%|█████▉    | 292/490 [01:41<01:06,  2.96it/s]"
          ]
        },
        {
          "output_type": "stream",
          "name": "stdout",
          "text": [
            "dataset/aug/train/images/400_0.png\n",
            "True\n",
            "dataset/aug/train/images/400_1.png\n",
            "True\n",
            "dataset/aug/train/images/400_2.png\n",
            "True\n",
            "dataset/aug/train/images/400_3.png\n",
            "True\n",
            "dataset/aug/train/images/400_4.png\n",
            "True\n"
          ]
        },
        {
          "output_type": "stream",
          "name": "stderr",
          "text": [
            "\r 60%|█████▉    | 293/490 [01:42<01:16,  2.59it/s]"
          ]
        },
        {
          "output_type": "stream",
          "name": "stdout",
          "text": [
            "dataset/aug/train/images/301_0.png\n",
            "True\n",
            "dataset/aug/train/images/301_1.png\n",
            "True\n",
            "dataset/aug/train/images/301_2.png\n",
            "True\n",
            "dataset/aug/train/images/301_3.png\n",
            "True\n",
            "dataset/aug/train/images/301_4.png\n",
            "True\n"
          ]
        },
        {
          "output_type": "stream",
          "name": "stderr",
          "text": [
            "\r 60%|██████    | 294/490 [01:42<01:11,  2.75it/s]"
          ]
        },
        {
          "output_type": "stream",
          "name": "stdout",
          "text": [
            "dataset/aug/train/images/379_0.png\n",
            "True\n",
            "dataset/aug/train/images/379_1.png\n",
            "True\n",
            "dataset/aug/train/images/379_2.png\n",
            "True\n",
            "dataset/aug/train/images/379_3.png\n",
            "True\n",
            "dataset/aug/train/images/379_4.png\n",
            "True\n"
          ]
        },
        {
          "output_type": "stream",
          "name": "stderr",
          "text": [
            "\r 60%|██████    | 295/490 [01:42<01:08,  2.83it/s]"
          ]
        },
        {
          "output_type": "stream",
          "name": "stdout",
          "text": [
            "dataset/aug/train/images/370_0.png\n",
            "True\n",
            "dataset/aug/train/images/370_1.png\n",
            "True\n",
            "dataset/aug/train/images/370_2.png\n",
            "True\n",
            "dataset/aug/train/images/370_3.png\n",
            "True\n",
            "dataset/aug/train/images/370_4.png\n",
            "True\n"
          ]
        },
        {
          "output_type": "stream",
          "name": "stderr",
          "text": [
            "\r 60%|██████    | 296/490 [01:43<01:04,  3.02it/s]"
          ]
        },
        {
          "output_type": "stream",
          "name": "stdout",
          "text": [
            "dataset/aug/train/images/242_0.png\n",
            "True\n",
            "dataset/aug/train/images/242_1.png\n",
            "True\n",
            "dataset/aug/train/images/242_2.png\n",
            "True\n",
            "dataset/aug/train/images/242_3.png\n",
            "True\n",
            "dataset/aug/train/images/242_4.png\n",
            "True\n"
          ]
        },
        {
          "output_type": "stream",
          "name": "stderr",
          "text": [
            "\r 61%|██████    | 297/490 [01:43<01:00,  3.17it/s]"
          ]
        },
        {
          "output_type": "stream",
          "name": "stdout",
          "text": [
            "dataset/aug/train/images/80_0.png\n",
            "True\n",
            "dataset/aug/train/images/80_1.png\n",
            "True\n",
            "dataset/aug/train/images/80_2.png\n",
            "True\n",
            "dataset/aug/train/images/80_3.png\n",
            "True\n",
            "dataset/aug/train/images/80_4.png\n",
            "True\n"
          ]
        },
        {
          "output_type": "stream",
          "name": "stderr",
          "text": [
            "\r 61%|██████    | 298/490 [01:43<00:58,  3.28it/s]"
          ]
        },
        {
          "output_type": "stream",
          "name": "stdout",
          "text": [
            "dataset/aug/train/images/223_0.png\n",
            "True\n",
            "dataset/aug/train/images/223_1.png\n",
            "True\n",
            "dataset/aug/train/images/223_2.png\n",
            "True\n",
            "dataset/aug/train/images/223_3.png\n",
            "True\n",
            "dataset/aug/train/images/223_4.png\n",
            "True\n"
          ]
        },
        {
          "output_type": "stream",
          "name": "stderr",
          "text": [
            "\r 61%|██████    | 299/490 [01:44<00:57,  3.30it/s]"
          ]
        },
        {
          "output_type": "stream",
          "name": "stdout",
          "text": [
            "dataset/aug/train/images/606_0.png\n",
            "True\n",
            "dataset/aug/train/images/606_1.png\n",
            "True\n",
            "dataset/aug/train/images/606_2.png\n",
            "True\n",
            "dataset/aug/train/images/606_3.png\n",
            "True\n",
            "dataset/aug/train/images/606_4.png\n",
            "True\n"
          ]
        },
        {
          "output_type": "stream",
          "name": "stderr",
          "text": [
            "\r 61%|██████    | 300/490 [01:44<01:03,  2.98it/s]"
          ]
        },
        {
          "output_type": "stream",
          "name": "stdout",
          "text": [
            "dataset/aug/train/images/447_0.png\n",
            "True\n",
            "dataset/aug/train/images/447_1.png\n",
            "True\n",
            "dataset/aug/train/images/447_2.png\n",
            "True\n",
            "dataset/aug/train/images/447_3.png\n",
            "True\n",
            "dataset/aug/train/images/447_4.png\n",
            "True\n"
          ]
        },
        {
          "output_type": "stream",
          "name": "stderr",
          "text": [
            "\r 61%|██████▏   | 301/490 [01:44<01:02,  3.05it/s]"
          ]
        },
        {
          "output_type": "stream",
          "name": "stdout",
          "text": [
            "dataset/aug/train/images/183_0.png\n",
            "True\n",
            "dataset/aug/train/images/183_1.png\n",
            "True\n",
            "dataset/aug/train/images/183_2.png\n",
            "True\n",
            "dataset/aug/train/images/183_3.png\n",
            "True\n",
            "dataset/aug/train/images/183_4.png\n",
            "True\n"
          ]
        },
        {
          "output_type": "stream",
          "name": "stderr",
          "text": [
            "\r 62%|██████▏   | 302/490 [01:45<01:01,  3.05it/s]"
          ]
        },
        {
          "output_type": "stream",
          "name": "stdout",
          "text": [
            "dataset/aug/train/images/397_0.png\n",
            "True\n",
            "dataset/aug/train/images/397_1.png\n",
            "True\n",
            "dataset/aug/train/images/397_2.png\n",
            "True\n",
            "dataset/aug/train/images/397_3.png\n",
            "True\n",
            "dataset/aug/train/images/397_4.png\n",
            "True\n"
          ]
        },
        {
          "output_type": "stream",
          "name": "stderr",
          "text": [
            "\r 62%|██████▏   | 303/490 [01:45<01:01,  3.03it/s]"
          ]
        },
        {
          "output_type": "stream",
          "name": "stdout",
          "text": [
            "dataset/aug/train/images/426_0.png\n",
            "True\n",
            "dataset/aug/train/images/426_1.png\n",
            "True\n",
            "dataset/aug/train/images/426_2.png\n",
            "True\n",
            "dataset/aug/train/images/426_3.png\n",
            "True\n",
            "dataset/aug/train/images/426_4.png\n",
            "True\n"
          ]
        },
        {
          "output_type": "stream",
          "name": "stderr",
          "text": [
            "\r 62%|██████▏   | 304/490 [01:45<00:59,  3.12it/s]"
          ]
        },
        {
          "output_type": "stream",
          "name": "stdout",
          "text": [
            "dataset/aug/train/images/181_0.png\n",
            "True\n",
            "dataset/aug/train/images/181_1.png\n",
            "True\n",
            "dataset/aug/train/images/181_2.png\n",
            "True\n",
            "dataset/aug/train/images/181_3.png\n",
            "True\n",
            "dataset/aug/train/images/181_4.png\n",
            "True\n"
          ]
        },
        {
          "output_type": "stream",
          "name": "stderr",
          "text": [
            "\r 62%|██████▏   | 305/490 [01:45<00:56,  3.27it/s]"
          ]
        },
        {
          "output_type": "stream",
          "name": "stdout",
          "text": [
            "dataset/aug/train/images/365_0.png\n",
            "True\n",
            "dataset/aug/train/images/365_1.png\n",
            "True\n",
            "dataset/aug/train/images/365_2.png\n",
            "True\n",
            "dataset/aug/train/images/365_3.png\n",
            "True\n",
            "dataset/aug/train/images/365_4.png\n",
            "True\n"
          ]
        },
        {
          "output_type": "stream",
          "name": "stderr",
          "text": [
            "\r 62%|██████▏   | 306/490 [01:46<00:58,  3.13it/s]"
          ]
        },
        {
          "output_type": "stream",
          "name": "stdout",
          "text": [
            "dataset/aug/train/images/203_0.png\n",
            "True\n",
            "dataset/aug/train/images/203_1.png\n",
            "True\n",
            "dataset/aug/train/images/203_2.png\n",
            "True\n",
            "dataset/aug/train/images/203_3.png\n",
            "True\n",
            "dataset/aug/train/images/203_4.png\n",
            "True\n"
          ]
        },
        {
          "output_type": "stream",
          "name": "stderr",
          "text": [
            "\r 63%|██████▎   | 307/490 [01:46<01:09,  2.65it/s]"
          ]
        },
        {
          "output_type": "stream",
          "name": "stdout",
          "text": [
            "dataset/aug/train/images/421_0.png\n",
            "True\n",
            "dataset/aug/train/images/421_1.png\n",
            "True\n",
            "dataset/aug/train/images/421_2.png\n",
            "True\n",
            "dataset/aug/train/images/421_3.png\n",
            "True\n",
            "dataset/aug/train/images/421_4.png\n",
            "True\n"
          ]
        },
        {
          "output_type": "stream",
          "name": "stderr",
          "text": [
            "\r 63%|██████▎   | 308/490 [01:47<01:05,  2.76it/s]"
          ]
        },
        {
          "output_type": "stream",
          "name": "stdout",
          "text": [
            "dataset/aug/train/images/207_0.png\n",
            "True\n",
            "dataset/aug/train/images/207_1.png\n",
            "True\n",
            "dataset/aug/train/images/207_2.png\n",
            "True\n",
            "dataset/aug/train/images/207_3.png\n",
            "True\n",
            "dataset/aug/train/images/207_4.png\n",
            "True\n"
          ]
        },
        {
          "output_type": "stream",
          "name": "stderr",
          "text": [
            "\r 63%|██████▎   | 309/490 [01:47<01:03,  2.86it/s]"
          ]
        },
        {
          "output_type": "stream",
          "name": "stdout",
          "text": [
            "dataset/aug/train/images/503_0.png\n",
            "True\n",
            "dataset/aug/train/images/503_1.png\n",
            "True\n",
            "dataset/aug/train/images/503_2.png\n",
            "True\n",
            "dataset/aug/train/images/503_3.png\n",
            "True\n",
            "dataset/aug/train/images/503_4.png\n",
            "True\n"
          ]
        },
        {
          "output_type": "stream",
          "name": "stderr",
          "text": [
            "\r 63%|██████▎   | 310/490 [01:47<01:03,  2.85it/s]"
          ]
        },
        {
          "output_type": "stream",
          "name": "stdout",
          "text": [
            "dataset/aug/train/images/194_0.png\n",
            "True\n",
            "dataset/aug/train/images/194_1.png\n",
            "True\n",
            "dataset/aug/train/images/194_2.png\n",
            "True\n",
            "dataset/aug/train/images/194_3.png\n",
            "True\n",
            "dataset/aug/train/images/194_4.png\n",
            "True\n"
          ]
        },
        {
          "output_type": "stream",
          "name": "stderr",
          "text": [
            "\r 63%|██████▎   | 311/490 [01:48<01:14,  2.40it/s]"
          ]
        },
        {
          "output_type": "stream",
          "name": "stdout",
          "text": [
            "dataset/aug/train/images/322_0.png\n",
            "True\n",
            "dataset/aug/train/images/322_1.png\n",
            "True\n",
            "dataset/aug/train/images/322_2.png\n",
            "True\n",
            "dataset/aug/train/images/322_3.png\n",
            "True\n",
            "dataset/aug/train/images/322_4.png\n",
            "True\n"
          ]
        },
        {
          "output_type": "stream",
          "name": "stderr",
          "text": [
            "\r 64%|██████▎   | 312/490 [01:48<01:10,  2.51it/s]"
          ]
        },
        {
          "output_type": "stream",
          "name": "stdout",
          "text": [
            "dataset/aug/train/images/578_0.png\n",
            "True\n",
            "dataset/aug/train/images/578_1.png\n",
            "True\n",
            "dataset/aug/train/images/578_2.png\n",
            "True\n",
            "dataset/aug/train/images/578_3.png\n",
            "True\n",
            "dataset/aug/train/images/578_4.png\n",
            "True\n"
          ]
        },
        {
          "output_type": "stream",
          "name": "stderr",
          "text": [
            "\r 64%|██████▍   | 313/490 [01:49<01:04,  2.73it/s]"
          ]
        },
        {
          "output_type": "stream",
          "name": "stdout",
          "text": [
            "dataset/aug/train/images/218_0.png\n",
            "True\n",
            "dataset/aug/train/images/218_1.png\n",
            "True\n",
            "dataset/aug/train/images/218_2.png\n",
            "True\n",
            "dataset/aug/train/images/218_3.png\n",
            "True\n",
            "dataset/aug/train/images/218_4.png\n",
            "True\n"
          ]
        },
        {
          "output_type": "stream",
          "name": "stderr",
          "text": [
            "\r 64%|██████▍   | 314/490 [01:49<01:09,  2.52it/s]"
          ]
        },
        {
          "output_type": "stream",
          "name": "stdout",
          "text": [
            "dataset/aug/train/images/152_0.png\n",
            "True\n",
            "dataset/aug/train/images/152_1.png\n",
            "True\n",
            "dataset/aug/train/images/152_2.png\n",
            "True\n",
            "dataset/aug/train/images/152_3.png\n",
            "True\n",
            "dataset/aug/train/images/152_4.png\n",
            "True\n"
          ]
        },
        {
          "output_type": "stream",
          "name": "stderr",
          "text": [
            "\r 64%|██████▍   | 315/490 [01:49<01:07,  2.58it/s]"
          ]
        },
        {
          "output_type": "stream",
          "name": "stdout",
          "text": [
            "dataset/aug/train/images/167_0.png\n",
            "True\n",
            "dataset/aug/train/images/167_1.png\n",
            "True\n",
            "dataset/aug/train/images/167_2.png\n",
            "True\n",
            "dataset/aug/train/images/167_3.png\n",
            "True\n",
            "dataset/aug/train/images/167_4.png\n",
            "True\n"
          ]
        },
        {
          "output_type": "stream",
          "name": "stderr",
          "text": [
            "\r 64%|██████▍   | 316/490 [01:50<01:07,  2.59it/s]"
          ]
        },
        {
          "output_type": "stream",
          "name": "stdout",
          "text": [
            "dataset/aug/train/images/257_0.png\n",
            "True\n",
            "dataset/aug/train/images/257_1.png\n",
            "True\n",
            "dataset/aug/train/images/257_2.png\n",
            "True\n",
            "dataset/aug/train/images/257_3.png\n",
            "True\n",
            "dataset/aug/train/images/257_4.png\n",
            "True\n"
          ]
        },
        {
          "output_type": "stream",
          "name": "stderr",
          "text": [
            "\r 65%|██████▍   | 317/490 [01:50<01:03,  2.71it/s]"
          ]
        },
        {
          "output_type": "stream",
          "name": "stdout",
          "text": [
            "dataset/aug/train/images/32_0.png\n",
            "True\n",
            "dataset/aug/train/images/32_1.png\n",
            "True\n",
            "dataset/aug/train/images/32_2.png\n",
            "True\n",
            "dataset/aug/train/images/32_3.png\n",
            "True\n",
            "dataset/aug/train/images/32_4.png\n",
            "True\n"
          ]
        },
        {
          "output_type": "stream",
          "name": "stderr",
          "text": [
            "\r 65%|██████▍   | 318/490 [01:50<01:01,  2.81it/s]"
          ]
        },
        {
          "output_type": "stream",
          "name": "stdout",
          "text": [
            "dataset/aug/train/images/253_0.png\n",
            "True\n",
            "dataset/aug/train/images/253_1.png\n",
            "True\n",
            "dataset/aug/train/images/253_2.png\n",
            "True\n",
            "dataset/aug/train/images/253_3.png\n",
            "True\n",
            "dataset/aug/train/images/253_4.png\n",
            "True\n"
          ]
        },
        {
          "output_type": "stream",
          "name": "stderr",
          "text": [
            "\r 65%|██████▌   | 319/490 [01:51<00:56,  3.04it/s]"
          ]
        },
        {
          "output_type": "stream",
          "name": "stdout",
          "text": [
            "dataset/aug/train/images/510_0.png\n",
            "True\n",
            "dataset/aug/train/images/510_1.png\n",
            "True\n",
            "dataset/aug/train/images/510_2.png\n",
            "True\n",
            "dataset/aug/train/images/510_3.png\n",
            "True\n",
            "dataset/aug/train/images/510_4.png\n",
            "True\n"
          ]
        },
        {
          "output_type": "stream",
          "name": "stderr",
          "text": [
            "\r 65%|██████▌   | 320/490 [01:51<00:56,  3.03it/s]"
          ]
        },
        {
          "output_type": "stream",
          "name": "stdout",
          "text": [
            "dataset/aug/train/images/346_0.png\n",
            "True\n",
            "dataset/aug/train/images/346_1.png\n",
            "True\n",
            "dataset/aug/train/images/346_2.png\n",
            "True\n",
            "dataset/aug/train/images/346_3.png\n",
            "True\n",
            "dataset/aug/train/images/346_4.png\n",
            "True\n"
          ]
        },
        {
          "output_type": "stream",
          "name": "stderr",
          "text": [
            "\r 66%|██████▌   | 321/490 [01:51<00:53,  3.17it/s]"
          ]
        },
        {
          "output_type": "stream",
          "name": "stdout",
          "text": [
            "dataset/aug/train/images/55_0.png\n",
            "True\n",
            "dataset/aug/train/images/55_1.png\n",
            "True\n",
            "dataset/aug/train/images/55_2.png\n",
            "True\n",
            "dataset/aug/train/images/55_3.png\n",
            "True\n",
            "dataset/aug/train/images/55_4.png\n",
            "True\n"
          ]
        },
        {
          "output_type": "stream",
          "name": "stderr",
          "text": [
            "\r 66%|██████▌   | 322/490 [01:52<00:55,  3.00it/s]"
          ]
        },
        {
          "output_type": "stream",
          "name": "stdout",
          "text": [
            "dataset/aug/train/images/177_0.png\n",
            "True\n",
            "dataset/aug/train/images/177_1.png\n",
            "True\n",
            "dataset/aug/train/images/177_2.png\n",
            "True\n",
            "dataset/aug/train/images/177_3.png\n",
            "True\n",
            "dataset/aug/train/images/177_4.png\n",
            "True\n"
          ]
        },
        {
          "output_type": "stream",
          "name": "stderr",
          "text": [
            "\r 66%|██████▌   | 323/490 [01:52<00:54,  3.05it/s]"
          ]
        },
        {
          "output_type": "stream",
          "name": "stdout",
          "text": [
            "dataset/aug/train/images/116_0.png\n",
            "True\n",
            "dataset/aug/train/images/116_1.png\n",
            "True\n",
            "dataset/aug/train/images/116_2.png\n",
            "True\n",
            "dataset/aug/train/images/116_3.png\n",
            "True\n",
            "dataset/aug/train/images/116_4.png\n",
            "True\n"
          ]
        },
        {
          "output_type": "stream",
          "name": "stderr",
          "text": [
            "\r 66%|██████▌   | 324/490 [01:52<00:51,  3.22it/s]"
          ]
        },
        {
          "output_type": "stream",
          "name": "stdout",
          "text": [
            "dataset/aug/train/images/67_0.png\n",
            "True\n",
            "dataset/aug/train/images/67_1.png\n",
            "True\n",
            "dataset/aug/train/images/67_2.png\n",
            "True\n",
            "dataset/aug/train/images/67_3.png\n",
            "True\n",
            "dataset/aug/train/images/67_4.png\n",
            "True\n"
          ]
        },
        {
          "output_type": "stream",
          "name": "stderr",
          "text": [
            "\r 66%|██████▋   | 325/490 [01:53<00:53,  3.11it/s]"
          ]
        },
        {
          "output_type": "stream",
          "name": "stdout",
          "text": [
            "dataset/aug/train/images/359_0.png\n",
            "True\n",
            "dataset/aug/train/images/359_1.png\n",
            "True\n",
            "dataset/aug/train/images/359_2.png\n",
            "True\n",
            "dataset/aug/train/images/359_3.png\n",
            "True\n",
            "dataset/aug/train/images/359_4.png\n",
            "True\n"
          ]
        },
        {
          "output_type": "stream",
          "name": "stderr",
          "text": [
            "\r 67%|██████▋   | 326/490 [01:53<00:50,  3.25it/s]"
          ]
        },
        {
          "output_type": "stream",
          "name": "stdout",
          "text": [
            "dataset/aug/train/images/146_0.png\n",
            "True\n",
            "dataset/aug/train/images/146_1.png\n",
            "True\n",
            "dataset/aug/train/images/146_2.png\n",
            "True\n",
            "dataset/aug/train/images/146_3.png\n",
            "True\n",
            "dataset/aug/train/images/146_4.png\n",
            "True\n"
          ]
        },
        {
          "output_type": "stream",
          "name": "stderr",
          "text": [
            "\r 67%|██████▋   | 327/490 [01:53<00:51,  3.19it/s]"
          ]
        },
        {
          "output_type": "stream",
          "name": "stdout",
          "text": [
            "dataset/aug/train/images/450_0.png\n",
            "True\n",
            "dataset/aug/train/images/450_1.png\n",
            "True\n",
            "dataset/aug/train/images/450_2.png\n",
            "True\n",
            "dataset/aug/train/images/450_3.png\n",
            "True\n",
            "dataset/aug/train/images/450_4.png\n",
            "True\n"
          ]
        },
        {
          "output_type": "stream",
          "name": "stderr",
          "text": [
            "\r 67%|██████▋   | 328/490 [01:54<00:52,  3.07it/s]"
          ]
        },
        {
          "output_type": "stream",
          "name": "stdout",
          "text": [
            "dataset/aug/train/images/244_0.png\n",
            "True\n",
            "dataset/aug/train/images/244_1.png\n",
            "True\n",
            "dataset/aug/train/images/244_2.png\n",
            "True\n",
            "dataset/aug/train/images/244_3.png\n",
            "True\n",
            "dataset/aug/train/images/244_4.png\n",
            "True\n"
          ]
        },
        {
          "output_type": "stream",
          "name": "stderr",
          "text": [
            "\r 67%|██████▋   | 329/490 [01:54<00:49,  3.24it/s]"
          ]
        },
        {
          "output_type": "stream",
          "name": "stdout",
          "text": [
            "dataset/aug/train/images/453_0.png\n",
            "True\n",
            "dataset/aug/train/images/453_1.png\n",
            "True\n",
            "dataset/aug/train/images/453_2.png\n",
            "True\n",
            "dataset/aug/train/images/453_3.png\n",
            "True\n",
            "dataset/aug/train/images/453_4.png\n",
            "True\n"
          ]
        },
        {
          "output_type": "stream",
          "name": "stderr",
          "text": [
            "\r 67%|██████▋   | 330/490 [01:54<00:48,  3.31it/s]"
          ]
        },
        {
          "output_type": "stream",
          "name": "stdout",
          "text": [
            "dataset/aug/train/images/109_0.png\n",
            "True\n",
            "dataset/aug/train/images/109_1.png\n",
            "True\n",
            "dataset/aug/train/images/109_2.png\n",
            "True\n",
            "dataset/aug/train/images/109_3.png\n",
            "True\n",
            "dataset/aug/train/images/109_4.png\n",
            "True\n"
          ]
        },
        {
          "output_type": "stream",
          "name": "stderr",
          "text": [
            "\r 68%|██████▊   | 331/490 [01:54<00:50,  3.14it/s]"
          ]
        },
        {
          "output_type": "stream",
          "name": "stdout",
          "text": [
            "dataset/aug/train/images/312_0.png\n",
            "True\n",
            "dataset/aug/train/images/312_1.png\n",
            "True\n",
            "dataset/aug/train/images/312_2.png\n",
            "True\n",
            "dataset/aug/train/images/312_3.png\n",
            "True\n",
            "dataset/aug/train/images/312_4.png\n",
            "True\n"
          ]
        },
        {
          "output_type": "stream",
          "name": "stderr",
          "text": [
            "\r 68%|██████▊   | 332/490 [01:55<00:53,  2.96it/s]"
          ]
        },
        {
          "output_type": "stream",
          "name": "stdout",
          "text": [
            "dataset/aug/train/images/171_0.png\n",
            "True\n",
            "dataset/aug/train/images/171_1.png\n",
            "True\n",
            "dataset/aug/train/images/171_2.png\n",
            "True\n",
            "dataset/aug/train/images/171_3.png\n",
            "True\n",
            "dataset/aug/train/images/171_4.png\n",
            "True\n"
          ]
        },
        {
          "output_type": "stream",
          "name": "stderr",
          "text": [
            "\r 68%|██████▊   | 333/490 [01:55<00:49,  3.16it/s]"
          ]
        },
        {
          "output_type": "stream",
          "name": "stdout",
          "text": [
            "dataset/aug/train/images/70_0.png\n",
            "True\n",
            "dataset/aug/train/images/70_1.png\n",
            "True\n",
            "dataset/aug/train/images/70_2.png\n",
            "True\n",
            "dataset/aug/train/images/70_3.png\n",
            "True\n",
            "dataset/aug/train/images/70_4.png\n",
            "True\n"
          ]
        },
        {
          "output_type": "stream",
          "name": "stderr",
          "text": [
            "\r 68%|██████▊   | 334/490 [01:55<00:50,  3.09it/s]"
          ]
        },
        {
          "output_type": "stream",
          "name": "stdout",
          "text": [
            "dataset/aug/train/images/502_0.png\n",
            "True\n",
            "dataset/aug/train/images/502_1.png\n",
            "True\n",
            "dataset/aug/train/images/502_2.png\n",
            "True\n",
            "dataset/aug/train/images/502_3.png\n",
            "True\n",
            "dataset/aug/train/images/502_4.png\n",
            "True\n"
          ]
        },
        {
          "output_type": "stream",
          "name": "stderr",
          "text": [
            "\r 68%|██████▊   | 335/490 [01:56<00:46,  3.32it/s]"
          ]
        },
        {
          "output_type": "stream",
          "name": "stdout",
          "text": [
            "dataset/aug/train/images/386_0.png\n",
            "True\n",
            "dataset/aug/train/images/386_1.png\n",
            "True\n",
            "dataset/aug/train/images/386_2.png\n",
            "True\n",
            "dataset/aug/train/images/386_3.png\n",
            "True\n",
            "dataset/aug/train/images/386_4.png\n",
            "True\n"
          ]
        },
        {
          "output_type": "stream",
          "name": "stderr",
          "text": [
            "\r 69%|██████▊   | 336/490 [01:56<00:47,  3.26it/s]"
          ]
        },
        {
          "output_type": "stream",
          "name": "stdout",
          "text": [
            "dataset/aug/train/images/141_0.png\n",
            "True\n",
            "dataset/aug/train/images/141_1.png\n",
            "True\n",
            "dataset/aug/train/images/141_2.png\n",
            "True\n",
            "dataset/aug/train/images/141_3.png\n",
            "True\n",
            "dataset/aug/train/images/141_4.png\n",
            "True\n"
          ]
        },
        {
          "output_type": "stream",
          "name": "stderr",
          "text": [
            "\r 69%|██████▉   | 337/490 [01:56<00:50,  3.04it/s]"
          ]
        },
        {
          "output_type": "stream",
          "name": "stdout",
          "text": [
            "dataset/aug/train/images/159_0.png\n",
            "True\n",
            "dataset/aug/train/images/159_1.png\n",
            "True\n",
            "dataset/aug/train/images/159_2.png\n",
            "True\n",
            "dataset/aug/train/images/159_3.png\n",
            "True\n",
            "dataset/aug/train/images/159_4.png\n",
            "True\n"
          ]
        },
        {
          "output_type": "stream",
          "name": "stderr",
          "text": [
            "\r 69%|██████▉   | 338/490 [01:57<00:49,  3.07it/s]"
          ]
        },
        {
          "output_type": "stream",
          "name": "stdout",
          "text": [
            "dataset/aug/train/images/605_0.png\n",
            "True\n",
            "dataset/aug/train/images/605_1.png\n",
            "True\n",
            "dataset/aug/train/images/605_2.png\n",
            "True\n",
            "dataset/aug/train/images/605_3.png\n",
            "True\n",
            "dataset/aug/train/images/605_4.png\n",
            "True\n",
            "dataset/aug/train/images/154_0.png\n",
            "True\n",
            "dataset/aug/train/images/154_1.png\n",
            "True\n",
            "dataset/aug/train/images/154_2.png\n",
            "True\n",
            "dataset/aug/train/images/154_3.png\n"
          ]
        },
        {
          "output_type": "stream",
          "name": "stderr",
          "text": [
            "\r 69%|██████▉   | 339/490 [01:57<00:52,  2.85it/s]"
          ]
        },
        {
          "output_type": "stream",
          "name": "stdout",
          "text": [
            "True\n",
            "dataset/aug/train/images/154_4.png\n",
            "True\n"
          ]
        },
        {
          "output_type": "stream",
          "name": "stderr",
          "text": [
            "\r 69%|██████▉   | 340/490 [01:57<00:49,  3.04it/s]"
          ]
        },
        {
          "output_type": "stream",
          "name": "stdout",
          "text": [
            "dataset/aug/train/images/380_0.png\n",
            "True\n",
            "dataset/aug/train/images/380_1.png\n",
            "True\n",
            "dataset/aug/train/images/380_2.png\n",
            "True\n",
            "dataset/aug/train/images/380_3.png\n",
            "True\n",
            "dataset/aug/train/images/380_4.png\n",
            "True\n"
          ]
        },
        {
          "output_type": "stream",
          "name": "stderr",
          "text": [
            "\r 70%|██████▉   | 341/490 [01:58<00:48,  3.06it/s]"
          ]
        },
        {
          "output_type": "stream",
          "name": "stdout",
          "text": [
            "dataset/aug/train/images/496_0.png\n",
            "True\n",
            "dataset/aug/train/images/496_1.png\n",
            "True\n",
            "dataset/aug/train/images/496_2.png\n",
            "True\n",
            "dataset/aug/train/images/496_3.png\n",
            "True\n",
            "dataset/aug/train/images/496_4.png\n",
            "True\n"
          ]
        },
        {
          "output_type": "stream",
          "name": "stderr",
          "text": [
            "\r 70%|██████▉   | 342/490 [01:58<00:47,  3.12it/s]"
          ]
        },
        {
          "output_type": "stream",
          "name": "stdout",
          "text": [
            "dataset/aug/train/images/594_0.png\n",
            "True\n",
            "dataset/aug/train/images/594_1.png\n",
            "True\n",
            "dataset/aug/train/images/594_2.png\n",
            "True\n",
            "dataset/aug/train/images/594_3.png\n",
            "True\n",
            "dataset/aug/train/images/594_4.png\n",
            "True\n"
          ]
        },
        {
          "output_type": "stream",
          "name": "stderr",
          "text": [
            "\r 70%|███████   | 343/490 [01:59<00:56,  2.61it/s]"
          ]
        },
        {
          "output_type": "stream",
          "name": "stdout",
          "text": [
            "dataset/aug/train/images/435_0.png\n",
            "True\n",
            "dataset/aug/train/images/435_1.png\n",
            "True\n",
            "dataset/aug/train/images/435_2.png\n",
            "True\n",
            "dataset/aug/train/images/435_3.png\n",
            "True\n",
            "dataset/aug/train/images/435_4.png\n",
            "True\n"
          ]
        },
        {
          "output_type": "stream",
          "name": "stderr",
          "text": [
            "\r 70%|███████   | 344/490 [01:59<00:54,  2.69it/s]"
          ]
        },
        {
          "output_type": "stream",
          "name": "stdout",
          "text": [
            "dataset/aug/train/images/354_0.png\n",
            "True\n",
            "dataset/aug/train/images/354_1.png\n",
            "True\n",
            "dataset/aug/train/images/354_2.png\n",
            "True\n",
            "dataset/aug/train/images/354_3.png\n",
            "True\n",
            "dataset/aug/train/images/354_4.png\n",
            "True\n"
          ]
        },
        {
          "output_type": "stream",
          "name": "stderr",
          "text": [
            "\r 70%|███████   | 345/490 [01:59<00:51,  2.79it/s]"
          ]
        },
        {
          "output_type": "stream",
          "name": "stdout",
          "text": [
            "dataset/aug/train/images/245_0.png\n",
            "True\n",
            "dataset/aug/train/images/245_1.png\n",
            "True\n",
            "dataset/aug/train/images/245_2.png\n",
            "True\n",
            "dataset/aug/train/images/245_3.png\n",
            "True\n",
            "dataset/aug/train/images/245_4.png\n",
            "True\n"
          ]
        },
        {
          "output_type": "stream",
          "name": "stderr",
          "text": [
            "\r 71%|███████   | 346/490 [02:00<00:51,  2.80it/s]"
          ]
        },
        {
          "output_type": "stream",
          "name": "stdout",
          "text": [
            "dataset/aug/train/images/294_0.png\n",
            "True\n",
            "dataset/aug/train/images/294_1.png\n",
            "True\n",
            "dataset/aug/train/images/294_2.png\n",
            "True\n",
            "dataset/aug/train/images/294_3.png\n",
            "True\n",
            "dataset/aug/train/images/294_4.png\n",
            "True\n"
          ]
        },
        {
          "output_type": "stream",
          "name": "stderr",
          "text": [
            "\r 71%|███████   | 347/490 [02:00<00:47,  3.02it/s]"
          ]
        },
        {
          "output_type": "stream",
          "name": "stdout",
          "text": [
            "dataset/aug/train/images/225_0.png\n",
            "True\n",
            "dataset/aug/train/images/225_1.png\n",
            "True\n",
            "dataset/aug/train/images/225_2.png\n",
            "True\n",
            "dataset/aug/train/images/225_3.png\n",
            "True\n",
            "dataset/aug/train/images/225_4.png\n",
            "True\n"
          ]
        },
        {
          "output_type": "stream",
          "name": "stderr",
          "text": [
            "\r 71%|███████   | 348/490 [02:00<00:47,  2.97it/s]"
          ]
        },
        {
          "output_type": "stream",
          "name": "stdout",
          "text": [
            "dataset/aug/train/images/273_0.png\n",
            "True\n",
            "dataset/aug/train/images/273_1.png\n",
            "True\n",
            "dataset/aug/train/images/273_2.png\n",
            "True\n",
            "dataset/aug/train/images/273_3.png\n",
            "True\n",
            "dataset/aug/train/images/273_4.png\n",
            "True\n"
          ]
        },
        {
          "output_type": "stream",
          "name": "stderr",
          "text": [
            "\r 71%|███████   | 349/490 [02:01<00:45,  3.07it/s]"
          ]
        },
        {
          "output_type": "stream",
          "name": "stdout",
          "text": [
            "dataset/aug/train/images/609_0.png\n",
            "True\n",
            "dataset/aug/train/images/609_1.png\n",
            "True\n",
            "dataset/aug/train/images/609_2.png\n",
            "True\n",
            "dataset/aug/train/images/609_3.png\n",
            "True\n",
            "dataset/aug/train/images/609_4.png\n",
            "True\n"
          ]
        },
        {
          "output_type": "stream",
          "name": "stderr",
          "text": [
            "\r 71%|███████▏  | 350/490 [02:01<00:43,  3.20it/s]"
          ]
        },
        {
          "output_type": "stream",
          "name": "stdout",
          "text": [
            "dataset/aug/train/images/52_0.png\n",
            "True\n",
            "dataset/aug/train/images/52_1.png\n",
            "True\n",
            "dataset/aug/train/images/52_2.png\n",
            "True\n",
            "dataset/aug/train/images/52_3.png\n",
            "True\n",
            "dataset/aug/train/images/52_4.png\n",
            "True\n",
            "dataset/aug/train/images/101_0.png\n",
            "True\n",
            "dataset/aug/train/images/101_1.png\n",
            "True\n",
            "dataset/aug/train/images/101_2.png\n",
            "True\n",
            "dataset/aug/train/images/101_3.png\n",
            "True\n"
          ]
        },
        {
          "output_type": "stream",
          "name": "stderr",
          "text": [
            "\r 72%|███████▏  | 351/490 [02:01<00:36,  3.78it/s]"
          ]
        },
        {
          "output_type": "stream",
          "name": "stdout",
          "text": [
            "dataset/aug/train/images/101_4.png\n",
            "True\n"
          ]
        },
        {
          "output_type": "stream",
          "name": "stderr",
          "text": [
            "\r 72%|███████▏  | 352/490 [02:01<00:37,  3.68it/s]"
          ]
        },
        {
          "output_type": "stream",
          "name": "stdout",
          "text": [
            "dataset/aug/train/images/611_0.png\n",
            "True\n",
            "dataset/aug/train/images/611_1.png\n",
            "True\n",
            "dataset/aug/train/images/611_2.png\n",
            "True\n",
            "dataset/aug/train/images/611_3.png\n",
            "True\n",
            "dataset/aug/train/images/611_4.png\n",
            "True\n"
          ]
        },
        {
          "output_type": "stream",
          "name": "stderr",
          "text": [
            "\r 72%|███████▏  | 353/490 [02:02<00:38,  3.52it/s]"
          ]
        },
        {
          "output_type": "stream",
          "name": "stdout",
          "text": [
            "dataset/aug/train/images/261_0.png\n",
            "True\n",
            "dataset/aug/train/images/261_1.png\n",
            "True\n",
            "dataset/aug/train/images/261_2.png\n",
            "True\n",
            "dataset/aug/train/images/261_3.png\n",
            "True\n",
            "dataset/aug/train/images/261_4.png\n",
            "True\n"
          ]
        },
        {
          "output_type": "stream",
          "name": "stderr",
          "text": [
            "\r 72%|███████▏  | 354/490 [02:02<00:38,  3.50it/s]"
          ]
        },
        {
          "output_type": "stream",
          "name": "stdout",
          "text": [
            "dataset/aug/train/images/460_0.png\n",
            "True\n",
            "dataset/aug/train/images/460_1.png\n",
            "True\n",
            "dataset/aug/train/images/460_2.png\n",
            "True\n",
            "dataset/aug/train/images/460_3.png\n",
            "True\n",
            "dataset/aug/train/images/460_4.png\n",
            "True\n"
          ]
        },
        {
          "output_type": "stream",
          "name": "stderr",
          "text": [
            "\r 72%|███████▏  | 355/490 [02:02<00:38,  3.51it/s]"
          ]
        },
        {
          "output_type": "stream",
          "name": "stdout",
          "text": [
            "dataset/aug/train/images/254_0.png\n",
            "True\n",
            "dataset/aug/train/images/254_1.png\n",
            "True\n",
            "dataset/aug/train/images/254_2.png\n",
            "True\n",
            "dataset/aug/train/images/254_3.png\n",
            "True\n",
            "dataset/aug/train/images/254_4.png\n",
            "True\n",
            "dataset/aug/train/images/1_0.png\n",
            "True\n",
            "dataset/aug/train/images/1_1.png\n",
            "True\n",
            "dataset/aug/train/images/1_2.png\n",
            "True\n",
            "dataset/aug/train/images/1_3.png\n",
            "True\n",
            "dataset/aug/train/images/1_4.png\n",
            "True\n"
          ]
        },
        {
          "output_type": "stream",
          "name": "stderr",
          "text": [
            " 73%|███████▎  | 357/490 [02:02<00:31,  4.17it/s]"
          ]
        },
        {
          "output_type": "stream",
          "name": "stdout",
          "text": [
            "dataset/aug/train/images/339_0.png\n",
            "True\n",
            "dataset/aug/train/images/339_1.png\n",
            "True\n",
            "dataset/aug/train/images/339_2.png\n",
            "True\n",
            "dataset/aug/train/images/339_3.png\n",
            "True\n",
            "dataset/aug/train/images/339_4.png\n",
            "True\n"
          ]
        },
        {
          "output_type": "stream",
          "name": "stderr",
          "text": [
            "\r 73%|███████▎  | 358/490 [02:03<00:33,  3.91it/s]"
          ]
        },
        {
          "output_type": "stream",
          "name": "stdout",
          "text": [
            "dataset/aug/train/images/401_0.png\n",
            "True\n",
            "dataset/aug/train/images/401_1.png\n",
            "True\n",
            "dataset/aug/train/images/401_2.png\n",
            "True\n",
            "dataset/aug/train/images/401_3.png\n",
            "True\n",
            "dataset/aug/train/images/401_4.png\n",
            "True\n"
          ]
        },
        {
          "output_type": "stream",
          "name": "stderr",
          "text": [
            "\r 73%|███████▎  | 359/490 [02:03<00:34,  3.79it/s]"
          ]
        },
        {
          "output_type": "stream",
          "name": "stdout",
          "text": [
            "dataset/aug/train/images/12_0.png\n",
            "True\n",
            "dataset/aug/train/images/12_1.png\n",
            "True\n",
            "dataset/aug/train/images/12_2.png\n",
            "True\n",
            "dataset/aug/train/images/12_3.png\n",
            "True\n",
            "dataset/aug/train/images/12_4.png\n",
            "True\n"
          ]
        },
        {
          "output_type": "stream",
          "name": "stderr",
          "text": [
            "\r 73%|███████▎  | 360/490 [02:03<00:38,  3.41it/s]"
          ]
        },
        {
          "output_type": "stream",
          "name": "stdout",
          "text": [
            "dataset/aug/train/images/252_0.png\n",
            "True\n",
            "dataset/aug/train/images/252_1.png\n",
            "True\n",
            "dataset/aug/train/images/252_2.png\n",
            "True\n",
            "dataset/aug/train/images/252_3.png\n",
            "True\n",
            "dataset/aug/train/images/252_4.png\n",
            "True\n"
          ]
        },
        {
          "output_type": "stream",
          "name": "stderr",
          "text": [
            "\r 74%|███████▎  | 361/490 [02:04<00:40,  3.15it/s]"
          ]
        },
        {
          "output_type": "stream",
          "name": "stdout",
          "text": [
            "dataset/aug/train/images/198_0.png\n",
            "True\n",
            "dataset/aug/train/images/198_1.png\n",
            "True\n",
            "dataset/aug/train/images/198_2.png\n",
            "True\n",
            "dataset/aug/train/images/198_3.png\n",
            "True\n",
            "dataset/aug/train/images/198_4.png\n",
            "True\n"
          ]
        },
        {
          "output_type": "stream",
          "name": "stderr",
          "text": [
            "\r 74%|███████▍  | 362/490 [02:04<00:39,  3.24it/s]"
          ]
        },
        {
          "output_type": "stream",
          "name": "stdout",
          "text": [
            "dataset/aug/train/images/43_0.png\n",
            "True\n",
            "dataset/aug/train/images/43_1.png\n",
            "True\n",
            "dataset/aug/train/images/43_2.png\n",
            "True\n",
            "dataset/aug/train/images/43_3.png\n",
            "True\n",
            "dataset/aug/train/images/43_4.png\n",
            "True\n"
          ]
        },
        {
          "output_type": "stream",
          "name": "stderr",
          "text": [
            "\r 74%|███████▍  | 363/490 [02:04<00:40,  3.16it/s]"
          ]
        },
        {
          "output_type": "stream",
          "name": "stdout",
          "text": [
            "dataset/aug/train/images/415_0.png\n",
            "True\n",
            "dataset/aug/train/images/415_1.png\n",
            "True\n",
            "dataset/aug/train/images/415_2.png\n",
            "True\n",
            "dataset/aug/train/images/415_3.png\n",
            "True\n",
            "dataset/aug/train/images/415_4.png\n",
            "True\n"
          ]
        },
        {
          "output_type": "stream",
          "name": "stderr",
          "text": [
            "\r 74%|███████▍  | 364/490 [02:05<00:39,  3.18it/s]"
          ]
        },
        {
          "output_type": "stream",
          "name": "stdout",
          "text": [
            "dataset/aug/train/images/206_0.png\n",
            "True\n",
            "dataset/aug/train/images/206_1.png\n",
            "True\n",
            "dataset/aug/train/images/206_2.png\n",
            "True\n",
            "dataset/aug/train/images/206_3.png\n",
            "True\n",
            "dataset/aug/train/images/206_4.png\n",
            "True\n"
          ]
        },
        {
          "output_type": "stream",
          "name": "stderr",
          "text": [
            "\r 74%|███████▍  | 365/490 [02:05<00:39,  3.19it/s]"
          ]
        },
        {
          "output_type": "stream",
          "name": "stdout",
          "text": [
            "dataset/aug/train/images/57_0.png\n",
            "True\n",
            "dataset/aug/train/images/57_1.png\n",
            "True\n",
            "dataset/aug/train/images/57_2.png\n",
            "True\n",
            "dataset/aug/train/images/57_3.png\n",
            "True\n",
            "dataset/aug/train/images/57_4.png\n",
            "True\n"
          ]
        },
        {
          "output_type": "stream",
          "name": "stderr",
          "text": [
            "\r 75%|███████▍  | 366/490 [02:05<00:40,  3.05it/s]"
          ]
        },
        {
          "output_type": "stream",
          "name": "stdout",
          "text": [
            "dataset/aug/train/images/150_0.png\n",
            "True\n",
            "dataset/aug/train/images/150_1.png\n",
            "True\n",
            "dataset/aug/train/images/150_2.png\n",
            "True\n",
            "dataset/aug/train/images/150_3.png\n",
            "True\n",
            "dataset/aug/train/images/150_4.png\n",
            "True\n"
          ]
        },
        {
          "output_type": "stream",
          "name": "stderr",
          "text": [
            "\r 75%|███████▍  | 367/490 [02:06<00:38,  3.20it/s]"
          ]
        },
        {
          "output_type": "stream",
          "name": "stdout",
          "text": [
            "dataset/aug/train/images/521_0.png\n",
            "True\n",
            "dataset/aug/train/images/521_1.png\n",
            "True\n",
            "dataset/aug/train/images/521_2.png\n",
            "True\n",
            "dataset/aug/train/images/521_3.png\n",
            "True\n",
            "dataset/aug/train/images/521_4.png\n",
            "True\n"
          ]
        },
        {
          "output_type": "stream",
          "name": "stderr",
          "text": [
            "\r 75%|███████▌  | 368/490 [02:06<00:39,  3.06it/s]"
          ]
        },
        {
          "output_type": "stream",
          "name": "stdout",
          "text": [
            "dataset/aug/train/images/463_0.png\n",
            "True\n",
            "dataset/aug/train/images/463_1.png\n",
            "True\n",
            "dataset/aug/train/images/463_2.png\n",
            "True\n",
            "dataset/aug/train/images/463_3.png\n",
            "True\n",
            "dataset/aug/train/images/463_4.png\n",
            "True\n"
          ]
        },
        {
          "output_type": "stream",
          "name": "stderr",
          "text": [
            "\r 75%|███████▌  | 369/490 [02:06<00:38,  3.18it/s]"
          ]
        },
        {
          "output_type": "stream",
          "name": "stdout",
          "text": [
            "dataset/aug/train/images/551_0.png\n",
            "True\n",
            "dataset/aug/train/images/551_1.png\n",
            "True\n",
            "dataset/aug/train/images/551_2.png\n",
            "True\n",
            "dataset/aug/train/images/551_3.png\n",
            "True\n",
            "dataset/aug/train/images/551_4.png\n",
            "True\n"
          ]
        },
        {
          "output_type": "stream",
          "name": "stderr",
          "text": [
            "\r 76%|███████▌  | 370/490 [02:07<00:38,  3.09it/s]"
          ]
        },
        {
          "output_type": "stream",
          "name": "stdout",
          "text": [
            "dataset/aug/train/images/500_0.png\n",
            "True\n",
            "dataset/aug/train/images/500_1.png\n",
            "True\n",
            "dataset/aug/train/images/500_2.png\n",
            "True\n",
            "dataset/aug/train/images/500_3.png\n",
            "True\n",
            "dataset/aug/train/images/500_4.png\n",
            "True\n"
          ]
        },
        {
          "output_type": "stream",
          "name": "stderr",
          "text": [
            "\r 76%|███████▌  | 371/490 [02:07<00:37,  3.16it/s]"
          ]
        },
        {
          "output_type": "stream",
          "name": "stdout",
          "text": [
            "dataset/aug/train/images/549_0.png\n",
            "True\n",
            "dataset/aug/train/images/549_1.png\n",
            "True\n",
            "dataset/aug/train/images/549_2.png\n",
            "True\n",
            "dataset/aug/train/images/549_3.png\n",
            "True\n",
            "dataset/aug/train/images/549_4.png\n",
            "True\n"
          ]
        },
        {
          "output_type": "stream",
          "name": "stderr",
          "text": [
            "\r 76%|███████▌  | 372/490 [02:07<00:38,  3.06it/s]"
          ]
        },
        {
          "output_type": "stream",
          "name": "stdout",
          "text": [
            "dataset/aug/train/images/300_0.png\n",
            "True\n",
            "dataset/aug/train/images/300_1.png\n",
            "True\n",
            "dataset/aug/train/images/300_2.png\n",
            "True\n",
            "dataset/aug/train/images/300_3.png\n",
            "True\n",
            "dataset/aug/train/images/300_4.png\n",
            "True\n"
          ]
        },
        {
          "output_type": "stream",
          "name": "stderr",
          "text": [
            "\r 76%|███████▌  | 373/490 [02:08<00:39,  2.99it/s]"
          ]
        },
        {
          "output_type": "stream",
          "name": "stdout",
          "text": [
            "dataset/aug/train/images/335_0.png\n",
            "True\n",
            "dataset/aug/train/images/335_1.png\n",
            "True\n",
            "dataset/aug/train/images/335_2.png\n",
            "True\n",
            "dataset/aug/train/images/335_3.png\n",
            "True\n",
            "dataset/aug/train/images/335_4.png\n",
            "True\n"
          ]
        },
        {
          "output_type": "stream",
          "name": "stderr",
          "text": [
            "\r 76%|███████▋  | 374/490 [02:08<00:37,  3.13it/s]"
          ]
        },
        {
          "output_type": "stream",
          "name": "stdout",
          "text": [
            "dataset/aug/train/images/573_0.png\n",
            "True\n",
            "dataset/aug/train/images/573_1.png\n",
            "True\n",
            "dataset/aug/train/images/573_2.png\n",
            "True\n",
            "dataset/aug/train/images/573_3.png\n",
            "True\n",
            "dataset/aug/train/images/573_4.png\n",
            "True\n"
          ]
        },
        {
          "output_type": "stream",
          "name": "stderr",
          "text": [
            "\r 77%|███████▋  | 375/490 [02:08<00:37,  3.10it/s]"
          ]
        },
        {
          "output_type": "stream",
          "name": "stdout",
          "text": [
            "dataset/aug/train/images/520_0.png\n",
            "True\n",
            "dataset/aug/train/images/520_1.png\n",
            "True\n",
            "dataset/aug/train/images/520_2.png\n",
            "True\n",
            "dataset/aug/train/images/520_3.png\n",
            "True\n",
            "dataset/aug/train/images/520_4.png\n",
            "True\n"
          ]
        },
        {
          "output_type": "stream",
          "name": "stderr",
          "text": [
            "\r 77%|███████▋  | 376/490 [02:09<00:35,  3.24it/s]"
          ]
        },
        {
          "output_type": "stream",
          "name": "stdout",
          "text": [
            "dataset/aug/train/images/219_0.png\n",
            "True\n",
            "dataset/aug/train/images/219_1.png\n",
            "True\n",
            "dataset/aug/train/images/219_2.png\n",
            "True\n",
            "dataset/aug/train/images/219_3.png\n",
            "True\n",
            "dataset/aug/train/images/219_4.png\n",
            "True\n"
          ]
        },
        {
          "output_type": "stream",
          "name": "stderr",
          "text": [
            "\r 77%|███████▋  | 377/490 [02:09<00:42,  2.68it/s]"
          ]
        },
        {
          "output_type": "stream",
          "name": "stdout",
          "text": [
            "dataset/aug/train/images/541_0.png\n",
            "True\n",
            "dataset/aug/train/images/541_1.png\n",
            "True\n",
            "dataset/aug/train/images/541_2.png\n",
            "True\n",
            "dataset/aug/train/images/541_3.png\n",
            "True\n",
            "dataset/aug/train/images/541_4.png\n",
            "True\n"
          ]
        },
        {
          "output_type": "stream",
          "name": "stderr",
          "text": [
            "\r 77%|███████▋  | 378/490 [02:09<00:37,  2.97it/s]"
          ]
        },
        {
          "output_type": "stream",
          "name": "stdout",
          "text": [
            "dataset/aug/train/images/343_0.png\n",
            "True\n",
            "dataset/aug/train/images/343_1.png\n",
            "True\n",
            "dataset/aug/train/images/343_2.png\n",
            "True\n",
            "dataset/aug/train/images/343_3.png\n",
            "True\n",
            "dataset/aug/train/images/343_4.png\n",
            "True\n"
          ]
        },
        {
          "output_type": "stream",
          "name": "stderr",
          "text": [
            "\r 77%|███████▋  | 379/490 [02:10<00:37,  3.00it/s]"
          ]
        },
        {
          "output_type": "stream",
          "name": "stdout",
          "text": [
            "dataset/aug/train/images/604_0.png\n",
            "True\n",
            "dataset/aug/train/images/604_1.png\n",
            "True\n",
            "dataset/aug/train/images/604_2.png\n",
            "True\n",
            "dataset/aug/train/images/604_3.png\n",
            "True\n",
            "dataset/aug/train/images/604_4.png\n",
            "True\n"
          ]
        },
        {
          "output_type": "stream",
          "name": "stderr",
          "text": [
            "\r 78%|███████▊  | 380/490 [02:10<00:34,  3.17it/s]"
          ]
        },
        {
          "output_type": "stream",
          "name": "stdout",
          "text": [
            "dataset/aug/train/images/570_0.png\n",
            "True\n",
            "dataset/aug/train/images/570_1.png\n",
            "True\n",
            "dataset/aug/train/images/570_2.png\n",
            "True\n",
            "dataset/aug/train/images/570_3.png\n",
            "True\n",
            "dataset/aug/train/images/570_4.png\n",
            "True\n"
          ]
        },
        {
          "output_type": "stream",
          "name": "stderr",
          "text": [
            "\r 78%|███████▊  | 381/490 [02:10<00:36,  2.99it/s]"
          ]
        },
        {
          "output_type": "stream",
          "name": "stdout",
          "text": [
            "dataset/aug/train/images/590_0.png\n",
            "True\n",
            "dataset/aug/train/images/590_1.png\n",
            "True\n",
            "dataset/aug/train/images/590_2.png\n",
            "True\n",
            "dataset/aug/train/images/590_3.png\n",
            "True\n",
            "dataset/aug/train/images/590_4.png\n",
            "True\n"
          ]
        },
        {
          "output_type": "stream",
          "name": "stderr",
          "text": [
            "\r 78%|███████▊  | 382/490 [02:11<00:41,  2.61it/s]"
          ]
        },
        {
          "output_type": "stream",
          "name": "stdout",
          "text": [
            "dataset/aug/train/images/408_0.png\n",
            "True\n",
            "dataset/aug/train/images/408_1.png\n",
            "True\n",
            "dataset/aug/train/images/408_2.png\n",
            "True\n",
            "dataset/aug/train/images/408_3.png\n",
            "True\n",
            "dataset/aug/train/images/408_4.png\n",
            "True\n"
          ]
        },
        {
          "output_type": "stream",
          "name": "stderr",
          "text": [
            "\r 78%|███████▊  | 383/490 [02:11<00:37,  2.86it/s]"
          ]
        },
        {
          "output_type": "stream",
          "name": "stdout",
          "text": [
            "dataset/aug/train/images/467_0.png\n",
            "True\n",
            "dataset/aug/train/images/467_1.png\n",
            "True\n",
            "dataset/aug/train/images/467_2.png\n",
            "True\n",
            "dataset/aug/train/images/467_3.png\n",
            "True\n",
            "dataset/aug/train/images/467_4.png\n",
            "True\n"
          ]
        },
        {
          "output_type": "stream",
          "name": "stderr",
          "text": [
            "\r 78%|███████▊  | 384/490 [02:11<00:34,  3.11it/s]"
          ]
        },
        {
          "output_type": "stream",
          "name": "stdout",
          "text": [
            "dataset/aug/train/images/547_0.png\n",
            "True\n",
            "dataset/aug/train/images/547_1.png\n",
            "True\n",
            "dataset/aug/train/images/547_2.png\n",
            "True\n",
            "dataset/aug/train/images/547_3.png\n",
            "True\n",
            "dataset/aug/train/images/547_4.png\n",
            "True\n"
          ]
        },
        {
          "output_type": "stream",
          "name": "stderr",
          "text": [
            "\r 79%|███████▊  | 385/490 [02:12<00:33,  3.15it/s]"
          ]
        },
        {
          "output_type": "stream",
          "name": "stdout",
          "text": [
            "dataset/aug/train/images/466_0.png\n",
            "True\n",
            "dataset/aug/train/images/466_1.png\n",
            "True\n",
            "dataset/aug/train/images/466_2.png\n",
            "True\n",
            "dataset/aug/train/images/466_3.png\n",
            "True\n",
            "dataset/aug/train/images/466_4.png\n",
            "True\n"
          ]
        },
        {
          "output_type": "stream",
          "name": "stderr",
          "text": [
            "\r 79%|███████▉  | 386/490 [02:12<00:40,  2.55it/s]"
          ]
        },
        {
          "output_type": "stream",
          "name": "stdout",
          "text": [
            "dataset/aug/train/images/39_0.png\n",
            "True\n",
            "dataset/aug/train/images/39_1.png\n",
            "True\n",
            "dataset/aug/train/images/39_2.png\n",
            "True\n",
            "dataset/aug/train/images/39_3.png\n",
            "True\n",
            "dataset/aug/train/images/39_4.png\n",
            "True\n"
          ]
        },
        {
          "output_type": "stream",
          "name": "stderr",
          "text": [
            "\r 79%|███████▉  | 387/490 [02:13<00:37,  2.76it/s]"
          ]
        },
        {
          "output_type": "stream",
          "name": "stdout",
          "text": [
            "dataset/aug/train/images/428_0.png\n",
            "True\n",
            "dataset/aug/train/images/428_1.png\n",
            "True\n",
            "dataset/aug/train/images/428_2.png\n",
            "True\n",
            "dataset/aug/train/images/428_3.png\n",
            "True\n",
            "dataset/aug/train/images/428_4.png\n",
            "True\n"
          ]
        },
        {
          "output_type": "stream",
          "name": "stderr",
          "text": [
            "\r 79%|███████▉  | 388/490 [02:13<00:34,  2.92it/s]"
          ]
        },
        {
          "output_type": "stream",
          "name": "stdout",
          "text": [
            "dataset/aug/train/images/506_0.png\n",
            "True\n",
            "dataset/aug/train/images/506_1.png\n",
            "True\n",
            "dataset/aug/train/images/506_2.png\n",
            "True\n",
            "dataset/aug/train/images/506_3.png\n",
            "True\n",
            "dataset/aug/train/images/506_4.png\n",
            "True\n"
          ]
        },
        {
          "output_type": "stream",
          "name": "stderr",
          "text": [
            "\r 79%|███████▉  | 389/490 [02:13<00:35,  2.84it/s]"
          ]
        },
        {
          "output_type": "stream",
          "name": "stdout",
          "text": [
            "dataset/aug/train/images/591_0.png\n",
            "True\n",
            "dataset/aug/train/images/591_1.png\n",
            "True\n",
            "dataset/aug/train/images/591_2.png\n",
            "True\n",
            "dataset/aug/train/images/591_3.png\n",
            "True\n",
            "dataset/aug/train/images/591_4.png\n",
            "True\n"
          ]
        },
        {
          "output_type": "stream",
          "name": "stderr",
          "text": [
            "\r 80%|███████▉  | 390/490 [02:13<00:34,  2.94it/s]"
          ]
        },
        {
          "output_type": "stream",
          "name": "stdout",
          "text": [
            "dataset/aug/train/images/497_0.png\n",
            "True\n",
            "dataset/aug/train/images/497_1.png\n",
            "True\n",
            "dataset/aug/train/images/497_2.png\n",
            "True\n",
            "dataset/aug/train/images/497_3.png\n",
            "True\n",
            "dataset/aug/train/images/497_4.png\n",
            "True\n"
          ]
        },
        {
          "output_type": "stream",
          "name": "stderr",
          "text": [
            "\r 80%|███████▉  | 391/490 [02:14<00:33,  2.92it/s]"
          ]
        },
        {
          "output_type": "stream",
          "name": "stdout",
          "text": [
            "dataset/aug/train/images/7_0.png\n",
            "True\n",
            "dataset/aug/train/images/7_1.png\n",
            "True\n",
            "dataset/aug/train/images/7_2.png\n",
            "True\n",
            "dataset/aug/train/images/7_3.png\n",
            "True\n",
            "dataset/aug/train/images/7_4.png\n",
            "True\n"
          ]
        },
        {
          "output_type": "stream",
          "name": "stderr",
          "text": [
            "\r 80%|████████  | 392/490 [02:14<00:32,  3.05it/s]"
          ]
        },
        {
          "output_type": "stream",
          "name": "stdout",
          "text": [
            "dataset/aug/train/images/137_0.png\n",
            "True\n",
            "dataset/aug/train/images/137_1.png\n",
            "True\n",
            "dataset/aug/train/images/137_2.png\n",
            "True\n",
            "dataset/aug/train/images/137_3.png\n",
            "True\n",
            "dataset/aug/train/images/137_4.png\n",
            "True\n"
          ]
        },
        {
          "output_type": "stream",
          "name": "stderr",
          "text": [
            "\r 80%|████████  | 393/490 [02:15<00:36,  2.64it/s]"
          ]
        },
        {
          "output_type": "stream",
          "name": "stdout",
          "text": [
            "dataset/aug/train/images/155_0.png\n",
            "True\n",
            "dataset/aug/train/images/155_1.png\n",
            "True\n",
            "dataset/aug/train/images/155_2.png\n",
            "True\n",
            "dataset/aug/train/images/155_3.png\n",
            "True\n",
            "dataset/aug/train/images/155_4.png\n",
            "True\n"
          ]
        },
        {
          "output_type": "stream",
          "name": "stderr",
          "text": [
            "\r 80%|████████  | 394/490 [02:15<00:34,  2.78it/s]"
          ]
        },
        {
          "output_type": "stream",
          "name": "stdout",
          "text": [
            "dataset/aug/train/images/387_0.png\n",
            "True\n",
            "dataset/aug/train/images/387_1.png\n",
            "True\n",
            "dataset/aug/train/images/387_2.png\n",
            "True\n",
            "dataset/aug/train/images/387_3.png\n",
            "True\n",
            "dataset/aug/train/images/387_4.png\n",
            "True\n"
          ]
        },
        {
          "output_type": "stream",
          "name": "stderr",
          "text": [
            "\r 81%|████████  | 395/490 [02:15<00:33,  2.85it/s]"
          ]
        },
        {
          "output_type": "stream",
          "name": "stdout",
          "text": [
            "dataset/aug/train/images/529_0.png\n",
            "True\n",
            "dataset/aug/train/images/529_1.png\n",
            "True\n",
            "dataset/aug/train/images/529_2.png\n",
            "True\n",
            "dataset/aug/train/images/529_3.png\n",
            "True\n",
            "dataset/aug/train/images/529_4.png\n",
            "True\n"
          ]
        },
        {
          "output_type": "stream",
          "name": "stderr",
          "text": [
            "\r 81%|████████  | 396/490 [02:16<00:31,  2.98it/s]"
          ]
        },
        {
          "output_type": "stream",
          "name": "stdout",
          "text": [
            "dataset/aug/train/images/224_0.png\n",
            "True\n",
            "dataset/aug/train/images/224_1.png\n",
            "True\n",
            "dataset/aug/train/images/224_2.png\n",
            "True\n",
            "dataset/aug/train/images/224_3.png\n",
            "True\n",
            "dataset/aug/train/images/224_4.png\n",
            "True\n"
          ]
        },
        {
          "output_type": "stream",
          "name": "stderr",
          "text": [
            "\r 81%|████████  | 397/490 [02:16<00:29,  3.18it/s]"
          ]
        },
        {
          "output_type": "stream",
          "name": "stdout",
          "text": [
            "dataset/aug/train/images/607_0.png\n",
            "True\n",
            "dataset/aug/train/images/607_1.png\n",
            "True\n",
            "dataset/aug/train/images/607_2.png\n",
            "True\n",
            "dataset/aug/train/images/607_3.png\n",
            "True\n",
            "dataset/aug/train/images/607_4.png\n",
            "True\n"
          ]
        },
        {
          "output_type": "stream",
          "name": "stderr",
          "text": [
            "\r 81%|████████  | 398/490 [02:16<00:29,  3.14it/s]"
          ]
        },
        {
          "output_type": "stream",
          "name": "stdout",
          "text": [
            "dataset/aug/train/images/508_0.png\n",
            "True\n",
            "dataset/aug/train/images/508_1.png\n",
            "True\n",
            "dataset/aug/train/images/508_2.png\n",
            "True\n",
            "dataset/aug/train/images/508_3.png\n",
            "True\n",
            "dataset/aug/train/images/508_4.png\n",
            "True\n"
          ]
        },
        {
          "output_type": "stream",
          "name": "stderr",
          "text": [
            "\r 81%|████████▏ | 399/490 [02:16<00:28,  3.19it/s]"
          ]
        },
        {
          "output_type": "stream",
          "name": "stdout",
          "text": [
            "dataset/aug/train/images/147_0.png\n",
            "True\n",
            "dataset/aug/train/images/147_1.png\n",
            "True\n",
            "dataset/aug/train/images/147_2.png\n",
            "True\n",
            "dataset/aug/train/images/147_3.png\n",
            "True\n",
            "dataset/aug/train/images/147_4.png\n",
            "True\n"
          ]
        },
        {
          "output_type": "stream",
          "name": "stderr",
          "text": [
            "\r 82%|████████▏ | 400/490 [02:17<00:29,  3.06it/s]"
          ]
        },
        {
          "output_type": "stream",
          "name": "stdout",
          "text": [
            "dataset/aug/train/images/144_0.png\n",
            "True\n",
            "dataset/aug/train/images/144_1.png\n",
            "True\n",
            "dataset/aug/train/images/144_2.png\n",
            "True\n",
            "dataset/aug/train/images/144_3.png\n",
            "True\n",
            "dataset/aug/train/images/144_4.png\n",
            "True\n"
          ]
        },
        {
          "output_type": "stream",
          "name": "stderr",
          "text": [
            "\r 82%|████████▏ | 401/490 [02:17<00:29,  3.04it/s]"
          ]
        },
        {
          "output_type": "stream",
          "name": "stdout",
          "text": [
            "dataset/aug/train/images/75_0.png\n",
            "True\n",
            "dataset/aug/train/images/75_1.png\n",
            "True\n",
            "dataset/aug/train/images/75_2.png\n",
            "True\n",
            "dataset/aug/train/images/75_3.png\n",
            "True\n",
            "dataset/aug/train/images/75_4.png\n",
            "True\n"
          ]
        },
        {
          "output_type": "stream",
          "name": "stderr",
          "text": [
            "\r 82%|████████▏ | 402/490 [02:17<00:28,  3.08it/s]"
          ]
        },
        {
          "output_type": "stream",
          "name": "stdout",
          "text": [
            "dataset/aug/train/images/184_0.png\n",
            "True\n",
            "dataset/aug/train/images/184_1.png\n",
            "True\n",
            "dataset/aug/train/images/184_2.png\n",
            "True\n",
            "dataset/aug/train/images/184_3.png\n",
            "True\n",
            "dataset/aug/train/images/184_4.png\n",
            "True\n"
          ]
        },
        {
          "output_type": "stream",
          "name": "stderr",
          "text": [
            "\r 82%|████████▏ | 403/490 [02:18<00:27,  3.14it/s]"
          ]
        },
        {
          "output_type": "stream",
          "name": "stdout",
          "text": [
            "dataset/aug/train/images/133_0.png\n",
            "True\n",
            "dataset/aug/train/images/133_1.png\n",
            "True\n",
            "dataset/aug/train/images/133_2.png\n",
            "True\n",
            "dataset/aug/train/images/133_3.png\n",
            "True\n",
            "dataset/aug/train/images/133_4.png\n",
            "True\n"
          ]
        },
        {
          "output_type": "stream",
          "name": "stderr",
          "text": [
            "\r 82%|████████▏ | 404/490 [02:18<00:27,  3.16it/s]"
          ]
        },
        {
          "output_type": "stream",
          "name": "stdout",
          "text": [
            "dataset/aug/train/images/527_0.png\n",
            "True\n",
            "dataset/aug/train/images/527_1.png\n",
            "True\n",
            "dataset/aug/train/images/527_2.png\n",
            "True\n",
            "dataset/aug/train/images/527_3.png\n",
            "True\n",
            "dataset/aug/train/images/527_4.png\n",
            "True\n"
          ]
        },
        {
          "output_type": "stream",
          "name": "stderr",
          "text": [
            "\r 83%|████████▎ | 405/490 [02:19<00:32,  2.65it/s]"
          ]
        },
        {
          "output_type": "stream",
          "name": "stdout",
          "text": [
            "dataset/aug/train/images/394_0.png\n",
            "True\n",
            "dataset/aug/train/images/394_1.png\n",
            "True\n",
            "dataset/aug/train/images/394_2.png\n",
            "True\n",
            "dataset/aug/train/images/394_3.png\n",
            "True\n",
            "dataset/aug/train/images/394_4.png\n",
            "True\n"
          ]
        },
        {
          "output_type": "stream",
          "name": "stderr",
          "text": [
            "\r 83%|████████▎ | 406/490 [02:19<00:31,  2.63it/s]"
          ]
        },
        {
          "output_type": "stream",
          "name": "stdout",
          "text": [
            "dataset/aug/train/images/292_0.png\n",
            "True\n",
            "dataset/aug/train/images/292_1.png\n",
            "True\n",
            "dataset/aug/train/images/292_2.png\n",
            "True\n",
            "dataset/aug/train/images/292_3.png\n",
            "True\n",
            "dataset/aug/train/images/292_4.png\n",
            "True\n"
          ]
        },
        {
          "output_type": "stream",
          "name": "stderr",
          "text": [
            "\r 83%|████████▎ | 407/490 [02:19<00:29,  2.81it/s]"
          ]
        },
        {
          "output_type": "stream",
          "name": "stdout",
          "text": [
            "dataset/aug/train/images/476_0.png\n",
            "True\n",
            "dataset/aug/train/images/476_1.png\n",
            "True\n",
            "dataset/aug/train/images/476_2.png\n",
            "True\n",
            "dataset/aug/train/images/476_3.png\n",
            "True\n",
            "dataset/aug/train/images/476_4.png\n",
            "True\n"
          ]
        },
        {
          "output_type": "stream",
          "name": "stderr",
          "text": [
            "\r 83%|████████▎ | 408/490 [02:20<00:33,  2.47it/s]"
          ]
        },
        {
          "output_type": "stream",
          "name": "stdout",
          "text": [
            "dataset/aug/train/images/123_0.png\n",
            "True\n",
            "dataset/aug/train/images/123_1.png\n",
            "True\n",
            "dataset/aug/train/images/123_2.png\n",
            "True\n",
            "dataset/aug/train/images/123_3.png\n",
            "True\n",
            "dataset/aug/train/images/123_4.png\n",
            "True\n"
          ]
        },
        {
          "output_type": "stream",
          "name": "stderr",
          "text": [
            "\r 83%|████████▎ | 409/490 [02:20<00:38,  2.08it/s]"
          ]
        },
        {
          "output_type": "stream",
          "name": "stdout",
          "text": [
            "dataset/aug/train/images/342_0.png\n",
            "True\n",
            "dataset/aug/train/images/342_1.png\n",
            "True\n",
            "dataset/aug/train/images/342_2.png\n",
            "True\n",
            "dataset/aug/train/images/342_3.png\n",
            "True\n",
            "dataset/aug/train/images/342_4.png\n",
            "True\n"
          ]
        },
        {
          "output_type": "stream",
          "name": "stderr",
          "text": [
            "\r 84%|████████▎ | 410/490 [02:21<00:34,  2.30it/s]"
          ]
        },
        {
          "output_type": "stream",
          "name": "stdout",
          "text": [
            "dataset/aug/train/images/588_0.png\n",
            "True\n",
            "dataset/aug/train/images/588_1.png\n",
            "True\n",
            "dataset/aug/train/images/588_2.png\n",
            "True\n",
            "dataset/aug/train/images/588_3.png\n",
            "True\n",
            "dataset/aug/train/images/588_4.png\n",
            "True\n"
          ]
        },
        {
          "output_type": "stream",
          "name": "stderr",
          "text": [
            "\r 84%|████████▍ | 411/490 [02:21<00:31,  2.48it/s]"
          ]
        },
        {
          "output_type": "stream",
          "name": "stdout",
          "text": [
            "dataset/aug/train/images/34_0.png\n",
            "True\n",
            "dataset/aug/train/images/34_1.png\n",
            "True\n",
            "dataset/aug/train/images/34_2.png\n",
            "True\n",
            "dataset/aug/train/images/34_3.png\n",
            "True\n",
            "dataset/aug/train/images/34_4.png\n",
            "True\n"
          ]
        },
        {
          "output_type": "stream",
          "name": "stderr",
          "text": [
            "\r 84%|████████▍ | 412/490 [02:21<00:29,  2.60it/s]"
          ]
        },
        {
          "output_type": "stream",
          "name": "stdout",
          "text": [
            "dataset/aug/train/images/479_0.png\n",
            "True\n",
            "dataset/aug/train/images/479_1.png\n",
            "True\n",
            "dataset/aug/train/images/479_2.png\n",
            "True\n",
            "dataset/aug/train/images/479_3.png\n",
            "True\n",
            "dataset/aug/train/images/479_4.png\n",
            "True\n"
          ]
        },
        {
          "output_type": "stream",
          "name": "stderr",
          "text": [
            "\r 84%|████████▍ | 413/490 [02:22<00:27,  2.76it/s]"
          ]
        },
        {
          "output_type": "stream",
          "name": "stdout",
          "text": [
            "dataset/aug/train/images/188_0.png\n",
            "True\n",
            "dataset/aug/train/images/188_1.png\n",
            "True\n",
            "dataset/aug/train/images/188_2.png\n",
            "True\n",
            "dataset/aug/train/images/188_3.png\n",
            "True\n",
            "dataset/aug/train/images/188_4.png\n",
            "True\n"
          ]
        },
        {
          "output_type": "stream",
          "name": "stderr",
          "text": [
            "\r 84%|████████▍ | 414/490 [02:22<00:26,  2.82it/s]"
          ]
        },
        {
          "output_type": "stream",
          "name": "stdout",
          "text": [
            "dataset/aug/train/images/396_0.png\n",
            "True\n",
            "dataset/aug/train/images/396_1.png\n",
            "True\n",
            "dataset/aug/train/images/396_2.png\n",
            "True\n",
            "dataset/aug/train/images/396_3.png\n",
            "True\n",
            "dataset/aug/train/images/396_4.png\n",
            "True\n"
          ]
        },
        {
          "output_type": "stream",
          "name": "stderr",
          "text": [
            "\r 85%|████████▍ | 415/490 [02:22<00:25,  2.97it/s]"
          ]
        },
        {
          "output_type": "stream",
          "name": "stdout",
          "text": [
            "dataset/aug/train/images/69_0.png\n",
            "True\n",
            "dataset/aug/train/images/69_1.png\n",
            "True\n",
            "dataset/aug/train/images/69_2.png\n",
            "True\n",
            "dataset/aug/train/images/69_3.png\n",
            "True\n",
            "dataset/aug/train/images/69_4.png\n",
            "True\n"
          ]
        },
        {
          "output_type": "stream",
          "name": "stderr",
          "text": [
            "\r 85%|████████▍ | 416/490 [02:23<00:23,  3.18it/s]"
          ]
        },
        {
          "output_type": "stream",
          "name": "stdout",
          "text": [
            "dataset/aug/train/images/220_0.png\n",
            "True\n",
            "dataset/aug/train/images/220_1.png\n",
            "True\n",
            "dataset/aug/train/images/220_2.png\n",
            "True\n",
            "dataset/aug/train/images/220_3.png\n",
            "True\n",
            "dataset/aug/train/images/220_4.png\n",
            "True\n",
            "dataset/aug/train/images/103_0.png\n",
            "True\n",
            "dataset/aug/train/images/103_1.png\n",
            "True\n",
            "dataset/aug/train/images/103_2.png\n",
            "True\n",
            "dataset/aug/train/images/103_3.png\n",
            "True\n",
            "dataset/aug/train/images/103_4.png\n"
          ]
        },
        {
          "output_type": "stream",
          "name": "stderr",
          "text": [
            "\r 85%|████████▌ | 417/490 [02:23<00:18,  3.85it/s]"
          ]
        },
        {
          "output_type": "stream",
          "name": "stdout",
          "text": [
            "True\n",
            "dataset/aug/train/images/393_0.png\n",
            "True\n",
            "dataset/aug/train/images/393_1.png\n",
            "True\n",
            "dataset/aug/train/images/393_2.png\n",
            "True\n",
            "dataset/aug/train/images/393_3.png\n",
            "True\n",
            "dataset/aug/train/images/393_4.png\n",
            "True\n"
          ]
        },
        {
          "output_type": "stream",
          "name": "stderr",
          "text": [
            " 86%|████████▌ | 419/490 [02:24<00:22,  3.13it/s]"
          ]
        },
        {
          "output_type": "stream",
          "name": "stdout",
          "text": [
            "dataset/aug/train/images/468_0.png\n",
            "True\n",
            "dataset/aug/train/images/468_1.png\n",
            "True\n",
            "dataset/aug/train/images/468_2.png\n",
            "True\n",
            "dataset/aug/train/images/468_3.png\n",
            "True\n",
            "dataset/aug/train/images/468_4.png\n",
            "True\n"
          ]
        },
        {
          "output_type": "stream",
          "name": "stderr",
          "text": [
            "\r 86%|████████▌ | 420/490 [02:24<00:28,  2.44it/s]"
          ]
        },
        {
          "output_type": "stream",
          "name": "stdout",
          "text": [
            "dataset/aug/train/images/268_0.png\n",
            "True\n",
            "dataset/aug/train/images/268_1.png\n",
            "True\n",
            "dataset/aug/train/images/268_2.png\n",
            "True\n",
            "dataset/aug/train/images/268_3.png\n",
            "True\n",
            "dataset/aug/train/images/268_4.png\n",
            "True\n"
          ]
        },
        {
          "output_type": "stream",
          "name": "stderr",
          "text": [
            "\r 86%|████████▌ | 421/490 [02:25<00:26,  2.64it/s]"
          ]
        },
        {
          "output_type": "stream",
          "name": "stdout",
          "text": [
            "dataset/aug/train/images/21_0.png\n",
            "True\n",
            "dataset/aug/train/images/21_1.png\n",
            "True\n",
            "dataset/aug/train/images/21_2.png\n",
            "True\n",
            "dataset/aug/train/images/21_3.png\n",
            "True\n",
            "dataset/aug/train/images/21_4.png\n",
            "True\n"
          ]
        },
        {
          "output_type": "stream",
          "name": "stderr",
          "text": [
            "\r 86%|████████▌ | 422/490 [02:25<00:24,  2.82it/s]"
          ]
        },
        {
          "output_type": "stream",
          "name": "stdout",
          "text": [
            "dataset/aug/train/images/410_0.png\n",
            "True\n",
            "dataset/aug/train/images/410_1.png\n",
            "True\n",
            "dataset/aug/train/images/410_2.png\n",
            "True\n",
            "dataset/aug/train/images/410_3.png\n",
            "True\n",
            "dataset/aug/train/images/410_4.png\n",
            "True\n"
          ]
        },
        {
          "output_type": "stream",
          "name": "stderr",
          "text": [
            "\r 86%|████████▋ | 423/490 [02:25<00:24,  2.75it/s]"
          ]
        },
        {
          "output_type": "stream",
          "name": "stdout",
          "text": [
            "dataset/aug/train/images/119_0.png\n",
            "True\n",
            "dataset/aug/train/images/119_1.png\n",
            "True\n",
            "dataset/aug/train/images/119_2.png\n",
            "True\n",
            "dataset/aug/train/images/119_3.png\n",
            "True\n",
            "dataset/aug/train/images/119_4.png\n",
            "True\n"
          ]
        },
        {
          "output_type": "stream",
          "name": "stderr",
          "text": [
            "\r 87%|████████▋ | 424/490 [02:26<00:26,  2.46it/s]"
          ]
        },
        {
          "output_type": "stream",
          "name": "stdout",
          "text": [
            "dataset/aug/train/images/174_0.png\n",
            "True\n",
            "dataset/aug/train/images/174_1.png\n",
            "True\n",
            "dataset/aug/train/images/174_2.png\n",
            "True\n",
            "dataset/aug/train/images/174_3.png\n",
            "True\n",
            "dataset/aug/train/images/174_4.png\n",
            "True\n"
          ]
        },
        {
          "output_type": "stream",
          "name": "stderr",
          "text": [
            "\r 87%|████████▋ | 425/490 [02:26<00:26,  2.41it/s]"
          ]
        },
        {
          "output_type": "stream",
          "name": "stdout",
          "text": [
            "dataset/aug/train/images/564_0.png\n",
            "True\n",
            "dataset/aug/train/images/564_1.png\n",
            "True\n",
            "dataset/aug/train/images/564_2.png\n",
            "True\n",
            "dataset/aug/train/images/564_3.png\n",
            "True\n",
            "dataset/aug/train/images/564_4.png\n",
            "True\n"
          ]
        },
        {
          "output_type": "stream",
          "name": "stderr",
          "text": [
            "\r 87%|████████▋ | 426/490 [02:26<00:23,  2.75it/s]"
          ]
        },
        {
          "output_type": "stream",
          "name": "stdout",
          "text": [
            "dataset/aug/train/images/248_0.png\n",
            "True\n",
            "dataset/aug/train/images/248_1.png\n",
            "True\n",
            "dataset/aug/train/images/248_2.png\n",
            "True\n",
            "dataset/aug/train/images/248_3.png\n",
            "True\n",
            "dataset/aug/train/images/248_4.png\n",
            "True\n"
          ]
        },
        {
          "output_type": "stream",
          "name": "stderr",
          "text": [
            "\r 87%|████████▋ | 427/490 [02:27<00:20,  3.02it/s]"
          ]
        },
        {
          "output_type": "stream",
          "name": "stdout",
          "text": [
            "dataset/aug/train/images/94_0.png\n",
            "True\n",
            "dataset/aug/train/images/94_1.png\n",
            "True\n",
            "dataset/aug/train/images/94_2.png\n",
            "True\n",
            "dataset/aug/train/images/94_3.png\n",
            "True\n",
            "dataset/aug/train/images/94_4.png\n",
            "True\n"
          ]
        },
        {
          "output_type": "stream",
          "name": "stderr",
          "text": [
            "\r 87%|████████▋ | 428/490 [02:27<00:20,  3.03it/s]"
          ]
        },
        {
          "output_type": "stream",
          "name": "stdout",
          "text": [
            "dataset/aug/train/images/382_0.png\n",
            "True\n",
            "dataset/aug/train/images/382_1.png\n",
            "True\n",
            "dataset/aug/train/images/382_2.png\n",
            "True\n",
            "dataset/aug/train/images/382_3.png\n",
            "True\n",
            "dataset/aug/train/images/382_4.png\n",
            "True\n"
          ]
        },
        {
          "output_type": "stream",
          "name": "stderr",
          "text": [
            "\r 88%|████████▊ | 429/490 [02:27<00:20,  2.96it/s]"
          ]
        },
        {
          "output_type": "stream",
          "name": "stdout",
          "text": [
            "dataset/aug/train/images/357_0.png\n",
            "True\n",
            "dataset/aug/train/images/357_1.png\n",
            "True\n",
            "dataset/aug/train/images/357_2.png\n",
            "True\n",
            "dataset/aug/train/images/357_3.png\n",
            "True\n",
            "dataset/aug/train/images/357_4.png\n",
            "True\n"
          ]
        },
        {
          "output_type": "stream",
          "name": "stderr",
          "text": [
            "\r 88%|████████▊ | 430/490 [02:28<00:19,  3.03it/s]"
          ]
        },
        {
          "output_type": "stream",
          "name": "stdout",
          "text": [
            "dataset/aug/train/images/26_0.png\n",
            "True\n",
            "dataset/aug/train/images/26_1.png\n",
            "True\n",
            "dataset/aug/train/images/26_2.png\n",
            "True\n",
            "dataset/aug/train/images/26_3.png\n",
            "True\n",
            "dataset/aug/train/images/26_4.png\n",
            "True\n"
          ]
        },
        {
          "output_type": "stream",
          "name": "stderr",
          "text": [
            "\r 88%|████████▊ | 431/490 [02:28<00:18,  3.21it/s]"
          ]
        },
        {
          "output_type": "stream",
          "name": "stdout",
          "text": [
            "dataset/aug/train/images/279_0.png\n",
            "True\n",
            "dataset/aug/train/images/279_1.png\n",
            "True\n",
            "dataset/aug/train/images/279_2.png\n",
            "True\n",
            "dataset/aug/train/images/279_3.png\n",
            "True\n",
            "dataset/aug/train/images/279_4.png\n",
            "True\n"
          ]
        },
        {
          "output_type": "stream",
          "name": "stderr",
          "text": [
            "\r 88%|████████▊ | 432/490 [02:28<00:21,  2.69it/s]"
          ]
        },
        {
          "output_type": "stream",
          "name": "stdout",
          "text": [
            "dataset/aug/train/images/329_0.png\n",
            "True\n",
            "dataset/aug/train/images/329_1.png\n",
            "True\n",
            "dataset/aug/train/images/329_2.png\n",
            "True\n",
            "dataset/aug/train/images/329_3.png\n",
            "True\n",
            "dataset/aug/train/images/329_4.png\n",
            "True\n"
          ]
        },
        {
          "output_type": "stream",
          "name": "stderr",
          "text": [
            "\r 88%|████████▊ | 433/490 [02:29<00:19,  2.87it/s]"
          ]
        },
        {
          "output_type": "stream",
          "name": "stdout",
          "text": [
            "dataset/aug/train/images/23_0.png\n",
            "True\n",
            "dataset/aug/train/images/23_1.png\n",
            "True\n",
            "dataset/aug/train/images/23_2.png\n",
            "True\n",
            "dataset/aug/train/images/23_3.png\n",
            "True\n",
            "dataset/aug/train/images/23_4.png\n",
            "True\n"
          ]
        },
        {
          "output_type": "stream",
          "name": "stderr",
          "text": [
            "\r 89%|████████▊ | 434/490 [02:29<00:19,  2.82it/s]"
          ]
        },
        {
          "output_type": "stream",
          "name": "stdout",
          "text": [
            "dataset/aug/train/images/328_0.png\n",
            "True\n",
            "dataset/aug/train/images/328_1.png\n",
            "True\n",
            "dataset/aug/train/images/328_2.png\n",
            "True\n",
            "dataset/aug/train/images/328_3.png\n",
            "True\n",
            "dataset/aug/train/images/328_4.png\n",
            "True\n"
          ]
        },
        {
          "output_type": "stream",
          "name": "stderr",
          "text": [
            "\r 89%|████████▉ | 435/490 [02:29<00:18,  2.95it/s]"
          ]
        },
        {
          "output_type": "stream",
          "name": "stdout",
          "text": [
            "dataset/aug/train/images/461_0.png\n",
            "True\n",
            "dataset/aug/train/images/461_1.png\n",
            "True\n",
            "dataset/aug/train/images/461_2.png\n",
            "True\n",
            "dataset/aug/train/images/461_3.png\n",
            "True\n",
            "dataset/aug/train/images/461_4.png\n",
            "True\n"
          ]
        },
        {
          "output_type": "stream",
          "name": "stderr",
          "text": [
            "\r 89%|████████▉ | 436/490 [02:30<00:17,  3.02it/s]"
          ]
        },
        {
          "output_type": "stream",
          "name": "stdout",
          "text": [
            "dataset/aug/train/images/353_0.png\n",
            "True\n",
            "dataset/aug/train/images/353_1.png\n",
            "True\n",
            "dataset/aug/train/images/353_2.png\n",
            "True\n",
            "dataset/aug/train/images/353_3.png\n",
            "True\n",
            "dataset/aug/train/images/353_4.png\n",
            "True\n"
          ]
        },
        {
          "output_type": "stream",
          "name": "stderr",
          "text": [
            "\r 89%|████████▉ | 437/490 [02:30<00:17,  3.10it/s]"
          ]
        },
        {
          "output_type": "stream",
          "name": "stdout",
          "text": [
            "dataset/aug/train/images/22_0.png\n",
            "True\n",
            "dataset/aug/train/images/22_1.png\n",
            "True\n",
            "dataset/aug/train/images/22_2.png\n",
            "True\n",
            "dataset/aug/train/images/22_3.png\n",
            "True\n",
            "dataset/aug/train/images/22_4.png\n",
            "True\n"
          ]
        },
        {
          "output_type": "stream",
          "name": "stderr",
          "text": [
            "\r 89%|████████▉ | 438/490 [02:30<00:16,  3.13it/s]"
          ]
        },
        {
          "output_type": "stream",
          "name": "stdout",
          "text": [
            "dataset/aug/train/images/422_0.png\n",
            "True\n",
            "dataset/aug/train/images/422_1.png\n",
            "True\n",
            "dataset/aug/train/images/422_2.png\n",
            "True\n",
            "dataset/aug/train/images/422_3.png\n",
            "True\n",
            "dataset/aug/train/images/422_4.png\n",
            "True\n"
          ]
        },
        {
          "output_type": "stream",
          "name": "stderr",
          "text": [
            "\r 90%|████████▉ | 439/490 [02:31<00:15,  3.21it/s]"
          ]
        },
        {
          "output_type": "stream",
          "name": "stdout",
          "text": [
            "dataset/aug/train/images/385_0.png\n",
            "True\n",
            "dataset/aug/train/images/385_1.png\n",
            "True\n",
            "dataset/aug/train/images/385_2.png\n",
            "True\n",
            "dataset/aug/train/images/385_3.png\n",
            "True\n",
            "dataset/aug/train/images/385_4.png\n",
            "True\n"
          ]
        },
        {
          "output_type": "stream",
          "name": "stderr",
          "text": [
            "\r 90%|████████▉ | 440/490 [02:31<00:15,  3.21it/s]"
          ]
        },
        {
          "output_type": "stream",
          "name": "stdout",
          "text": [
            "dataset/aug/train/images/77_0.png\n",
            "True\n",
            "dataset/aug/train/images/77_1.png\n",
            "True\n",
            "dataset/aug/train/images/77_2.png\n",
            "True\n",
            "dataset/aug/train/images/77_3.png\n",
            "True\n",
            "dataset/aug/train/images/77_4.png\n",
            "True\n"
          ]
        },
        {
          "output_type": "stream",
          "name": "stderr",
          "text": [
            "\r 90%|█████████ | 441/490 [02:31<00:14,  3.33it/s]"
          ]
        },
        {
          "output_type": "stream",
          "name": "stdout",
          "text": [
            "dataset/aug/train/images/215_0.png\n",
            "True\n",
            "dataset/aug/train/images/215_1.png\n",
            "True\n",
            "dataset/aug/train/images/215_2.png\n",
            "True\n",
            "dataset/aug/train/images/215_3.png\n",
            "True\n",
            "dataset/aug/train/images/215_4.png\n",
            "True\n"
          ]
        },
        {
          "output_type": "stream",
          "name": "stderr",
          "text": [
            "\r 90%|█████████ | 442/490 [02:32<00:14,  3.30it/s]"
          ]
        },
        {
          "output_type": "stream",
          "name": "stdout",
          "text": [
            "dataset/aug/train/images/446_0.png\n",
            "True\n",
            "dataset/aug/train/images/446_1.png\n",
            "True\n",
            "dataset/aug/train/images/446_2.png\n",
            "True\n",
            "dataset/aug/train/images/446_3.png\n",
            "True\n",
            "dataset/aug/train/images/446_4.png\n",
            "True\n"
          ]
        },
        {
          "output_type": "stream",
          "name": "stderr",
          "text": [
            "\r 90%|█████████ | 443/490 [02:32<00:13,  3.39it/s]"
          ]
        },
        {
          "output_type": "stream",
          "name": "stdout",
          "text": [
            "dataset/aug/train/images/443_0.png\n",
            "True\n",
            "dataset/aug/train/images/443_1.png\n",
            "True\n",
            "dataset/aug/train/images/443_2.png\n",
            "True\n",
            "dataset/aug/train/images/443_3.png\n",
            "True\n",
            "dataset/aug/train/images/443_4.png\n",
            "True\n"
          ]
        },
        {
          "output_type": "stream",
          "name": "stderr",
          "text": [
            "\r 91%|█████████ | 444/490 [02:32<00:13,  3.30it/s]"
          ]
        },
        {
          "output_type": "stream",
          "name": "stdout",
          "text": [
            "dataset/aug/train/images/571_0.png\n",
            "True\n",
            "dataset/aug/train/images/571_1.png\n",
            "True\n",
            "dataset/aug/train/images/571_2.png\n",
            "True\n",
            "dataset/aug/train/images/571_3.png\n",
            "True\n",
            "dataset/aug/train/images/571_4.png\n",
            "True\n"
          ]
        },
        {
          "output_type": "stream",
          "name": "stderr",
          "text": [
            "\r 91%|█████████ | 445/490 [02:32<00:13,  3.40it/s]"
          ]
        },
        {
          "output_type": "stream",
          "name": "stdout",
          "text": [
            "dataset/aug/train/images/166_0.png\n",
            "True\n",
            "dataset/aug/train/images/166_1.png\n",
            "True\n",
            "dataset/aug/train/images/166_2.png\n",
            "True\n",
            "dataset/aug/train/images/166_3.png\n",
            "True\n",
            "dataset/aug/train/images/166_4.png\n",
            "True\n"
          ]
        },
        {
          "output_type": "stream",
          "name": "stderr",
          "text": [
            "\r 91%|█████████ | 446/490 [02:33<00:15,  2.82it/s]"
          ]
        },
        {
          "output_type": "stream",
          "name": "stdout",
          "text": [
            "dataset/aug/train/images/316_0.png\n",
            "True\n",
            "dataset/aug/train/images/316_1.png\n",
            "True\n",
            "dataset/aug/train/images/316_2.png\n",
            "True\n",
            "dataset/aug/train/images/316_3.png\n",
            "True\n",
            "dataset/aug/train/images/316_4.png\n",
            "True\n"
          ]
        },
        {
          "output_type": "stream",
          "name": "stderr",
          "text": [
            "\r 91%|█████████ | 447/490 [02:33<00:14,  3.03it/s]"
          ]
        },
        {
          "output_type": "stream",
          "name": "stdout",
          "text": [
            "dataset/aug/train/images/76_0.png\n",
            "True\n",
            "dataset/aug/train/images/76_1.png\n",
            "True\n",
            "dataset/aug/train/images/76_2.png\n",
            "True\n",
            "dataset/aug/train/images/76_3.png\n",
            "True\n",
            "dataset/aug/train/images/76_4.png\n",
            "True\n"
          ]
        },
        {
          "output_type": "stream",
          "name": "stderr",
          "text": [
            "\r 91%|█████████▏| 448/490 [02:33<00:14,  3.00it/s]"
          ]
        },
        {
          "output_type": "stream",
          "name": "stdout",
          "text": [
            "dataset/aug/train/images/164_0.png\n",
            "True\n",
            "dataset/aug/train/images/164_1.png\n",
            "True\n",
            "dataset/aug/train/images/164_2.png\n",
            "True\n",
            "dataset/aug/train/images/164_3.png\n",
            "True\n",
            "dataset/aug/train/images/164_4.png\n",
            "True\n"
          ]
        },
        {
          "output_type": "stream",
          "name": "stderr",
          "text": [
            "\r 92%|█████████▏| 449/490 [02:34<00:12,  3.20it/s]"
          ]
        },
        {
          "output_type": "stream",
          "name": "stdout",
          "text": [
            "dataset/aug/train/images/187_0.png\n",
            "True\n",
            "dataset/aug/train/images/187_1.png\n",
            "True\n",
            "dataset/aug/train/images/187_2.png\n",
            "True\n",
            "dataset/aug/train/images/187_3.png\n",
            "True\n",
            "dataset/aug/train/images/187_4.png\n",
            "True\n"
          ]
        },
        {
          "output_type": "stream",
          "name": "stderr",
          "text": [
            "\r 92%|█████████▏| 450/490 [02:34<00:13,  3.07it/s]"
          ]
        },
        {
          "output_type": "stream",
          "name": "stdout",
          "text": [
            "dataset/aug/train/images/160_0.png\n",
            "True\n",
            "dataset/aug/train/images/160_1.png\n",
            "True\n",
            "dataset/aug/train/images/160_2.png\n",
            "True\n",
            "dataset/aug/train/images/160_3.png\n",
            "True\n",
            "dataset/aug/train/images/160_4.png\n",
            "True\n"
          ]
        },
        {
          "output_type": "stream",
          "name": "stderr",
          "text": [
            "\r 92%|█████████▏| 451/490 [02:34<00:12,  3.03it/s]"
          ]
        },
        {
          "output_type": "stream",
          "name": "stdout",
          "text": [
            "dataset/aug/train/images/138_0.png\n",
            "True\n",
            "dataset/aug/train/images/138_1.png\n",
            "True\n",
            "dataset/aug/train/images/138_2.png\n",
            "True\n",
            "dataset/aug/train/images/138_3.png\n",
            "True\n",
            "dataset/aug/train/images/138_4.png\n",
            "True\n"
          ]
        },
        {
          "output_type": "stream",
          "name": "stderr",
          "text": [
            "\r 92%|█████████▏| 452/490 [02:35<00:12,  3.07it/s]"
          ]
        },
        {
          "output_type": "stream",
          "name": "stdout",
          "text": [
            "dataset/aug/train/images/425_0.png\n",
            "True\n",
            "dataset/aug/train/images/425_1.png\n",
            "True\n",
            "dataset/aug/train/images/425_2.png\n",
            "True\n",
            "dataset/aug/train/images/425_3.png\n",
            "True\n",
            "dataset/aug/train/images/425_4.png\n",
            "True\n"
          ]
        },
        {
          "output_type": "stream",
          "name": "stderr",
          "text": [
            "\r 92%|█████████▏| 453/490 [02:35<00:11,  3.12it/s]"
          ]
        },
        {
          "output_type": "stream",
          "name": "stdout",
          "text": [
            "dataset/aug/train/images/226_0.png\n",
            "True\n",
            "dataset/aug/train/images/226_1.png\n",
            "True\n",
            "dataset/aug/train/images/226_2.png\n",
            "True\n",
            "dataset/aug/train/images/226_3.png\n",
            "True\n",
            "dataset/aug/train/images/226_4.png\n",
            "True\n"
          ]
        },
        {
          "output_type": "stream",
          "name": "stderr",
          "text": [
            "\r 93%|█████████▎| 454/490 [02:35<00:11,  3.15it/s]"
          ]
        },
        {
          "output_type": "stream",
          "name": "stdout",
          "text": [
            "dataset/aug/train/images/117_0.png\n",
            "True\n",
            "dataset/aug/train/images/117_1.png\n",
            "True\n",
            "dataset/aug/train/images/117_2.png\n",
            "True\n",
            "dataset/aug/train/images/117_3.png\n",
            "True\n",
            "dataset/aug/train/images/117_4.png\n",
            "True\n"
          ]
        },
        {
          "output_type": "stream",
          "name": "stderr",
          "text": [
            "\r 93%|█████████▎| 455/490 [02:36<00:10,  3.19it/s]"
          ]
        },
        {
          "output_type": "stream",
          "name": "stdout",
          "text": [
            "dataset/aug/train/images/97_0.png\n",
            "True\n",
            "dataset/aug/train/images/97_1.png\n",
            "True\n",
            "dataset/aug/train/images/97_2.png\n",
            "True\n",
            "dataset/aug/train/images/97_3.png\n",
            "True\n",
            "dataset/aug/train/images/97_4.png\n",
            "True\n"
          ]
        },
        {
          "output_type": "stream",
          "name": "stderr",
          "text": [
            "\r 93%|█████████▎| 456/490 [02:36<00:10,  3.20it/s]"
          ]
        },
        {
          "output_type": "stream",
          "name": "stdout",
          "text": [
            "dataset/aug/train/images/216_0.png\n",
            "True\n",
            "dataset/aug/train/images/216_1.png\n",
            "True\n",
            "dataset/aug/train/images/216_2.png\n",
            "True\n",
            "dataset/aug/train/images/216_3.png\n",
            "True\n",
            "dataset/aug/train/images/216_4.png\n",
            "True\n"
          ]
        },
        {
          "output_type": "stream",
          "name": "stderr",
          "text": [
            "\r 93%|█████████▎| 457/490 [02:36<00:10,  3.28it/s]"
          ]
        },
        {
          "output_type": "stream",
          "name": "stdout",
          "text": [
            "dataset/aug/train/images/41_0.png\n",
            "True\n",
            "dataset/aug/train/images/41_1.png\n",
            "True\n",
            "dataset/aug/train/images/41_2.png\n",
            "True\n",
            "dataset/aug/train/images/41_3.png\n",
            "True\n",
            "dataset/aug/train/images/41_4.png\n",
            "True\n"
          ]
        },
        {
          "output_type": "stream",
          "name": "stderr",
          "text": [
            "\r 93%|█████████▎| 458/490 [02:37<00:09,  3.31it/s]"
          ]
        },
        {
          "output_type": "stream",
          "name": "stdout",
          "text": [
            "dataset/aug/train/images/561_0.png\n",
            "True\n",
            "dataset/aug/train/images/561_1.png\n",
            "True\n",
            "dataset/aug/train/images/561_2.png\n",
            "True\n",
            "dataset/aug/train/images/561_3.png\n",
            "True\n",
            "dataset/aug/train/images/561_4.png\n",
            "True\n"
          ]
        },
        {
          "output_type": "stream",
          "name": "stderr",
          "text": [
            "\r 94%|█████████▎| 459/490 [02:37<00:09,  3.22it/s]"
          ]
        },
        {
          "output_type": "stream",
          "name": "stdout",
          "text": [
            "dataset/aug/train/images/47_0.png\n",
            "True\n",
            "dataset/aug/train/images/47_1.png\n",
            "True\n",
            "dataset/aug/train/images/47_2.png\n",
            "True\n",
            "dataset/aug/train/images/47_3.png\n",
            "True\n",
            "dataset/aug/train/images/47_4.png\n",
            "True\n"
          ]
        },
        {
          "output_type": "stream",
          "name": "stderr",
          "text": [
            "\r 94%|█████████▍| 460/490 [02:37<00:09,  3.12it/s]"
          ]
        },
        {
          "output_type": "stream",
          "name": "stdout",
          "text": [
            "dataset/aug/train/images/440_0.png\n",
            "True\n",
            "dataset/aug/train/images/440_1.png\n",
            "True\n",
            "dataset/aug/train/images/440_2.png\n",
            "True\n",
            "dataset/aug/train/images/440_3.png\n",
            "True\n",
            "dataset/aug/train/images/440_4.png\n",
            "True\n"
          ]
        },
        {
          "output_type": "stream",
          "name": "stderr",
          "text": [
            "\r 94%|█████████▍| 461/490 [02:38<00:08,  3.22it/s]"
          ]
        },
        {
          "output_type": "stream",
          "name": "stdout",
          "text": [
            "dataset/aug/train/images/249_0.png\n",
            "True\n",
            "dataset/aug/train/images/249_1.png\n",
            "True\n",
            "dataset/aug/train/images/249_2.png\n",
            "True\n",
            "dataset/aug/train/images/249_3.png\n",
            "True\n",
            "dataset/aug/train/images/249_4.png\n",
            "True\n"
          ]
        },
        {
          "output_type": "stream",
          "name": "stderr",
          "text": [
            "\r 94%|█████████▍| 462/490 [02:38<00:09,  3.07it/s]"
          ]
        },
        {
          "output_type": "stream",
          "name": "stdout",
          "text": [
            "dataset/aug/train/images/576_0.png\n",
            "True\n",
            "dataset/aug/train/images/576_1.png\n",
            "True\n",
            "dataset/aug/train/images/576_2.png\n",
            "True\n",
            "dataset/aug/train/images/576_3.png\n",
            "True\n",
            "dataset/aug/train/images/576_4.png\n",
            "True\n"
          ]
        },
        {
          "output_type": "stream",
          "name": "stderr",
          "text": [
            "\r 94%|█████████▍| 463/490 [02:38<00:08,  3.07it/s]"
          ]
        },
        {
          "output_type": "stream",
          "name": "stdout",
          "text": [
            "dataset/aug/train/images/542_0.png\n",
            "True\n",
            "dataset/aug/train/images/542_1.png\n",
            "True\n",
            "dataset/aug/train/images/542_2.png\n",
            "True\n",
            "dataset/aug/train/images/542_3.png\n",
            "True\n",
            "dataset/aug/train/images/542_4.png\n",
            "True\n"
          ]
        },
        {
          "output_type": "stream",
          "name": "stderr",
          "text": [
            "\r 95%|█████████▍| 464/490 [02:39<00:08,  3.12it/s]"
          ]
        },
        {
          "output_type": "stream",
          "name": "stdout",
          "text": [
            "dataset/aug/train/images/250_0.png\n",
            "True\n",
            "dataset/aug/train/images/250_1.png\n",
            "True\n",
            "dataset/aug/train/images/250_2.png\n",
            "True\n",
            "dataset/aug/train/images/250_3.png\n",
            "True\n",
            "dataset/aug/train/images/250_4.png\n",
            "True\n"
          ]
        },
        {
          "output_type": "stream",
          "name": "stderr",
          "text": [
            "\r 95%|█████████▍| 465/490 [02:39<00:07,  3.28it/s]"
          ]
        },
        {
          "output_type": "stream",
          "name": "stdout",
          "text": [
            "dataset/aug/train/images/38_0.png\n",
            "True\n",
            "dataset/aug/train/images/38_1.png\n",
            "True\n",
            "dataset/aug/train/images/38_2.png\n",
            "True\n",
            "dataset/aug/train/images/38_3.png\n",
            "True\n",
            "dataset/aug/train/images/38_4.png\n",
            "True\n"
          ]
        },
        {
          "output_type": "stream",
          "name": "stderr",
          "text": [
            "\r 95%|█████████▌| 466/490 [02:39<00:07,  3.41it/s]"
          ]
        },
        {
          "output_type": "stream",
          "name": "stdout",
          "text": [
            "dataset/aug/train/images/314_0.png\n",
            "True\n",
            "dataset/aug/train/images/314_1.png\n",
            "True\n",
            "dataset/aug/train/images/314_2.png\n",
            "True\n",
            "dataset/aug/train/images/314_3.png\n",
            "True\n",
            "dataset/aug/train/images/314_4.png\n",
            "True\n"
          ]
        },
        {
          "output_type": "stream",
          "name": "stderr",
          "text": [
            "\r 95%|█████████▌| 467/490 [02:39<00:06,  3.45it/s]"
          ]
        },
        {
          "output_type": "stream",
          "name": "stdout",
          "text": [
            "dataset/aug/train/images/44_0.png\n",
            "True\n",
            "dataset/aug/train/images/44_1.png\n",
            "True\n",
            "dataset/aug/train/images/44_2.png\n",
            "True\n",
            "dataset/aug/train/images/44_3.png\n",
            "True\n",
            "dataset/aug/train/images/44_4.png\n",
            "True\n"
          ]
        },
        {
          "output_type": "stream",
          "name": "stderr",
          "text": [
            "\r 96%|█████████▌| 468/490 [02:40<00:09,  2.30it/s]"
          ]
        },
        {
          "output_type": "stream",
          "name": "stdout",
          "text": [
            "dataset/aug/train/images/493_0.png\n",
            "True\n",
            "dataset/aug/train/images/493_1.png\n",
            "True\n",
            "dataset/aug/train/images/493_2.png\n",
            "True\n",
            "dataset/aug/train/images/493_3.png\n",
            "True\n",
            "dataset/aug/train/images/493_4.png\n",
            "True\n"
          ]
        },
        {
          "output_type": "stream",
          "name": "stderr",
          "text": [
            "\r 96%|█████████▌| 469/490 [02:41<00:08,  2.40it/s]"
          ]
        },
        {
          "output_type": "stream",
          "name": "stdout",
          "text": [
            "dataset/aug/train/images/106_0.png\n",
            "True\n",
            "dataset/aug/train/images/106_1.png\n",
            "True\n",
            "dataset/aug/train/images/106_2.png\n",
            "True\n",
            "dataset/aug/train/images/106_3.png\n",
            "True\n",
            "dataset/aug/train/images/106_4.png\n",
            "True\n"
          ]
        },
        {
          "output_type": "stream",
          "name": "stderr",
          "text": [
            "\r 96%|█████████▌| 470/490 [02:41<00:07,  2.59it/s]"
          ]
        },
        {
          "output_type": "stream",
          "name": "stdout",
          "text": [
            "dataset/aug/train/images/36_0.png\n",
            "True\n",
            "dataset/aug/train/images/36_1.png\n",
            "True\n",
            "dataset/aug/train/images/36_2.png\n",
            "True\n",
            "dataset/aug/train/images/36_3.png\n",
            "True\n",
            "dataset/aug/train/images/36_4.png\n",
            "True\n"
          ]
        },
        {
          "output_type": "stream",
          "name": "stderr",
          "text": [
            "\r 96%|█████████▌| 471/490 [02:41<00:06,  2.80it/s]"
          ]
        },
        {
          "output_type": "stream",
          "name": "stdout",
          "text": [
            "dataset/aug/train/images/356_0.png\n",
            "True\n",
            "dataset/aug/train/images/356_1.png\n",
            "True\n",
            "dataset/aug/train/images/356_2.png\n",
            "True\n",
            "dataset/aug/train/images/356_3.png\n",
            "True\n",
            "dataset/aug/train/images/356_4.png\n",
            "True\n"
          ]
        },
        {
          "output_type": "stream",
          "name": "stderr",
          "text": [
            "\r 96%|█████████▋| 472/490 [02:41<00:06,  2.86it/s]"
          ]
        },
        {
          "output_type": "stream",
          "name": "stdout",
          "text": [
            "dataset/aug/train/images/185_0.png\n",
            "True\n",
            "dataset/aug/train/images/185_1.png\n",
            "True\n",
            "dataset/aug/train/images/185_2.png\n",
            "True\n",
            "dataset/aug/train/images/185_3.png\n",
            "True\n",
            "dataset/aug/train/images/185_4.png\n",
            "True\n"
          ]
        },
        {
          "output_type": "stream",
          "name": "stderr",
          "text": [
            "\r 97%|█████████▋| 473/490 [02:42<00:05,  2.93it/s]"
          ]
        },
        {
          "output_type": "stream",
          "name": "stdout",
          "text": [
            "dataset/aug/train/images/45_0.png\n",
            "True\n",
            "dataset/aug/train/images/45_1.png\n",
            "True\n",
            "dataset/aug/train/images/45_2.png\n",
            "True\n",
            "dataset/aug/train/images/45_3.png\n",
            "True\n",
            "dataset/aug/train/images/45_4.png\n",
            "True\n"
          ]
        },
        {
          "output_type": "stream",
          "name": "stderr",
          "text": [
            "\r 97%|█████████▋| 474/490 [02:42<00:05,  2.88it/s]"
          ]
        },
        {
          "output_type": "stream",
          "name": "stdout",
          "text": [
            "dataset/aug/train/images/6_0.png\n",
            "True\n",
            "dataset/aug/train/images/6_1.png\n",
            "True\n",
            "dataset/aug/train/images/6_2.png\n",
            "True\n",
            "dataset/aug/train/images/6_3.png\n",
            "True\n",
            "dataset/aug/train/images/6_4.png\n",
            "True\n"
          ]
        },
        {
          "output_type": "stream",
          "name": "stderr",
          "text": [
            "\r 97%|█████████▋| 475/490 [02:42<00:05,  2.96it/s]"
          ]
        },
        {
          "output_type": "stream",
          "name": "stdout",
          "text": [
            "dataset/aug/train/images/462_0.png\n",
            "True\n",
            "dataset/aug/train/images/462_1.png\n",
            "True\n",
            "dataset/aug/train/images/462_2.png\n",
            "True\n",
            "dataset/aug/train/images/462_3.png\n",
            "True\n",
            "dataset/aug/train/images/462_4.png\n",
            "True\n"
          ]
        },
        {
          "output_type": "stream",
          "name": "stderr",
          "text": [
            "\r 97%|█████████▋| 476/490 [02:43<00:04,  3.08it/s]"
          ]
        },
        {
          "output_type": "stream",
          "name": "stdout",
          "text": [
            "dataset/aug/train/images/35_0.png\n",
            "True\n",
            "dataset/aug/train/images/35_1.png\n",
            "True\n",
            "dataset/aug/train/images/35_2.png\n",
            "True\n",
            "dataset/aug/train/images/35_3.png\n",
            "True\n",
            "dataset/aug/train/images/35_4.png\n",
            "True\n"
          ]
        },
        {
          "output_type": "stream",
          "name": "stderr",
          "text": [
            "\r 97%|█████████▋| 477/490 [02:43<00:04,  3.16it/s]"
          ]
        },
        {
          "output_type": "stream",
          "name": "stdout",
          "text": [
            "dataset/aug/train/images/93_0.png\n",
            "True\n",
            "dataset/aug/train/images/93_1.png\n",
            "True\n",
            "dataset/aug/train/images/93_2.png\n",
            "True\n",
            "dataset/aug/train/images/93_3.png\n",
            "True\n",
            "dataset/aug/train/images/93_4.png\n",
            "True\n"
          ]
        },
        {
          "output_type": "stream",
          "name": "stderr",
          "text": [
            "\r 98%|█████████▊| 478/490 [02:43<00:03,  3.29it/s]"
          ]
        },
        {
          "output_type": "stream",
          "name": "stdout",
          "text": [
            "dataset/aug/train/images/308_0.png\n",
            "True\n",
            "dataset/aug/train/images/308_1.png\n",
            "True\n",
            "dataset/aug/train/images/308_2.png\n",
            "True\n",
            "dataset/aug/train/images/308_3.png\n",
            "True\n",
            "dataset/aug/train/images/308_4.png\n",
            "True\n"
          ]
        },
        {
          "output_type": "stream",
          "name": "stderr",
          "text": [
            "\r 98%|█████████▊| 479/490 [02:44<00:03,  2.92it/s]"
          ]
        },
        {
          "output_type": "stream",
          "name": "stdout",
          "text": [
            "dataset/aug/train/images/371_0.png\n",
            "True\n",
            "dataset/aug/train/images/371_1.png\n",
            "True\n",
            "dataset/aug/train/images/371_2.png\n",
            "True\n",
            "dataset/aug/train/images/371_3.png\n",
            "True\n",
            "dataset/aug/train/images/371_4.png\n",
            "True\n"
          ]
        },
        {
          "output_type": "stream",
          "name": "stderr",
          "text": [
            "\r 98%|█████████▊| 480/490 [02:44<00:03,  2.98it/s]"
          ]
        },
        {
          "output_type": "stream",
          "name": "stdout",
          "text": [
            "dataset/aug/train/images/54_0.png\n",
            "True\n",
            "dataset/aug/train/images/54_1.png\n",
            "True\n",
            "dataset/aug/train/images/54_2.png\n",
            "True\n",
            "dataset/aug/train/images/54_3.png\n",
            "True\n",
            "dataset/aug/train/images/54_4.png\n",
            "True\n"
          ]
        },
        {
          "output_type": "stream",
          "name": "stderr",
          "text": [
            "\r 98%|█████████▊| 481/490 [02:44<00:03,  2.86it/s]"
          ]
        },
        {
          "output_type": "stream",
          "name": "stdout",
          "text": [
            "dataset/aug/train/images/585_0.png\n",
            "True\n",
            "dataset/aug/train/images/585_1.png\n",
            "True\n",
            "dataset/aug/train/images/585_2.png\n",
            "True\n",
            "dataset/aug/train/images/585_3.png\n",
            "True\n",
            "dataset/aug/train/images/585_4.png\n",
            "True\n"
          ]
        },
        {
          "output_type": "stream",
          "name": "stderr",
          "text": [
            "\r 98%|█████████▊| 482/490 [02:45<00:03,  2.56it/s]"
          ]
        },
        {
          "output_type": "stream",
          "name": "stdout",
          "text": [
            "dataset/aug/train/images/501_0.png\n",
            "True\n",
            "dataset/aug/train/images/501_1.png\n",
            "True\n",
            "dataset/aug/train/images/501_2.png\n",
            "True\n",
            "dataset/aug/train/images/501_3.png\n",
            "True\n",
            "dataset/aug/train/images/501_4.png\n",
            "True\n"
          ]
        },
        {
          "output_type": "stream",
          "name": "stderr",
          "text": [
            "\r 99%|█████████▊| 483/490 [02:45<00:02,  2.84it/s]"
          ]
        },
        {
          "output_type": "stream",
          "name": "stdout",
          "text": [
            "dataset/aug/train/images/523_0.png\n",
            "True\n",
            "dataset/aug/train/images/523_1.png\n",
            "True\n",
            "dataset/aug/train/images/523_2.png\n",
            "True\n",
            "dataset/aug/train/images/523_3.png\n",
            "True\n",
            "dataset/aug/train/images/523_4.png\n",
            "True\n"
          ]
        },
        {
          "output_type": "stream",
          "name": "stderr",
          "text": [
            "\r 99%|█████████▉| 484/490 [02:46<00:02,  2.85it/s]"
          ]
        },
        {
          "output_type": "stream",
          "name": "stdout",
          "text": [
            "dataset/aug/train/images/304_0.png\n",
            "True\n",
            "dataset/aug/train/images/304_1.png\n",
            "True\n",
            "dataset/aug/train/images/304_2.png\n",
            "True\n",
            "dataset/aug/train/images/304_3.png\n",
            "True\n",
            "dataset/aug/train/images/304_4.png\n",
            "True\n"
          ]
        },
        {
          "output_type": "stream",
          "name": "stderr",
          "text": [
            "\r 99%|█████████▉| 485/490 [02:46<00:01,  3.13it/s]"
          ]
        },
        {
          "output_type": "stream",
          "name": "stdout",
          "text": [
            "dataset/aug/train/images/593_0.png\n",
            "True\n",
            "dataset/aug/train/images/593_1.png\n",
            "True\n",
            "dataset/aug/train/images/593_2.png\n",
            "True\n",
            "dataset/aug/train/images/593_3.png\n",
            "True\n",
            "dataset/aug/train/images/593_4.png\n",
            "True\n"
          ]
        },
        {
          "output_type": "stream",
          "name": "stderr",
          "text": [
            "\r 99%|█████████▉| 486/490 [02:46<00:01,  3.22it/s]"
          ]
        },
        {
          "output_type": "stream",
          "name": "stdout",
          "text": [
            "dataset/aug/train/images/456_0.png\n",
            "True\n",
            "dataset/aug/train/images/456_1.png\n",
            "True\n",
            "dataset/aug/train/images/456_2.png\n",
            "True\n",
            "dataset/aug/train/images/456_3.png\n",
            "True\n",
            "dataset/aug/train/images/456_4.png\n",
            "True\n"
          ]
        },
        {
          "output_type": "stream",
          "name": "stderr",
          "text": [
            "\r 99%|█████████▉| 487/490 [02:46<00:00,  3.12it/s]"
          ]
        },
        {
          "output_type": "stream",
          "name": "stdout",
          "text": [
            "dataset/aug/train/images/74_0.png\n",
            "True\n",
            "dataset/aug/train/images/74_1.png\n",
            "True\n",
            "dataset/aug/train/images/74_2.png\n",
            "True\n",
            "dataset/aug/train/images/74_3.png\n",
            "True\n",
            "dataset/aug/train/images/74_4.png\n",
            "True\n"
          ]
        },
        {
          "output_type": "stream",
          "name": "stderr",
          "text": [
            "\r100%|█████████▉| 488/490 [02:47<00:00,  3.21it/s]"
          ]
        },
        {
          "output_type": "stream",
          "name": "stdout",
          "text": [
            "dataset/aug/train/images/545_0.png\n",
            "True\n",
            "dataset/aug/train/images/545_1.png\n",
            "True\n",
            "dataset/aug/train/images/545_2.png\n",
            "True\n",
            "dataset/aug/train/images/545_3.png\n",
            "True\n",
            "dataset/aug/train/images/545_4.png\n",
            "True\n"
          ]
        },
        {
          "output_type": "stream",
          "name": "stderr",
          "text": [
            "\r100%|█████████▉| 489/490 [02:47<00:00,  3.17it/s]"
          ]
        },
        {
          "output_type": "stream",
          "name": "stdout",
          "text": [
            "dataset/aug/train/images/589_0.png\n",
            "True\n",
            "dataset/aug/train/images/589_1.png\n",
            "True\n",
            "dataset/aug/train/images/589_2.png\n",
            "True\n",
            "dataset/aug/train/images/589_3.png\n",
            "True\n",
            "dataset/aug/train/images/589_4.png\n",
            "True\n"
          ]
        },
        {
          "output_type": "stream",
          "name": "stderr",
          "text": [
            "100%|██████████| 490/490 [02:47<00:00,  2.92it/s]\n"
          ]
        },
        {
          "output_type": "stream",
          "name": "stdout",
          "text": [
            "dataset/aug/train/images/405_0.png\n",
            "True\n",
            "dataset/aug/train/images/405_1.png\n",
            "True\n",
            "dataset/aug/train/images/405_2.png\n",
            "True\n",
            "dataset/aug/train/images/405_3.png\n",
            "True\n",
            "dataset/aug/train/images/405_4.png\n",
            "True\n"
          ]
        },
        {
          "output_type": "stream",
          "name": "stderr",
          "text": [
            "  2%|▏         | 1/61 [00:00<00:14,  4.15it/s]"
          ]
        },
        {
          "output_type": "stream",
          "name": "stdout",
          "text": [
            "dataset/aug/valid/images/172_0.png\n",
            "True\n"
          ]
        },
        {
          "output_type": "stream",
          "name": "stderr",
          "text": [
            "\r  3%|▎         | 2/61 [00:00<00:16,  3.63it/s]"
          ]
        },
        {
          "output_type": "stream",
          "name": "stdout",
          "text": [
            "dataset/aug/valid/images/296_0.png\n",
            "True\n"
          ]
        },
        {
          "output_type": "stream",
          "name": "stderr",
          "text": [
            "\r  5%|▍         | 3/61 [00:00<00:15,  3.71it/s]"
          ]
        },
        {
          "output_type": "stream",
          "name": "stdout",
          "text": [
            "dataset/aug/valid/images/149_0.png\n",
            "True\n"
          ]
        },
        {
          "output_type": "stream",
          "name": "stderr",
          "text": [
            "\r  7%|▋         | 4/61 [00:01<00:15,  3.73it/s]"
          ]
        },
        {
          "output_type": "stream",
          "name": "stdout",
          "text": [
            "dataset/aug/valid/images/89_0.png\n",
            "True\n"
          ]
        },
        {
          "output_type": "stream",
          "name": "stderr",
          "text": [
            "\r  8%|▊         | 5/61 [00:01<00:13,  4.15it/s]"
          ]
        },
        {
          "output_type": "stream",
          "name": "stdout",
          "text": [
            "dataset/aug/valid/images/337_0.png\n",
            "True\n"
          ]
        },
        {
          "output_type": "stream",
          "name": "stderr",
          "text": [
            "\r 10%|▉         | 6/61 [00:01<00:12,  4.34it/s]"
          ]
        },
        {
          "output_type": "stream",
          "name": "stdout",
          "text": [
            "dataset/aug/valid/images/239_0.png\n",
            "True\n",
            "dataset/aug/valid/images/534_0.png\n"
          ]
        },
        {
          "output_type": "stream",
          "name": "stderr",
          "text": [
            "\r 11%|█▏        | 7/61 [00:01<00:11,  4.55it/s]"
          ]
        },
        {
          "output_type": "stream",
          "name": "stdout",
          "text": [
            "True\n"
          ]
        },
        {
          "output_type": "stream",
          "name": "stderr",
          "text": [
            "\r 13%|█▎        | 8/61 [00:01<00:12,  4.24it/s]"
          ]
        },
        {
          "output_type": "stream",
          "name": "stdout",
          "text": [
            "dataset/aug/valid/images/389_0.png\n",
            "True\n"
          ]
        },
        {
          "output_type": "stream",
          "name": "stderr",
          "text": [
            "\r 15%|█▍        | 9/61 [00:02<00:12,  4.22it/s]"
          ]
        },
        {
          "output_type": "stream",
          "name": "stdout",
          "text": [
            "dataset/aug/valid/images/72_0.png\n",
            "True\n"
          ]
        },
        {
          "output_type": "stream",
          "name": "stderr",
          "text": [
            "\r 16%|█▋        | 10/61 [00:02<00:12,  4.18it/s]"
          ]
        },
        {
          "output_type": "stream",
          "name": "stdout",
          "text": [
            "dataset/aug/valid/images/361_0.png\n",
            "True\n"
          ]
        },
        {
          "output_type": "stream",
          "name": "stderr",
          "text": [
            "\r 18%|█▊        | 11/61 [00:02<00:15,  3.32it/s]"
          ]
        },
        {
          "output_type": "stream",
          "name": "stdout",
          "text": [
            "dataset/aug/valid/images/313_0.png\n",
            "True\n"
          ]
        },
        {
          "output_type": "stream",
          "name": "stderr",
          "text": [
            "\r 20%|█▉        | 12/61 [00:03<00:15,  3.26it/s]"
          ]
        },
        {
          "output_type": "stream",
          "name": "stdout",
          "text": [
            "dataset/aug/valid/images/324_0.png\n",
            "True\n"
          ]
        },
        {
          "output_type": "stream",
          "name": "stderr",
          "text": [
            "\r 21%|██▏       | 13/61 [00:03<00:13,  3.52it/s]"
          ]
        },
        {
          "output_type": "stream",
          "name": "stdout",
          "text": [
            "dataset/aug/valid/images/276_0.png\n",
            "True\n"
          ]
        },
        {
          "output_type": "stream",
          "name": "stderr",
          "text": [
            "\r 23%|██▎       | 14/61 [00:03<00:15,  3.09it/s]"
          ]
        },
        {
          "output_type": "stream",
          "name": "stdout",
          "text": [
            "dataset/aug/valid/images/454_0.png\n",
            "True\n"
          ]
        },
        {
          "output_type": "stream",
          "name": "stderr",
          "text": [
            "\r 25%|██▍       | 15/61 [00:04<00:13,  3.32it/s]"
          ]
        },
        {
          "output_type": "stream",
          "name": "stdout",
          "text": [
            "dataset/aug/valid/images/360_0.png\n",
            "True\n"
          ]
        },
        {
          "output_type": "stream",
          "name": "stderr",
          "text": [
            "\r 26%|██▌       | 16/61 [00:04<00:12,  3.55it/s]"
          ]
        },
        {
          "output_type": "stream",
          "name": "stdout",
          "text": [
            "dataset/aug/valid/images/388_0.png\n",
            "True\n"
          ]
        },
        {
          "output_type": "stream",
          "name": "stderr",
          "text": [
            "\r 28%|██▊       | 17/61 [00:04<00:13,  3.18it/s]"
          ]
        },
        {
          "output_type": "stream",
          "name": "stdout",
          "text": [
            "dataset/aug/valid/images/592_0.png\n",
            "True\n"
          ]
        },
        {
          "output_type": "stream",
          "name": "stderr",
          "text": [
            "\r 30%|██▉       | 18/61 [00:04<00:12,  3.34it/s]"
          ]
        },
        {
          "output_type": "stream",
          "name": "stdout",
          "text": [
            "dataset/aug/valid/images/572_0.png\n",
            "True\n"
          ]
        },
        {
          "output_type": "stream",
          "name": "stderr",
          "text": [
            "\r 31%|███       | 19/61 [00:05<00:12,  3.31it/s]"
          ]
        },
        {
          "output_type": "stream",
          "name": "stdout",
          "text": [
            "dataset/aug/valid/images/108_0.png\n",
            "True\n",
            "dataset/aug/valid/images/100_0.png\n",
            "True\n"
          ]
        },
        {
          "output_type": "stream",
          "name": "stderr",
          "text": [
            "\r 34%|███▍      | 21/61 [00:05<00:10,  3.64it/s]"
          ]
        },
        {
          "output_type": "stream",
          "name": "stdout",
          "text": [
            "dataset/aug/valid/images/272_0.png\n",
            "True\n"
          ]
        },
        {
          "output_type": "stream",
          "name": "stderr",
          "text": [
            "\r 36%|███▌      | 22/61 [00:06<00:11,  3.31it/s]"
          ]
        },
        {
          "output_type": "stream",
          "name": "stdout",
          "text": [
            "dataset/aug/valid/images/303_0.png\n",
            "True\n"
          ]
        },
        {
          "output_type": "stream",
          "name": "stderr",
          "text": [
            "\r 38%|███▊      | 23/61 [00:06<00:11,  3.37it/s]"
          ]
        },
        {
          "output_type": "stream",
          "name": "stdout",
          "text": [
            "dataset/aug/valid/images/486_0.png\n",
            "True\n"
          ]
        },
        {
          "output_type": "stream",
          "name": "stderr",
          "text": [
            "\r 39%|███▉      | 24/61 [00:06<00:12,  3.02it/s]"
          ]
        },
        {
          "output_type": "stream",
          "name": "stdout",
          "text": [
            "dataset/aug/valid/images/258_0.png\n",
            "True\n"
          ]
        },
        {
          "output_type": "stream",
          "name": "stderr",
          "text": [
            "\r 41%|████      | 25/61 [00:07<00:12,  2.83it/s]"
          ]
        },
        {
          "output_type": "stream",
          "name": "stdout",
          "text": [
            "dataset/aug/valid/images/217_0.png\n",
            "True\n"
          ]
        },
        {
          "output_type": "stream",
          "name": "stderr",
          "text": [
            "\r 43%|████▎     | 26/61 [00:07<00:11,  3.10it/s]"
          ]
        },
        {
          "output_type": "stream",
          "name": "stdout",
          "text": [
            "dataset/aug/valid/images/444_0.png\n",
            "True\n"
          ]
        },
        {
          "output_type": "stream",
          "name": "stderr",
          "text": [
            "\r 44%|████▍     | 27/61 [00:07<00:10,  3.28it/s]"
          ]
        },
        {
          "output_type": "stream",
          "name": "stdout",
          "text": [
            "dataset/aug/valid/images/524_0.png\n",
            "True\n"
          ]
        },
        {
          "output_type": "stream",
          "name": "stderr",
          "text": [
            "\r 46%|████▌     | 28/61 [00:08<00:09,  3.35it/s]"
          ]
        },
        {
          "output_type": "stream",
          "name": "stdout",
          "text": [
            "dataset/aug/valid/images/246_0.png\n",
            "True\n",
            "dataset/aug/valid/images/369_0.png\n"
          ]
        },
        {
          "output_type": "stream",
          "name": "stderr",
          "text": [
            "\r 48%|████▊     | 29/61 [00:08<00:08,  3.75it/s]"
          ]
        },
        {
          "output_type": "stream",
          "name": "stdout",
          "text": [
            "True\n"
          ]
        },
        {
          "output_type": "stream",
          "name": "stderr",
          "text": [
            "\r 49%|████▉     | 30/61 [00:08<00:08,  3.61it/s]"
          ]
        },
        {
          "output_type": "stream",
          "name": "stdout",
          "text": [
            "dataset/aug/valid/images/333_0.png\n",
            "True\n",
            "dataset/aug/valid/images/193_0.png\n",
            "True\n"
          ]
        },
        {
          "output_type": "stream",
          "name": "stderr",
          "text": [
            " 52%|█████▏    | 32/61 [00:08<00:07,  4.06it/s]"
          ]
        },
        {
          "output_type": "stream",
          "name": "stdout",
          "text": [
            "dataset/aug/valid/images/289_0.png\n",
            "True\n",
            "dataset/aug/valid/images/169_0.png\n"
          ]
        },
        {
          "output_type": "stream",
          "name": "stderr",
          "text": [
            " 56%|█████▌    | 34/61 [00:09<00:05,  4.58it/s]"
          ]
        },
        {
          "output_type": "stream",
          "name": "stdout",
          "text": [
            "True\n",
            "dataset/aug/valid/images/439_0.png\n",
            "True\n"
          ]
        },
        {
          "output_type": "stream",
          "name": "stderr",
          "text": [
            "\r 57%|█████▋    | 35/61 [00:09<00:06,  4.03it/s]"
          ]
        },
        {
          "output_type": "stream",
          "name": "stdout",
          "text": [
            "dataset/aug/valid/images/59_0.png\n",
            "True\n"
          ]
        },
        {
          "output_type": "stream",
          "name": "stderr",
          "text": [
            "\r 59%|█████▉    | 36/61 [00:09<00:06,  4.11it/s]"
          ]
        },
        {
          "output_type": "stream",
          "name": "stdout",
          "text": [
            "dataset/aug/valid/images/481_0.png\n",
            "True\n"
          ]
        },
        {
          "output_type": "stream",
          "name": "stderr",
          "text": [
            "\r 61%|██████    | 37/61 [00:10<00:05,  4.30it/s]"
          ]
        },
        {
          "output_type": "stream",
          "name": "stdout",
          "text": [
            "dataset/aug/valid/images/82_0.png\n",
            "True\n"
          ]
        },
        {
          "output_type": "stream",
          "name": "stderr",
          "text": [
            "\r 62%|██████▏   | 38/61 [00:10<00:05,  4.04it/s]"
          ]
        },
        {
          "output_type": "stream",
          "name": "stdout",
          "text": [
            "dataset/aug/valid/images/283_0.png\n",
            "True\n"
          ]
        },
        {
          "output_type": "stream",
          "name": "stderr",
          "text": [
            " 66%|██████▌   | 40/61 [00:10<00:04,  4.54it/s]"
          ]
        },
        {
          "output_type": "stream",
          "name": "stdout",
          "text": [
            "dataset/aug/valid/images/424_0.png\n",
            "True\n",
            "dataset/aug/valid/images/126_0.png\n",
            "True\n"
          ]
        },
        {
          "output_type": "stream",
          "name": "stderr",
          "text": [
            "\r 67%|██████▋   | 41/61 [00:11<00:04,  4.52it/s]"
          ]
        },
        {
          "output_type": "stream",
          "name": "stdout",
          "text": [
            "dataset/aug/valid/images/61_0.png\n",
            "True\n"
          ]
        },
        {
          "output_type": "stream",
          "name": "stderr",
          "text": [
            "\r 69%|██████▉   | 42/61 [00:11<00:04,  4.41it/s]"
          ]
        },
        {
          "output_type": "stream",
          "name": "stdout",
          "text": [
            "dataset/aug/valid/images/504_0.png\n",
            "True\n"
          ]
        },
        {
          "output_type": "stream",
          "name": "stderr",
          "text": [
            "\r 70%|███████   | 43/61 [00:11<00:04,  4.08it/s]"
          ]
        },
        {
          "output_type": "stream",
          "name": "stdout",
          "text": [
            "dataset/aug/valid/images/441_0.png\n",
            "True\n"
          ]
        },
        {
          "output_type": "stream",
          "name": "stderr",
          "text": [
            "\r 72%|███████▏  | 44/61 [00:11<00:04,  4.25it/s]"
          ]
        },
        {
          "output_type": "stream",
          "name": "stdout",
          "text": [
            "dataset/aug/valid/images/419_0.png\n",
            "True\n"
          ]
        },
        {
          "output_type": "stream",
          "name": "stderr",
          "text": [
            "\r 74%|███████▍  | 45/61 [00:12<00:03,  4.04it/s]"
          ]
        },
        {
          "output_type": "stream",
          "name": "stdout",
          "text": [
            "dataset/aug/valid/images/190_0.png\n",
            "True\n"
          ]
        },
        {
          "output_type": "stream",
          "name": "stderr",
          "text": [
            "\r 75%|███████▌  | 46/61 [00:12<00:03,  4.03it/s]"
          ]
        },
        {
          "output_type": "stream",
          "name": "stdout",
          "text": [
            "dataset/aug/valid/images/96_0.png\n",
            "True\n"
          ]
        },
        {
          "output_type": "stream",
          "name": "stderr",
          "text": [
            "\r 77%|███████▋  | 47/61 [00:12<00:03,  4.01it/s]"
          ]
        },
        {
          "output_type": "stream",
          "name": "stdout",
          "text": [
            "dataset/aug/valid/images/275_0.png\n",
            "True\n"
          ]
        },
        {
          "output_type": "stream",
          "name": "stderr",
          "text": [
            "\r 79%|███████▊  | 48/61 [00:12<00:03,  4.25it/s]"
          ]
        },
        {
          "output_type": "stream",
          "name": "stdout",
          "text": [
            "dataset/aug/valid/images/319_0.png\n",
            "True\n"
          ]
        },
        {
          "output_type": "stream",
          "name": "stderr",
          "text": [
            "\r 80%|████████  | 49/61 [00:12<00:02,  4.21it/s]"
          ]
        },
        {
          "output_type": "stream",
          "name": "stdout",
          "text": [
            "dataset/aug/valid/images/162_0.png\n",
            "True\n"
          ]
        },
        {
          "output_type": "stream",
          "name": "stderr",
          "text": [
            "\r 82%|████████▏ | 50/61 [00:13<00:03,  3.37it/s]"
          ]
        },
        {
          "output_type": "stream",
          "name": "stdout",
          "text": [
            "dataset/aug/valid/images/31_0.png\n",
            "True\n"
          ]
        },
        {
          "output_type": "stream",
          "name": "stderr",
          "text": [
            " 85%|████████▌ | 52/61 [00:13<00:02,  3.95it/s]"
          ]
        },
        {
          "output_type": "stream",
          "name": "stdout",
          "text": [
            "dataset/aug/valid/images/556_0.png\n",
            "True\n",
            "dataset/aug/valid/images/237_0.png\n",
            "True\n"
          ]
        },
        {
          "output_type": "stream",
          "name": "stderr",
          "text": [
            "\r 87%|████████▋ | 53/61 [00:14<00:02,  3.99it/s]"
          ]
        },
        {
          "output_type": "stream",
          "name": "stdout",
          "text": [
            "dataset/aug/valid/images/232_0.png\n",
            "True\n"
          ]
        },
        {
          "output_type": "stream",
          "name": "stderr",
          "text": [
            "\r 89%|████████▊ | 54/61 [00:14<00:02,  3.36it/s]"
          ]
        },
        {
          "output_type": "stream",
          "name": "stdout",
          "text": [
            "dataset/aug/valid/images/173_0.png\n",
            "True\n"
          ]
        },
        {
          "output_type": "stream",
          "name": "stderr",
          "text": [
            "\r 90%|█████████ | 55/61 [00:14<00:01,  3.30it/s]"
          ]
        },
        {
          "output_type": "stream",
          "name": "stdout",
          "text": [
            "dataset/aug/valid/images/544_0.png\n",
            "True\n"
          ]
        },
        {
          "output_type": "stream",
          "name": "stderr",
          "text": [
            "\r 92%|█████████▏| 56/61 [00:15<00:01,  3.57it/s]"
          ]
        },
        {
          "output_type": "stream",
          "name": "stdout",
          "text": [
            "dataset/aug/valid/images/307_0.png\n",
            "True\n"
          ]
        },
        {
          "output_type": "stream",
          "name": "stderr",
          "text": [
            "\r 93%|█████████▎| 57/61 [00:15<00:01,  3.81it/s]"
          ]
        },
        {
          "output_type": "stream",
          "name": "stdout",
          "text": [
            "dataset/aug/valid/images/95_0.png\n",
            "True\n"
          ]
        },
        {
          "output_type": "stream",
          "name": "stderr",
          "text": [
            "\r 95%|█████████▌| 58/61 [00:15<00:00,  4.06it/s]"
          ]
        },
        {
          "output_type": "stream",
          "name": "stdout",
          "text": [
            "dataset/aug/valid/images/340_0.png\n",
            "True\n"
          ]
        },
        {
          "output_type": "stream",
          "name": "stderr",
          "text": [
            "\r 97%|█████████▋| 59/61 [00:15<00:00,  4.05it/s]"
          ]
        },
        {
          "output_type": "stream",
          "name": "stdout",
          "text": [
            "dataset/aug/valid/images/125_0.png\n",
            "True\n"
          ]
        },
        {
          "output_type": "stream",
          "name": "stderr",
          "text": [
            "\r 98%|█████████▊| 60/61 [00:15<00:00,  4.18it/s]"
          ]
        },
        {
          "output_type": "stream",
          "name": "stdout",
          "text": [
            "dataset/aug/valid/images/565_0.png\n",
            "True\n"
          ]
        },
        {
          "output_type": "stream",
          "name": "stderr",
          "text": [
            "100%|██████████| 61/61 [00:16<00:00,  3.77it/s]\n"
          ]
        },
        {
          "output_type": "stream",
          "name": "stdout",
          "text": [
            "dataset/aug/valid/images/29_0.png\n",
            "True\n"
          ]
        },
        {
          "output_type": "stream",
          "name": "stderr",
          "text": [
            "  2%|▏         | 1/61 [00:00<00:14,  4.02it/s]"
          ]
        },
        {
          "output_type": "stream",
          "name": "stdout",
          "text": [
            "dataset/aug/test/images/163_0.png\n",
            "True\n"
          ]
        },
        {
          "output_type": "stream",
          "name": "stderr",
          "text": [
            "\r  3%|▎         | 2/61 [00:00<00:13,  4.24it/s]"
          ]
        },
        {
          "output_type": "stream",
          "name": "stdout",
          "text": [
            "dataset/aug/test/images/288_0.png\n",
            "True\n",
            "dataset/aug/test/images/536_0.png\n"
          ]
        },
        {
          "output_type": "stream",
          "name": "stderr",
          "text": [
            "  7%|▋         | 4/61 [00:00<00:11,  4.90it/s]"
          ]
        },
        {
          "output_type": "stream",
          "name": "stdout",
          "text": [
            "True\n",
            "dataset/aug/test/images/269_0.png\n",
            "True\n"
          ]
        },
        {
          "output_type": "stream",
          "name": "stderr",
          "text": [
            "\r  8%|▊         | 5/61 [00:01<00:13,  4.00it/s]"
          ]
        },
        {
          "output_type": "stream",
          "name": "stdout",
          "text": [
            "dataset/aug/test/images/286_0.png\n",
            "True\n"
          ]
        },
        {
          "output_type": "stream",
          "name": "stderr",
          "text": [
            "\r 10%|▉         | 6/61 [00:01<00:12,  4.29it/s]"
          ]
        },
        {
          "output_type": "stream",
          "name": "stdout",
          "text": [
            "dataset/aug/test/images/88_0.png\n",
            "True\n"
          ]
        },
        {
          "output_type": "stream",
          "name": "stderr",
          "text": [
            "\r 11%|█▏        | 7/61 [00:01<00:13,  4.05it/s]"
          ]
        },
        {
          "output_type": "stream",
          "name": "stdout",
          "text": [
            "dataset/aug/test/images/457_0.png\n",
            "True\n"
          ]
        },
        {
          "output_type": "stream",
          "name": "stderr",
          "text": [
            "\r 13%|█▎        | 8/61 [00:01<00:12,  4.27it/s]"
          ]
        },
        {
          "output_type": "stream",
          "name": "stdout",
          "text": [
            "dataset/aug/test/images/267_0.png\n",
            "True\n"
          ]
        },
        {
          "output_type": "stream",
          "name": "stderr",
          "text": [
            "\r 15%|█▍        | 9/61 [00:02<00:12,  4.12it/s]"
          ]
        },
        {
          "output_type": "stream",
          "name": "stdout",
          "text": [
            "dataset/aug/test/images/92_0.png\n",
            "True\n"
          ]
        },
        {
          "output_type": "stream",
          "name": "stderr",
          "text": [
            "\r 16%|█▋        | 10/61 [00:02<00:12,  4.14it/s]"
          ]
        },
        {
          "output_type": "stream",
          "name": "stdout",
          "text": [
            "dataset/aug/test/images/489_0.png\n",
            "True\n"
          ]
        },
        {
          "output_type": "stream",
          "name": "stderr",
          "text": [
            "\r 18%|█▊        | 11/61 [00:02<00:12,  3.98it/s]"
          ]
        },
        {
          "output_type": "stream",
          "name": "stdout",
          "text": [
            "dataset/aug/test/images/85_0.png\n",
            "True\n"
          ]
        },
        {
          "output_type": "stream",
          "name": "stderr",
          "text": [
            "\r 20%|█▉        | 12/61 [00:02<00:12,  3.84it/s]"
          ]
        },
        {
          "output_type": "stream",
          "name": "stdout",
          "text": [
            "dataset/aug/test/images/60_0.png\n",
            "True\n"
          ]
        },
        {
          "output_type": "stream",
          "name": "stderr",
          "text": [
            "\r 21%|██▏       | 13/61 [00:03<00:12,  3.70it/s]"
          ]
        },
        {
          "output_type": "stream",
          "name": "stdout",
          "text": [
            "dataset/aug/test/images/537_0.png\n",
            "True\n"
          ]
        },
        {
          "output_type": "stream",
          "name": "stderr",
          "text": [
            "\r 23%|██▎       | 14/61 [00:03<00:12,  3.89it/s]"
          ]
        },
        {
          "output_type": "stream",
          "name": "stdout",
          "text": [
            "dataset/aug/test/images/113_0.png\n",
            "True\n"
          ]
        },
        {
          "output_type": "stream",
          "name": "stderr",
          "text": [
            "\r 25%|██▍       | 15/61 [00:03<00:12,  3.67it/s]"
          ]
        },
        {
          "output_type": "stream",
          "name": "stdout",
          "text": [
            "dataset/aug/test/images/490_0.png\n",
            "True\n"
          ]
        },
        {
          "output_type": "stream",
          "name": "stderr",
          "text": [
            "\r 26%|██▌       | 16/61 [00:03<00:11,  3.99it/s]"
          ]
        },
        {
          "output_type": "stream",
          "name": "stdout",
          "text": [
            "dataset/aug/test/images/263_0.png\n",
            "True\n",
            "dataset/aug/test/images/526_0.png\n",
            "True"
          ]
        },
        {
          "output_type": "stream",
          "name": "stderr",
          "text": [
            "\r 28%|██▊       | 17/61 [00:04<00:10,  4.31it/s]"
          ]
        },
        {
          "output_type": "stream",
          "name": "stdout",
          "text": [
            "\n"
          ]
        },
        {
          "output_type": "stream",
          "name": "stderr",
          "text": [
            "\r 30%|██▉       | 18/61 [00:04<00:12,  3.39it/s]"
          ]
        },
        {
          "output_type": "stream",
          "name": "stdout",
          "text": [
            "dataset/aug/test/images/265_0.png\n",
            "True\n"
          ]
        },
        {
          "output_type": "stream",
          "name": "stderr",
          "text": [
            "\r 31%|███       | 19/61 [00:04<00:11,  3.58it/s]"
          ]
        },
        {
          "output_type": "stream",
          "name": "stdout",
          "text": [
            "dataset/aug/test/images/474_0.png\n",
            "True\n"
          ]
        },
        {
          "output_type": "stream",
          "name": "stderr",
          "text": [
            "\r 33%|███▎      | 20/61 [00:05<00:10,  3.81it/s]"
          ]
        },
        {
          "output_type": "stream",
          "name": "stdout",
          "text": [
            "dataset/aug/test/images/311_0.png\n",
            "True\n"
          ]
        },
        {
          "output_type": "stream",
          "name": "stderr",
          "text": [
            "\r 34%|███▍      | 21/61 [00:05<00:12,  3.09it/s]"
          ]
        },
        {
          "output_type": "stream",
          "name": "stdout",
          "text": [
            "dataset/aug/test/images/295_0.png\n",
            "True\n"
          ]
        },
        {
          "output_type": "stream",
          "name": "stderr",
          "text": [
            "\r 36%|███▌      | 22/61 [00:05<00:11,  3.31it/s]"
          ]
        },
        {
          "output_type": "stream",
          "name": "stdout",
          "text": [
            "dataset/aug/test/images/78_0.png\n",
            "True\n"
          ]
        },
        {
          "output_type": "stream",
          "name": "stderr",
          "text": [
            "\r 38%|███▊      | 23/61 [00:06<00:11,  3.34it/s]"
          ]
        },
        {
          "output_type": "stream",
          "name": "stdout",
          "text": [
            "dataset/aug/test/images/99_0.png\n",
            "True\n"
          ]
        },
        {
          "output_type": "stream",
          "name": "stderr",
          "text": [
            "\r 39%|███▉      | 24/61 [00:06<00:10,  3.69it/s]"
          ]
        },
        {
          "output_type": "stream",
          "name": "stdout",
          "text": [
            "dataset/aug/test/images/478_0.png\n",
            "True\n"
          ]
        },
        {
          "output_type": "stream",
          "name": "stderr",
          "text": [
            "\r 41%|████      | 25/61 [00:06<00:10,  3.50it/s]"
          ]
        },
        {
          "output_type": "stream",
          "name": "stdout",
          "text": [
            "dataset/aug/test/images/62_0.png\n",
            "True\n"
          ]
        },
        {
          "output_type": "stream",
          "name": "stderr",
          "text": [
            "\r 43%|████▎     | 26/61 [00:06<00:09,  3.78it/s]"
          ]
        },
        {
          "output_type": "stream",
          "name": "stdout",
          "text": [
            "dataset/aug/test/images/222_0.png\n",
            "True\n"
          ]
        },
        {
          "output_type": "stream",
          "name": "stderr",
          "text": [
            "\r 44%|████▍     | 27/61 [00:07<00:08,  4.05it/s]"
          ]
        },
        {
          "output_type": "stream",
          "name": "stdout",
          "text": [
            "dataset/aug/test/images/336_0.png\n",
            "True\n"
          ]
        },
        {
          "output_type": "stream",
          "name": "stderr",
          "text": [
            "\r 46%|████▌     | 28/61 [00:07<00:07,  4.17it/s]"
          ]
        },
        {
          "output_type": "stream",
          "name": "stdout",
          "text": [
            "dataset/aug/test/images/182_0.png\n",
            "True\n"
          ]
        },
        {
          "output_type": "stream",
          "name": "stderr",
          "text": [
            "\r 48%|████▊     | 29/61 [00:07<00:07,  4.17it/s]"
          ]
        },
        {
          "output_type": "stream",
          "name": "stdout",
          "text": [
            "dataset/aug/test/images/247_0.png\n",
            "True\n",
            "dataset/aug/test/images/584_0.png\n"
          ]
        },
        {
          "output_type": "stream",
          "name": "stderr",
          "text": [
            "\r 49%|████▉     | 30/61 [00:07<00:07,  4.35it/s]"
          ]
        },
        {
          "output_type": "stream",
          "name": "stdout",
          "text": [
            "True\n"
          ]
        },
        {
          "output_type": "stream",
          "name": "stderr",
          "text": [
            "\r 51%|█████     | 31/61 [00:07<00:06,  4.34it/s]"
          ]
        },
        {
          "output_type": "stream",
          "name": "stdout",
          "text": [
            "dataset/aug/test/images/448_0.png\n",
            "True\n"
          ]
        },
        {
          "output_type": "stream",
          "name": "stderr",
          "text": [
            "\r 52%|█████▏    | 32/61 [00:08<00:07,  4.11it/s]"
          ]
        },
        {
          "output_type": "stream",
          "name": "stdout",
          "text": [
            "dataset/aug/test/images/338_0.png\n",
            "True\n"
          ]
        },
        {
          "output_type": "stream",
          "name": "stderr",
          "text": [
            "\r 54%|█████▍    | 33/61 [00:08<00:06,  4.28it/s]"
          ]
        },
        {
          "output_type": "stream",
          "name": "stdout",
          "text": [
            "dataset/aug/test/images/374_0.png\n",
            "True\n"
          ]
        },
        {
          "output_type": "stream",
          "name": "stderr",
          "text": [
            "\r 56%|█████▌    | 34/61 [00:08<00:07,  3.54it/s]"
          ]
        },
        {
          "output_type": "stream",
          "name": "stdout",
          "text": [
            "dataset/aug/test/images/251_0.png\n",
            "True\n"
          ]
        },
        {
          "output_type": "stream",
          "name": "stderr",
          "text": [
            "\r 57%|█████▋    | 35/61 [00:09<00:06,  3.80it/s]"
          ]
        },
        {
          "output_type": "stream",
          "name": "stdout",
          "text": [
            "dataset/aug/test/images/321_0.png\n",
            "True\n"
          ]
        },
        {
          "output_type": "stream",
          "name": "stderr",
          "text": [
            "\r 59%|█████▉    | 36/61 [00:09<00:06,  3.86it/s]"
          ]
        },
        {
          "output_type": "stream",
          "name": "stdout",
          "text": [
            "dataset/aug/test/images/436_0.png\n",
            "True\n"
          ]
        },
        {
          "output_type": "stream",
          "name": "stderr",
          "text": [
            "\r 61%|██████    | 37/61 [00:09<00:06,  3.86it/s]"
          ]
        },
        {
          "output_type": "stream",
          "name": "stdout",
          "text": [
            "dataset/aug/test/images/130_0.png\n",
            "True\n"
          ]
        },
        {
          "output_type": "stream",
          "name": "stderr",
          "text": [
            " 64%|██████▍   | 39/61 [00:09<00:05,  4.33it/s]"
          ]
        },
        {
          "output_type": "stream",
          "name": "stdout",
          "text": [
            "dataset/aug/test/images/378_0.png\n",
            "True\n",
            "dataset/aug/test/images/612_0.png\n",
            "True\n"
          ]
        },
        {
          "output_type": "stream",
          "name": "stderr",
          "text": [
            "\r 66%|██████▌   | 40/61 [00:10<00:04,  4.45it/s]"
          ]
        },
        {
          "output_type": "stream",
          "name": "stdout",
          "text": [
            "dataset/aug/test/images/175_0.png\n",
            "True\n"
          ]
        },
        {
          "output_type": "stream",
          "name": "stderr",
          "text": [
            "\r 67%|██████▋   | 41/61 [00:10<00:04,  4.49it/s]"
          ]
        },
        {
          "output_type": "stream",
          "name": "stdout",
          "text": [
            "dataset/aug/test/images/230_0.png\n",
            "True\n"
          ]
        },
        {
          "output_type": "stream",
          "name": "stderr",
          "text": [
            "\r 69%|██████▉   | 42/61 [00:10<00:04,  4.49it/s]"
          ]
        },
        {
          "output_type": "stream",
          "name": "stdout",
          "text": [
            "dataset/aug/test/images/86_0.png\n",
            "True\n"
          ]
        },
        {
          "output_type": "stream",
          "name": "stderr",
          "text": [
            "\r 70%|███████   | 43/61 [00:10<00:04,  4.09it/s]"
          ]
        },
        {
          "output_type": "stream",
          "name": "stdout",
          "text": [
            "dataset/aug/test/images/27_0.png\n",
            "True\n"
          ]
        },
        {
          "output_type": "stream",
          "name": "stderr",
          "text": [
            "\r 72%|███████▏  | 44/61 [00:11<00:04,  3.79it/s]"
          ]
        },
        {
          "output_type": "stream",
          "name": "stdout",
          "text": [
            "dataset/aug/test/images/349_0.png\n",
            "True\n"
          ]
        },
        {
          "output_type": "stream",
          "name": "stderr",
          "text": [
            "\r 74%|███████▍  | 45/61 [00:11<00:04,  3.99it/s]"
          ]
        },
        {
          "output_type": "stream",
          "name": "stdout",
          "text": [
            "dataset/aug/test/images/176_0.png\n",
            "True\n"
          ]
        },
        {
          "output_type": "stream",
          "name": "stderr",
          "text": [
            "\r 75%|███████▌  | 46/61 [00:11<00:03,  4.14it/s]"
          ]
        },
        {
          "output_type": "stream",
          "name": "stdout",
          "text": [
            "dataset/aug/test/images/277_0.png\n",
            "True\n"
          ]
        },
        {
          "output_type": "stream",
          "name": "stderr",
          "text": [
            "\r 77%|███████▋  | 47/61 [00:11<00:03,  4.05it/s]"
          ]
        },
        {
          "output_type": "stream",
          "name": "stdout",
          "text": [
            "dataset/aug/test/images/518_0.png\n",
            "True\n"
          ]
        },
        {
          "output_type": "stream",
          "name": "stderr",
          "text": [
            "\r 79%|███████▊  | 48/61 [00:12<00:03,  4.28it/s]"
          ]
        },
        {
          "output_type": "stream",
          "name": "stdout",
          "text": [
            "dataset/aug/test/images/264_0.png\n",
            "True\n"
          ]
        },
        {
          "output_type": "stream",
          "name": "stderr",
          "text": [
            "\r 80%|████████  | 49/61 [00:12<00:02,  4.20it/s]"
          ]
        },
        {
          "output_type": "stream",
          "name": "stdout",
          "text": [
            "dataset/aug/test/images/195_0.png\n",
            "True\n"
          ]
        },
        {
          "output_type": "stream",
          "name": "stderr",
          "text": [
            "\r 82%|████████▏ | 50/61 [00:12<00:03,  3.60it/s]"
          ]
        },
        {
          "output_type": "stream",
          "name": "stdout",
          "text": [
            "dataset/aug/test/images/390_0.png\n",
            "True\n"
          ]
        },
        {
          "output_type": "stream",
          "name": "stderr",
          "text": [
            " 85%|████████▌ | 52/61 [00:13<00:02,  3.60it/s]"
          ]
        },
        {
          "output_type": "stream",
          "name": "stdout",
          "text": [
            "dataset/aug/test/images/498_0.png\n",
            "True\n",
            "dataset/aug/test/images/372_0.png\n",
            "True\n"
          ]
        },
        {
          "output_type": "stream",
          "name": "stderr",
          "text": [
            "\r 87%|████████▋ | 53/61 [00:13<00:02,  3.61it/s]"
          ]
        },
        {
          "output_type": "stream",
          "name": "stdout",
          "text": [
            "dataset/aug/test/images/330_0.png\n",
            "True\n"
          ]
        },
        {
          "output_type": "stream",
          "name": "stderr",
          "text": [
            "\r 89%|████████▊ | 54/61 [00:13<00:01,  3.87it/s]"
          ]
        },
        {
          "output_type": "stream",
          "name": "stdout",
          "text": [
            "dataset/aug/test/images/297_0.png\n",
            "True\n"
          ]
        },
        {
          "output_type": "stream",
          "name": "stderr",
          "text": [
            "\r 90%|█████████ | 55/61 [00:14<00:01,  3.59it/s]"
          ]
        },
        {
          "output_type": "stream",
          "name": "stdout",
          "text": [
            "dataset/aug/test/images/107_0.png\n",
            "True\n"
          ]
        },
        {
          "output_type": "stream",
          "name": "stderr",
          "text": [
            "\r 92%|█████████▏| 56/61 [00:14<00:01,  3.74it/s]"
          ]
        },
        {
          "output_type": "stream",
          "name": "stdout",
          "text": [
            "dataset/aug/test/images/451_0.png\n",
            "True\n"
          ]
        },
        {
          "output_type": "stream",
          "name": "stderr",
          "text": [
            "\r 93%|█████████▎| 57/61 [00:14<00:00,  4.01it/s]"
          ]
        },
        {
          "output_type": "stream",
          "name": "stdout",
          "text": [
            "dataset/aug/test/images/331_0.png\n",
            "True\n",
            "dataset/aug/test/images/236_0.png\n"
          ]
        },
        {
          "output_type": "stream",
          "name": "stderr",
          "text": [
            "\r 95%|█████████▌| 58/61 [00:14<00:00,  4.24it/s]"
          ]
        },
        {
          "output_type": "stream",
          "name": "stdout",
          "text": [
            "True\n"
          ]
        },
        {
          "output_type": "stream",
          "name": "stderr",
          "text": [
            " 98%|█████████▊| 60/61 [00:15<00:00,  4.39it/s]"
          ]
        },
        {
          "output_type": "stream",
          "name": "stdout",
          "text": [
            "dataset/aug/test/images/352_0.png\n",
            "True\n",
            "dataset/aug/test/images/610_0.png\n",
            "True\n"
          ]
        },
        {
          "output_type": "stream",
          "name": "stderr",
          "text": [
            "100%|██████████| 61/61 [00:15<00:00,  3.92it/s]"
          ]
        },
        {
          "output_type": "stream",
          "name": "stdout",
          "text": [
            "dataset/aug/test/images/487_0.png\n",
            "True\n"
          ]
        },
        {
          "output_type": "stream",
          "name": "stderr",
          "text": [
            "\n"
          ]
        },
        {
          "output_type": "display_data",
          "data": {
            "text/plain": [
              "<Figure size 640x480 with 0 Axes>"
            ]
          },
          "metadata": {}
        }
      ]
    }
  ]
}